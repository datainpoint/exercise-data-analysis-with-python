{
 "cells": [
  {
   "cell_type": "markdown",
   "metadata": {
    "slideshow": {
     "slide_type": "slide"
    }
   },
   "source": [
    "# Data Analysis with Python\n",
    "\n",
    "> Web Scraping with Python: Transferring Data\n",
    "\n",
    "Kuo, Yao-Jen <yaojenkuo@datainpoint.com> from [DATAINPOINT](https://www.datainpoint.com/)"
   ]
  },
  {
   "cell_type": "markdown",
   "metadata": {
    "slideshow": {
     "slide_type": "slide"
    }
   },
   "source": [
    "## About web scraping"
   ]
  },
  {
   "cell_type": "markdown",
   "metadata": {
    "slideshow": {
     "slide_type": "subslide"
    }
   },
   "source": [
    "## What is web scraping?\n",
    "\n",
    "> Web scraping is extracting data directly from World Wide Web directly using the Hypertext Transfer Protocol(HTTP). While web scraping can be done manually by a human(via a browser.) The term typically refers to automated processes implemented using a bot or web crawler. It is a form of copying, in which specific data is gathered and copied from the web, typically into a central local database or spreadsheet, for later retrieval or analysis.\n",
    "\n",
    "Source: <https://en.wikipedia.org/wiki/Web_scraping>"
   ]
  },
  {
   "cell_type": "markdown",
   "metadata": {
    "slideshow": {
     "slide_type": "subslide"
    }
   },
   "source": [
    "## Core missions involved in web scraping\n",
    "\n",
    "- Transferring data\n",
    "- Parsing data"
   ]
  },
  {
   "cell_type": "markdown",
   "metadata": {
    "slideshow": {
     "slide_type": "subslide"
    }
   },
   "source": [
    "## What is transferring data?\n",
    "\n",
    "Trasferring data is the underlying network protocol between a browser(or a web scraping script) and a server that enables exchange of hypermedia documents on the Web. The technical term for transferring data is the **HyperText Transfer Protocol (HTTP)**."
   ]
  },
  {
   "cell_type": "markdown",
   "metadata": {
    "slideshow": {
     "slide_type": "subslide"
    }
   },
   "source": [
    "## 2 ways involved in transferring data\n",
    "\n",
    "1. To a server: requesting data\n",
    "2. From a server: responding data"
   ]
  },
  {
   "cell_type": "markdown",
   "metadata": {
    "slideshow": {
     "slide_type": "subslide"
    }
   },
   "source": [
    "## Types of HTTP request methods to a server involved in web scraping\n",
    "\n",
    "- GET method\n",
    "- POST method"
   ]
  },
  {
   "cell_type": "markdown",
   "metadata": {
    "slideshow": {
     "slide_type": "subslide"
    }
   },
   "source": [
    "## What is a GET method?\n",
    "\n",
    "> The GET method requests a representation of the specified resource, e.g. viewing an Instagram photo."
   ]
  },
  {
   "cell_type": "markdown",
   "metadata": {
    "slideshow": {
     "slide_type": "subslide"
    }
   },
   "source": [
    "## What is a POST method?\n",
    "\n",
    "> The POST method is used to submit an entity to the specified resource, often causing a change in state or side effects on the server, e.g. sharing a photo on Instagram."
   ]
  },
  {
   "cell_type": "markdown",
   "metadata": {
    "slideshow": {
     "slide_type": "subslide"
    }
   },
   "source": [
    "## To transfer data between browser and server looks simple and straight-forward\n",
    "\n",
    "- We enter a Uniform Resource Locator(URL).\n",
    "- We fill a form then submit.\n",
    "- We interact with abundant user-interface components.\n",
    "- ...etc."
   ]
  },
  {
   "cell_type": "markdown",
   "metadata": {
    "slideshow": {
     "slide_type": "slide"
    }
   },
   "source": [
    "## Developer tools"
   ]
  },
  {
   "cell_type": "markdown",
   "metadata": {
    "slideshow": {
     "slide_type": "subslide"
    }
   },
   "source": [
    "## We can actually see the process of transferring data via the developer tools of a browser\n",
    "\n",
    "> A set of web developer tools built directly into the browser. It can help us edit pages on-the-fly and diagnose problems quickly, which ultimately helps us build better websites, faster."
   ]
  },
  {
   "cell_type": "markdown",
   "metadata": {
    "slideshow": {
     "slide_type": "subslide"
    }
   },
   "source": [
    "![Imgur](https://i.imgur.com/3Synk8m.png?1)"
   ]
  },
  {
   "cell_type": "markdown",
   "metadata": {
    "slideshow": {
     "slide_type": "subslide"
    }
   },
   "source": [
    "## We use Network to see the details of data transfer\n",
    "\n",
    "1. Open Developer Tools.\n",
    "2. Click Network.\n",
    "3. Refresh website."
   ]
  },
  {
   "cell_type": "markdown",
   "metadata": {
    "slideshow": {
     "slide_type": "subslide"
    }
   },
   "source": [
    "![Imgur](https://i.imgur.com/OG0Huwj.png?1)"
   ]
  },
  {
   "cell_type": "markdown",
   "metadata": {
    "slideshow": {
     "slide_type": "subslide"
    }
   },
   "source": [
    "## Each data(file) is a complete process of request and response\n",
    "\n",
    "- Request\n",
    "    - Headers\n",
    "    - Method\n",
    "- Response\n",
    "    - Headers\n",
    "    - Body"
   ]
  },
  {
   "cell_type": "markdown",
   "metadata": {
    "slideshow": {
     "slide_type": "subslide"
    }
   },
   "source": [
    "## There is a lot of data transferring during web page rendering\n",
    "\n",
    "- **XHR(XMLHttpRequest)**\n",
    "- JS\n",
    "- CSS\n",
    "- Img\n",
    "- Media\n",
    "- Font\n",
    "- **Doc(HTML documents)**\n",
    "- WS\n",
    "- Manifest\n",
    "- Other"
   ]
  },
  {
   "cell_type": "markdown",
   "metadata": {
    "slideshow": {
     "slide_type": "subslide"
    }
   },
   "source": [
    "## We can turn off browser's JavaScript to validate where to find the data\n",
    "\n",
    "- If data disappears, check **XHR**.\n",
    "- If data still exists, check **Doc**."
   ]
  },
  {
   "cell_type": "markdown",
   "metadata": {
    "slideshow": {
     "slide_type": "subslide"
    }
   },
   "source": [
    "## A Chrome browser plug-in to turn JavaScript off\n",
    "\n",
    "<https://chrome.google.com/webstore/detail/quick-javascript-switcher/geddoclleiomckbhadiaipdggiiccfje>"
   ]
  },
  {
   "cell_type": "markdown",
   "metadata": {
    "slideshow": {
     "slide_type": "subslide"
    }
   },
   "source": [
    "## Let's see how it works\n",
    "\n",
    "- <https://ecshweb.pchome.com.tw/search/v3.3/>: Data disappears, check **XHR**.\n",
    "- <https://emap.pcsc.com.tw/>: Data disappears, check **XHR**.\n",
    "- <https://www.imdb.com/>: Data still exists, check **Doc**."
   ]
  },
  {
   "cell_type": "markdown",
   "metadata": {
    "slideshow": {
     "slide_type": "subslide"
    }
   },
   "source": [
    "## Once we've found what we need, check its details\n",
    "\n",
    "- Headers\n",
    "    - General\n",
    "    - Response Headers\n",
    "    - Request Headers\n",
    "    - Query String Parameters(if any)\n",
    "    - Form Data(if any)\n",
    "- Preview(Response body rendered in browser)\n",
    "- Response(body)\n",
    "- Cookies(if any)"
   ]
  },
  {
   "cell_type": "markdown",
   "metadata": {
    "slideshow": {
     "slide_type": "subslide"
    }
   },
   "source": [
    "![Imgur](https://i.imgur.com/cTva78r.png?1)"
   ]
  },
  {
   "cell_type": "markdown",
   "metadata": {
    "slideshow": {
     "slide_type": "subslide"
    }
   },
   "source": [
    "![Imgur](https://i.imgur.com/LMVp0m7.png?1)"
   ]
  },
  {
   "cell_type": "markdown",
   "metadata": {
    "slideshow": {
     "slide_type": "subslide"
    }
   },
   "source": [
    "## But how do we transfer data between Python and server?\n",
    "\n",
    "We use a third-party library called [Requests](https://requests.readthedocs.io/en/master/)."
   ]
  },
  {
   "cell_type": "markdown",
   "metadata": {
    "slideshow": {
     "slide_type": "slide"
    }
   },
   "source": [
    "## Requests"
   ]
  },
  {
   "cell_type": "markdown",
   "metadata": {
    "slideshow": {
     "slide_type": "subslide"
    }
   },
   "source": [
    "## What is Requests?\n",
    "\n",
    "> Requests is an elegant and simple HTTP library for Python, built for human being.\n",
    "\n",
    "Source: <https://requests.readthedocs.io/en/master/>"
   ]
  },
  {
   "cell_type": "code",
   "execution_count": 1,
   "metadata": {},
   "outputs": [],
   "source": [
    "import requests"
   ]
  },
  {
   "cell_type": "markdown",
   "metadata": {
    "slideshow": {
     "slide_type": "subslide"
    }
   },
   "source": [
    "## If Requests is not installed, we will encounter a `ModuleNotFoundError`\n",
    "\n",
    "```\n",
    "Traceback (most recent call last):\n",
    "  File \"<stdin>\", line 1, in <module>\n",
    "ModuleNotFoundError: No module named 'requests'\n",
    "```"
   ]
  },
  {
   "cell_type": "markdown",
   "metadata": {
    "slideshow": {
     "slide_type": "subslide"
    }
   },
   "source": [
    "## Use `pip install` at Terminal to install Requests\n",
    "\n",
    "```bash\n",
    "pip install requests\n",
    "```"
   ]
  },
  {
   "cell_type": "markdown",
   "metadata": {
    "slideshow": {
     "slide_type": "subslide"
    }
   },
   "source": [
    "## Check version and its installation file path\n",
    "\n",
    "- `__version__` attribute\n",
    "- `__file__` attribute"
   ]
  },
  {
   "cell_type": "code",
   "execution_count": 2,
   "metadata": {},
   "outputs": [
    {
     "name": "stdout",
     "output_type": "stream",
     "text": [
      "2.23.0\n",
      "/Users/kuoyaojen/pyda/lib/python3.6/site-packages/requests/__init__.py\n"
     ]
    }
   ],
   "source": [
    "print(requests.__version__)\n",
    "print(requests.__file__)"
   ]
  },
  {
   "cell_type": "markdown",
   "metadata": {
    "slideshow": {
     "slide_type": "subslide"
    }
   },
   "source": [
    "## Requesting data with functions\n",
    "\n",
    "- `requests.get(request_url, params=query_str_params)`: Make a request with GET method and a `query_str_params` to `request_url`.\n",
    "- `requests.post(request_url, data=form_data)`: Make a request with POST method and a `form_data` to `request_url`."
   ]
  },
  {
   "cell_type": "code",
   "execution_count": 3,
   "metadata": {
    "slideshow": {
     "slide_type": "subslide"
    }
   },
   "outputs": [],
   "source": [
    "request_url = \"https://ecshweb.pchome.com.tw/search/v3.3/all/results\"\n",
    "query_str_params = {\n",
    "    'q': 'macbook',\n",
    "    'page': 1,\n",
    "    'sort': 'rnk/dc'\n",
    "}\n",
    "response = requests.get(request_url, params=query_str_params)"
   ]
  },
  {
   "cell_type": "code",
   "execution_count": 4,
   "metadata": {
    "slideshow": {
     "slide_type": "subslide"
    }
   },
   "outputs": [],
   "source": [
    "request_url = \"https://emap.pcsc.com.tw/EMapSDK.aspx\"\n",
    "form_data = {\n",
    "    'commandid': 'SearchStore',\n",
    "    'city': '台北市',\n",
    "    'town': '大安區'\n",
    "}\n",
    "response = requests.post(request_url, data=form_data)"
   ]
  },
  {
   "cell_type": "code",
   "execution_count": 5,
   "metadata": {
    "slideshow": {
     "slide_type": "subslide"
    }
   },
   "outputs": [],
   "source": [
    "request_url = \"https://www.imdb.com/title/tt10048342\"\n",
    "response = requests.get(request_url)"
   ]
  },
  {
   "cell_type": "markdown",
   "metadata": {
    "slideshow": {
     "slide_type": "subslide"
    }
   },
   "source": [
    "## Common attributes and methods to use on `Response` type\n",
    "\n",
    "- `status_code` attribute to validate HTTP response status codes.\n",
    "- `text` attribute to extract the response content as a Python `str`.\n",
    "- `json()` method to parse a JSON format and convert to a Python data structure."
   ]
  },
  {
   "cell_type": "markdown",
   "metadata": {
    "slideshow": {
     "slide_type": "subslide"
    }
   },
   "source": [
    "## Next step: parsing data accordingly\n",
    "\n",
    "- JSON format: call `response.json()` method to generate a Python data structure.\n",
    "- XML format: use a parser to convert `response.text` to an `element.tree` class.\n",
    "- HTML format: use a parser to convert `response.text` to a `soup` class."
   ]
  }
 ],
 "metadata": {
  "celltoolbar": "Slideshow",
  "kernelspec": {
   "display_name": "Python Data Analysis",
   "language": "python",
   "name": "pyda"
  },
  "language_info": {
   "codemirror_mode": {
    "name": "ipython",
    "version": 3
   },
   "file_extension": ".py",
   "mimetype": "text/x-python",
   "name": "python",
   "nbconvert_exporter": "python",
   "pygments_lexer": "ipython3",
   "version": "3.6.8"
  }
 },
 "nbformat": 4,
 "nbformat_minor": 4
}
