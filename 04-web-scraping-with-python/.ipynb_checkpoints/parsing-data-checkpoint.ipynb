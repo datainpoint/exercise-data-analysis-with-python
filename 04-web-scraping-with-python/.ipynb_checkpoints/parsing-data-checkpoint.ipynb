{
 "cells": [
  {
   "cell_type": "markdown",
   "metadata": {
    "slideshow": {
     "slide_type": "slide"
    }
   },
   "source": [
    "# Data Analysis with Python\n",
    "\n",
    "> Web Scraping with Python: Parsing Data\n",
    "\n",
    "Kuo, Yao-Jen <yaojenkuo@datainpoint.com> from [DATAINPOINT](https://www.datainpoint.com/)"
   ]
  },
  {
   "cell_type": "code",
   "execution_count": 1,
   "metadata": {
    "slideshow": {
     "slide_type": "subslide"
    }
   },
   "outputs": [],
   "source": [
    "import requests\n",
    "import json\n",
    "import xml.etree.ElementTree as ET\n",
    "from bs4 import BeautifulSoup"
   ]
  },
  {
   "cell_type": "markdown",
   "metadata": {
    "slideshow": {
     "slide_type": "slide"
    }
   },
   "source": [
    "## About parsing data"
   ]
  },
  {
   "cell_type": "markdown",
   "metadata": {
    "slideshow": {
     "slide_type": "subslide"
    }
   },
   "source": [
    "## Core missions involved in web scraping\n",
    "\n",
    "- Transferring data\n",
    "- Parsing data"
   ]
  },
  {
   "cell_type": "markdown",
   "metadata": {
    "slideshow": {
     "slide_type": "subslide"
    }
   },
   "source": [
    "## Common attributes and methods to use on `Response` type\n",
    "\n",
    "- `status_code` attribute to validate HTTP response status codes.\n",
    "- `text` attribute to extract the response content as a Python `str`.\n",
    "- `json()` method to parse a JSON format and convert to a Python data structure."
   ]
  },
  {
   "cell_type": "markdown",
   "metadata": {
    "slideshow": {
     "slide_type": "subslide"
    }
   },
   "source": [
    "## Parsing data accordingly\n",
    "\n",
    "- JSON format: call `response.json()` method to generate a Python data structure.\n",
    "- XML format: use a parser to convert `response.text` to an `element.tree` class.\n",
    "- HTML format: use a parser to convert `response.text` to a `soup` class."
   ]
  },
  {
   "cell_type": "markdown",
   "metadata": {
    "slideshow": {
     "slide_type": "slide"
    }
   },
   "source": [
    "## JSON format"
   ]
  },
  {
   "cell_type": "markdown",
   "metadata": {
    "slideshow": {
     "slide_type": "subslide"
    }
   },
   "source": [
    "## What is JSON?\n",
    "\n",
    "> JavaScript Object Notation (JSON) is a standard text-based format for representing structured data based on JavaScript object syntax. It is commonly used for transmitting data in web applications (e.g., sending some data from the server to the client's browser, so it can be displayed on a web page, or vice versa).\n",
    "\n",
    "Source: [mozilla.org](https://developer.mozilla.org/en-US/docs/Learn/JavaScript/Objects/JSON)"
   ]
  },
  {
   "cell_type": "markdown",
   "metadata": {
    "slideshow": {
     "slide_type": "subslide"
    }
   },
   "source": [
    "## How to validate if a response belongs to JSON format?\n",
    "\n",
    "- Looking into Preview(Response body rendered in browser).\n",
    "- Looking into Response(body)."
   ]
  },
  {
   "cell_type": "markdown",
   "metadata": {
    "slideshow": {
     "slide_type": "subslide"
    }
   },
   "source": [
    "## JSON exists as a string\n",
    "\n",
    "- Key-Value Storage layout, quite similar to a Python `dict`.\n",
    "- Array layout, quite similar to a Python `list`."
   ]
  },
  {
   "cell_type": "markdown",
   "metadata": {
    "slideshow": {
     "slide_type": "subslide"
    }
   },
   "source": [
    "## Let's see how a JSON format looks like\n",
    "\n",
    "<https://ecshweb.pchome.com.tw/search/v3.3/>: Data disappears after turning JavaScript off, check **XHR**."
   ]
  },
  {
   "cell_type": "code",
   "execution_count": 2,
   "metadata": {
    "slideshow": {
     "slide_type": "-"
    }
   },
   "outputs": [],
   "source": [
    "request_url = \"https://ecshweb.pchome.com.tw/search/v3.3/all/results\"\n",
    "query_str_params = {\n",
    "    'q': 'macbook',\n",
    "    'page': 1,\n",
    "    'sort': 'rnk/dc'\n",
    "}\n",
    "response = requests.get(request_url, params=query_str_params)"
   ]
  },
  {
   "cell_type": "markdown",
   "metadata": {
    "slideshow": {
     "slide_type": "subslide"
    }
   },
   "source": [
    "## Calling the `json` method of `Response` to get the parsed structure"
   ]
  },
  {
   "cell_type": "code",
   "execution_count": 3,
   "metadata": {},
   "outputs": [
    {
     "name": "stdout",
     "output_type": "stream",
     "text": [
      "<class 'dict'>\n",
      "dict_keys(['QTime', 'totalRows', 'totalPage', 'range', 'cateName', 'q', 'subq', 'token', 'isMust', 'prods'])\n"
     ]
    }
   ],
   "source": [
    "json_format = response.json()\n",
    "print(type(json_format))\n",
    "print(json_format.keys())"
   ]
  },
  {
   "cell_type": "markdown",
   "metadata": {
    "slideshow": {
     "slide_type": "subslide"
    }
   },
   "source": [
    "## In fact, the `json` method of `Response` is actually calling the `loads` function from standard library `json`"
   ]
  },
  {
   "cell_type": "code",
   "execution_count": 4,
   "metadata": {},
   "outputs": [
    {
     "name": "stdout",
     "output_type": "stream",
     "text": [
      "<class 'dict'>\n",
      "dict_keys(['QTime', 'totalRows', 'totalPage', 'range', 'cateName', 'q', 'subq', 'token', 'isMust', 'prods'])\n"
     ]
    }
   ],
   "source": [
    "json_format = json.loads(response.text)\n",
    "print(type(json_format))\n",
    "print(json_format.keys())"
   ]
  },
  {
   "cell_type": "markdown",
   "metadata": {
    "slideshow": {
     "slide_type": "subslide"
    }
   },
   "source": [
    "## JSON could also exist as an array layout"
   ]
  },
  {
   "cell_type": "code",
   "execution_count": 5,
   "metadata": {},
   "outputs": [
    {
     "name": "stdout",
     "output_type": "stream",
     "text": [
      "<class 'list'>\n",
      "20\n"
     ]
    }
   ],
   "source": [
    "print(type(json_format['prods']))\n",
    "print(len(json_format['prods']))"
   ]
  },
  {
   "cell_type": "markdown",
   "metadata": {
    "slideshow": {
     "slide_type": "slide"
    }
   },
   "source": [
    "## XML format"
   ]
  },
  {
   "cell_type": "markdown",
   "metadata": {
    "slideshow": {
     "slide_type": "subslide"
    }
   },
   "source": [
    "## What is XML?\n",
    "\n",
    "> XML (Extensible Markup Language) is a markup language without predefined tags to use. Instead, we define our own tags for our needs. This is a powerful way to store data in a format that can be stored, searched, and shared.\n",
    "\n",
    "Source: <https://developer.mozilla.org/en-US/docs/Web/XML>"
   ]
  },
  {
   "cell_type": "markdown",
   "metadata": {
    "slideshow": {
     "slide_type": "subslide"
    }
   },
   "source": [
    "## How to validate if a response belongs to XML format?\n",
    "\n",
    "Looking into Response(body) and check if there is a XML format being declared."
   ]
  },
  {
   "cell_type": "markdown",
   "metadata": {
    "slideshow": {
     "slide_type": "subslide"
    }
   },
   "source": [
    "## XML exists as a string\n",
    "\n",
    "Self-defined tags with a hierarchical tree layout."
   ]
  },
  {
   "cell_type": "markdown",
   "metadata": {
    "slideshow": {
     "slide_type": "subslide"
    }
   },
   "source": [
    "## Let's see how a XML format looks like\n",
    "\n",
    "<https://emap.pcsc.com.tw/EMapSDK.aspx>: Data disappears after turning JavaScript off, check **XHR**."
   ]
  },
  {
   "cell_type": "code",
   "execution_count": 6,
   "metadata": {},
   "outputs": [],
   "source": [
    "request_url = \"https://emap.pcsc.com.tw/EMapSDK.aspx\"\n",
    "form_data = {\n",
    "    'commandid': 'SearchStore',\n",
    "    'city': '台北市',\n",
    "    'town': '大安區'\n",
    "}\n",
    "response = requests.post(request_url, data=form_data)"
   ]
  },
  {
   "cell_type": "markdown",
   "metadata": {
    "slideshow": {
     "slide_type": "subslide"
    }
   },
   "source": [
    "## Use the `fromstring` function from `ET` to get the parsed structure"
   ]
  },
  {
   "cell_type": "code",
   "execution_count": 7,
   "metadata": {},
   "outputs": [
    {
     "name": "stdout",
     "output_type": "stream",
     "text": [
      "<class 'xml.etree.ElementTree.Element'>\n"
     ]
    }
   ],
   "source": [
    "root = ET.fromstring(response.text)\n",
    "print(type(root))"
   ]
  },
  {
   "cell_type": "markdown",
   "metadata": {
    "slideshow": {
     "slide_type": "subslide"
    }
   },
   "source": [
    "## Use XPath to extract data from specific tags\n",
    "\n",
    "> XPath stands for XML Path Language. It provides a flexible way of addressing (pointing to) different parts of an XML document.\n",
    "\n",
    "Source: <https://developer.mozilla.org/en-US/docs/Web/XPath>"
   ]
  },
  {
   "cell_type": "code",
   "execution_count": 8,
   "metadata": {
    "slideshow": {
     "slide_type": "subslide"
    }
   },
   "outputs": [
    {
     "name": "stdout",
     "output_type": "stream",
     "text": [
      "['大台', '大信', '大敦', '中廣', '仁安', '仕吉', '北科大', '台科一', '永康', '禾光', '立仁', '光忠', '吉忠', '合旺', '合維', '安居', '安松', '安信', '佑安', '技安', '辛亥', '卓聯', '和平東', '和安', '和金', '和泰', '和樂', '延吉', '昇隆', '東門', '欣安和', '欣隆昌', '花市', '金信', '金華', '長星', '阿波羅', '信中', '信安', '信義', '信興', '建安', '建忠', '建南', '建綸', '恆安', '科技站', '科建', '科興', '師大', '泰利', '國館', '崇光', '教育大學', '統合', '統家', '統領', '通化', '頂好', '頂安', '頂東', '喜悅', '富陽', '復忠', '復昌', '復維', '敦仁', '敦禾', '敦安', '敦信', '敦南', '敦頂', '敦隆', '敦維', '敦親', '森美', '華電', '新北科', '新東帝', '新泰順', '新國聯', '溫州', '溫東', '瑞升', '瑞安', '義村', '誠安', '鳳翔', '樂安', '樂利', '樂和', '樂隆', '黎元', '豫銘', '錢忠', '靜安', '龍和', '龍延', '龍門', '龍泉', '龍淵', '龍普', '濟南', '臨江', '豐安', '懷生', '羅鑫', '麟光', '鑫忠孝', '鑫泰', '鑫通', '鑫富民', '鑫復']\n"
     ]
    }
   ],
   "source": [
    "# The XPath for POIName\n",
    "poinames = [e.text for e in root.findall('.//POIName')]\n",
    "print(poinames)"
   ]
  },
  {
   "cell_type": "code",
   "execution_count": 9,
   "metadata": {
    "slideshow": {
     "slide_type": "subslide"
    }
   },
   "outputs": [
    {
     "name": "stdout",
     "output_type": "stream",
     "text": [
      "['台北市大安區羅斯福路三段283巷14弄16號1樓', '台北市大安區信義路三段33號', '台北市大安區敦化南路二段63巷7號1樓', '台北市大安區仁愛路三段25-1號27號', '台北市大安區仁愛路四段27巷1號', '台北市大安區忠孝東路四段223巷42號', '台北市大安區忠孝東路三段1號(台北科技大學大川堂)', '台北市大安區基隆路四段43號1樓', '台北市大安區永康街43號', '台北市大安區和平東路二段63號1樓', '台北市大安區安和路二段74巷1號', '台北市大安區復興南路一段107巷5弄1號1樓', '台北市大安區延吉街72號', '台北市大安區復興南路二段151巷41號', '台北市大安區四維路170巷8號1樓', '台北市大安區安居街33號', '台北市大安區安東街50之2號50之3號50之4號', '台北市大安區信義路四段74號1樓', '台北市大安區忠孝東路三段217巷1弄2號', '台北市大安區和平東路三段97號', '台北市大安區辛亥路二段57號', '台北市大安區羅斯福路四段1號1樓卓聯大樓', '台北市大安區和平東路一段129之1號', '台北市大安區和平東路三段230號', '台北市大安區和平東路一段91號', '台北市大安區和平東路一段169號', '台北市大安區和平東路三段228巷45號1樓', '台北市大安區延吉街237號', '台北市大安區敦化南路二段238號', '台北市大安區信義路二段198巷6號1樓', '台北市大安區安和路一段47號', '台北市大安區基隆路二段142之1號及142之2號', '台北市大安區建國南路一段274號', '台北市大安區金山南路二段18號1樓', '台北市大安區金華街140號1樓', '台北市大安區基隆路三段85號', '台北市大安區忠孝東路四段222號224號1樓', '台北市大安區信義路三段101號', '台北市大安區大安路一段218號', '台北市大安區信義路四段265巷12弄1號', '台北市大安區信義路四段32號', '台北市大安區敦化南路一段187巷29號', '台北市大安區忠孝東路三段249號', '台北市大安區建國南路二段151巷6之8號', '台北市大安區仁愛路四段151巷33號忠孝東路四段216巷32弄19號21號', '台北市大安區永康街2巷12號1樓', '台北市大安區復興南路二段203號', '台北市大安區建國南路一段28號30號', '台北市大安區復興南路二段271巷2號1樓', '台北市大安區師大路87號', '台北市大安區仁愛路四段266巷15弄22號', '台北市大安區光復南路240巷25號', '台北市大安區復興南路一段135巷5號', '台北市大安區敦南街38號', '台北市大安區忠孝東路四段181巷7弄11之1號11之2號', '台北市大安區忠孝東路四段216巷27弄1號1樓', '台北市大安區忠孝東路四段205巷7弄5號1樓', '台北市大安區通化街26之8號', '台北市大安區仁愛路四段79號1號', '台北市大安區大安路一段67號1樓', '台北市大安區大安路一段43號', '台北市大安區復興南路二段82-1及82-2號', '台北市大安區和平東路三段298號300號1樓', '台北市大安區光復南路98之3號98之5號', '台北市大安區通化里光復南路616號', '台北市大安區復興南路二段17號', '台北市大安區忠孝東路四段148號部份', '台北市大安區敦化南路二段265巷6號1樓', '台北市大安區安和路一段86號', '台北市大安區仁愛路四段122巷50號1樓', '台北市大安區敦化南路一段236巷13號', '台北市大安區忠孝東路四段101巷7號', '台北市大安區敦化南路二段182號', '台北市大安區東豐街43號45號1樓', '台北市大安區辛亥路二段171巷8號', '台北市大安區信義路三段65號1樓', '台北市大安區通化街177號', '台北市大安區新生南路一段3號B1樓', '台北市大安區敦化南路二段99號1樓', '台北市大安區泰順街13號', '台北市大安區光復南路180巷12號', '台北市大安區羅斯福路三段245號', '台北市大安區和平東路一段266號', '台北市大安區杭州南路二段91號', '台北市大安區瑞安街182號', '台北市大安區忠孝東路三段160號', '台北市大安區敦化南路一段247巷12號1樓', '台北市大安區忠孝東路四段216巷68號', '台北市大安區樂業街71號73號', '台北市大安區樂利路76號78號1樓', '台北市大安區樂利路29號29-1號', '台北市大安區敦化南路二段331巷14號', '台北市大安區臥龍街188巷1號', '台北市大安區大安路二段102號', '台北市大安區忠孝東路四段26巷5號', '台北市大安區光復南路262號', '台北市大安區和平東路二段197號199號1樓', '台北市大安區師大路59巷13號', '台北市大安區和平東路二段38之1號40號1樓', '台北市大安區羅斯福路三段193號1樓', '台北市大安區和平東路二段118巷33號', '台北市大安區敦化南路一段233巷25號', '台北市大安區濟南路三段12號1樓', '台北市大安區安和路二段67號', '台北市大安區東豐街9號', '台北市大安區忠孝東路三段248巷9號', '台北市大安區羅斯福路三段29號31號1樓', '台北市大安區臥龍街252號及252-1號', '台北市大安區忠孝東路四段313號1樓', '台北市大安區古風里泰順街64號1樓', '台北市大安區信義路四段294巷7號1樓', '台北市大安區忠孝東路四段181巷40弄22號1樓', '台北市大安區信義路三段178號1樓']\n"
     ]
    }
   ],
   "source": [
    "# The XPath for Address\n",
    "addresses = [e.text for e in root.findall('.//Address')]\n",
    "print(addresses)"
   ]
  },
  {
   "cell_type": "markdown",
   "metadata": {
    "slideshow": {
     "slide_type": "slide"
    }
   },
   "source": [
    "## HTML format"
   ]
  },
  {
   "cell_type": "markdown",
   "metadata": {
    "slideshow": {
     "slide_type": "subslide"
    }
   },
   "source": [
    "## What is HTML?\n",
    "\n",
    "> HTML (HyperText Markup Language) is a descriptive language that specifies webpage structure. An HTML document is a plaintext document structured with elements. Elements are surrounded by matching opening and closing tags. Each tag begins and ends with angle brackets (<>).\n",
    "\n",
    "Source: <https://developer.mozilla.org/en-US/docs/Glossary/HTML>"
   ]
  },
  {
   "cell_type": "markdown",
   "metadata": {
    "slideshow": {
     "slide_type": "subslide"
    }
   },
   "source": [
    "## How to validate if a response belongs to HTML format?\n",
    "\n",
    "Looking into Response(body) and check if there is a HTML format being declared."
   ]
  },
  {
   "cell_type": "markdown",
   "metadata": {
    "slideshow": {
     "slide_type": "subslide"
    }
   },
   "source": [
    "## HTML exists as a string\n",
    "\n",
    "Predefined tags with a hierarchical tree layout."
   ]
  },
  {
   "cell_type": "markdown",
   "metadata": {
    "slideshow": {
     "slide_type": "subslide"
    }
   },
   "source": [
    "## Let's see how a HTML format looks like\n",
    "\n",
    "<https://www.imdb.com/>: Data still exists after turning JavaScript off, check **Doc**."
   ]
  },
  {
   "cell_type": "code",
   "execution_count": 10,
   "metadata": {},
   "outputs": [],
   "source": [
    "request_url = \"https://www.imdb.com/title/tt10048342\"\n",
    "response = requests.get(request_url)"
   ]
  },
  {
   "cell_type": "markdown",
   "metadata": {
    "slideshow": {
     "slide_type": "subslide"
    }
   },
   "source": [
    "## Use the `BeautifulSoup` function from `bs4` to get the parsed structure"
   ]
  },
  {
   "cell_type": "code",
   "execution_count": 11,
   "metadata": {},
   "outputs": [
    {
     "name": "stdout",
     "output_type": "stream",
     "text": [
      "<class 'bs4.BeautifulSoup'>\n"
     ]
    }
   ],
   "source": [
    "soup = BeautifulSoup(response.text)\n",
    "print(type(soup))"
   ]
  },
  {
   "cell_type": "markdown",
   "metadata": {
    "slideshow": {
     "slide_type": "subslide"
    }
   },
   "source": [
    "## Use CSS Selector to extract data from specific tags\n",
    "\n",
    "> A CSS selector is the part of a CSS rule that describes what elements in a document the rule will match. The matching elements will have the rule's specified style applied to them.\n",
    "\n",
    "Source: <https://developer.mozilla.org/en-US/docs/Glossary/CSS_Selector>"
   ]
  },
  {
   "cell_type": "markdown",
   "metadata": {
    "slideshow": {
     "slide_type": "subslide"
    }
   },
   "source": [
    "## A CSS selector can be mixed and matched with\n",
    "\n",
    "1. Tag names, e.g. `a`\n",
    "2. Class attribute in tags, e.g. `.poster`\n",
    "3. Id attribute in tags, e.g. `#title-overview-widget`"
   ]
  },
  {
   "cell_type": "markdown",
   "metadata": {
    "slideshow": {
     "slide_type": "subslide"
    }
   },
   "source": [
    "## It is not easy to find CSS selector unless we are a seasoned front-end engineer\n",
    "\n",
    "A Chrome browser plug-in to help us find the specific CSS selector of element(s): <https://chrome.google.com/webstore/detail/selectorgadget/mhjhnkcfbdhnjickkkdbjoemdmbfginb>"
   ]
  },
  {
   "cell_type": "code",
   "execution_count": 12,
   "metadata": {
    "slideshow": {
     "slide_type": "subslide"
    }
   },
   "outputs": [
    {
     "name": "stdout",
     "output_type": "stream",
     "text": [
      "后翼棄兵\n"
     ]
    }
   ],
   "source": [
    "# The CSS Selector for title\n",
    "title = soup.select('h1')[0].text.strip()\n",
    "print(title)"
   ]
  },
  {
   "cell_type": "code",
   "execution_count": 13,
   "metadata": {
    "slideshow": {
     "slide_type": "subslide"
    }
   },
   "outputs": [
    {
     "name": "stdout",
     "output_type": "stream",
     "text": [
      "8.7\n"
     ]
    }
   ],
   "source": [
    "# The CSS Selector for rating\n",
    "rating = float(soup.select('strong span')[0].text)\n",
    "print(rating)"
   ]
  },
  {
   "cell_type": "code",
   "execution_count": 14,
   "metadata": {
    "slideshow": {
     "slide_type": "subslide"
    }
   },
   "outputs": [
    {
     "name": "stdout",
     "output_type": "stream",
     "text": [
      "https://m.media-amazon.com/images/M/MV5BM2EwMmRhMmUtMzBmMS00ZDQ3LTg4OGEtNjlkODk3ZTMxMmJlXkEyXkFqcGdeQXVyMjM5ODk1NDU@._V1_UX182_CR0,0,182,268_AL_.jpg\n"
     ]
    }
   ],
   "source": [
    "# The CSS Selector for poster\n",
    "poster = soup.select('.poster img')[0].get('src')\n",
    "print(poster)"
   ]
  },
  {
   "cell_type": "code",
   "execution_count": 15,
   "metadata": {
    "slideshow": {
     "slide_type": "subslide"
    }
   },
   "outputs": [
    {
     "name": "stdout",
     "output_type": "stream",
     "text": [
      "['Drama']\n"
     ]
    }
   ],
   "source": [
    "# The CSS Selector for genre\n",
    "genre = [e.text for e in soup.select('.subtext a')]\n",
    "release_date = genre.pop()\n",
    "print(genre)"
   ]
  },
  {
   "cell_type": "code",
   "execution_count": 16,
   "metadata": {
    "slideshow": {
     "slide_type": "subslide"
    }
   },
   "outputs": [
    {
     "name": "stdout",
     "output_type": "stream",
     "text": [
      "['Anya Taylor-Joy', 'Chloe Pirrie', 'Bill Camp', 'Marcin Dorocinski', 'Marielle Heller', 'Thomas Brodie-Sangster', 'Moses Ingram', 'Harry Melling', 'Isla Johnston', 'Janina Elkin', 'Matthew Dennis Lewis', 'Russell Dennis Lewis', 'Patrick Kennedy', 'Christiane Seidel', 'Jacob Fortune-Lloyd', 'Akemnji Ndifornyen', 'Annabeth Kelly', 'Dolores Carbonari', 'Andruscha Hilscher', 'Iskander Madjitov', 'Rebecca Root', 'Clement Guyot', 'Zoe Hoche', 'Frederic Stromenger', 'Sophie McShera', 'Katherine Towe', 'Mia-Luisa Schrader', 'Laura Danne', 'Nina Herzberg', 'Richard Waugh', 'Marian Meder', 'Frieda Raab', 'Sergio Di Zio', 'Emma Henker', 'William Horberg', 'Alva Schäfer', 'Marlene Leinemann', 'Matteo Vinogradov', 'Max Krause', 'Ryan Wichert', 'Eloise Webb', 'Millie Brady', 'Rebecca Dyson-Smith', 'Zoé Hoche', 'Lucy Ella von Scheele', 'Felice', 'Philipp Droste', 'Nikolai Jegorow', 'Daniel Brunet', 'Maximilian Frisch', 'Sam Gilroy', 'Sophia Frank', 'Raphael Keric', 'Adrian Hagenguth', 'Salber Lee Williams', 'Alexander Albrecht', 'Ilja Roßbander', 'Simon Jensen', 'Jeremy Mockridge', 'Frederik Funke', 'Alec Dahmer', 'Simon Jansen', 'Samantha Soule', 'Uke Bosse', 'Ben Gageik', 'Pia Schlipphak', 'Pablo Scola', 'Drew Doyle', 'Dmitri Ford', 'David Gorelik', 'Peter Gilbert Cotton', 'Paul Johnston', 'Frédéric Vonhof', 'Rahul Chakraborty', 'Jenny Galloway', 'Lily Lesser', 'Charlotte Lucas', 'Nicky Goldie', 'Paul Walther', 'Maximilian Diehle', 'Maria Heinsch', 'John Schwab', 'Lukas Huber', 'Juri Padel', 'Evgenij Verenin', 'Konstantin Frank', 'Jennifer Haas', 'Marja Haensch', 'Marcus Loges', 'Alberto Ruano', 'Rosalie Craig', 'Jan Nahuel Häfliger', 'Tim Kalkhof', 'Ben Moor', 'Frederick Schmid', 'Colin Stinton', 'Michel Diercks', 'Elvis Nowatzki', 'Ben Posener', 'Matthew Rowsell', 'Adrian Zwicker', 'Dora Zygouri', 'Louis Ashbourne Serkis', 'Hugo Grimm', 'William von Tagen', 'Vlad Chiriac', 'Anna Hauss', \"Jonjo O'Neill\", 'Till Trenkel', 'Josepha Walter']\n"
     ]
    }
   ],
   "source": [
    "# The CSS Selector for cast\n",
    "cast = [e.text.strip() for e in soup.select('.primary_photo+ td a')]\n",
    "print(cast)"
   ]
  },
  {
   "cell_type": "code",
   "execution_count": 17,
   "metadata": {
    "slideshow": {
     "slide_type": "subslide"
    }
   },
   "outputs": [
    {
     "name": "stdout",
     "output_type": "stream",
     "text": [
      "['Beth Harmon', 'Alice Harmon', 'Mr. Shaibel', 'Vasily Borgov', 'Alma Wheatley', 'Benny Watts', 'Jolene', 'Harry Beltik', 'Young Beth Harmon', \"Borgov's Wife\", 'Matt', 'Mike', 'Allston Wheatley', 'Helen Deardorff', 'D.L. Townes', 'Mr. Fergusson', 'Five-Year-Old Beth', 'Margaret', 'Russian', 'Another Russian', 'Miss Lonsdale', 'Tournament Director', 'Girl #1', 'Man In Elevator', 'Miss Graham', 'Girl #2', 'Girl in Elevator', \"Jolene's Friend\", \"Margaret's Friend\", 'Mr. Bradley', 'Mr. Espero', 'Apple Pi Girl #1', \"Beth's Father\", 'Giggling Girl #1', 'Toby', 'Apple Pi Girl #3', 'Apple Pi Girl #4', \"Borgov's Child\", 'Levertov', 'Hilton Wexler', 'Annette Packer', 'Cleo', 'Stewardess', 'Girl #1', 'Apple Pi Girl #2', 'Marceno', 'Tournament Director', 'Russian Teacher', 'Man at Sign in Table', 'Young Borgov', 'Tim', 'Barbara', 'Someone', 'Middle Aged Man', 'Eileen', 'Manfredi', 'Rudolph', 'Alec Berglano', 'Friedman', 'Third Opponent', 'Teenage Reporter', 'Alec Berglund', 'Miss Jean Blake', 'Another Reporter', 'Weiss', 'Mrs. Macarthur', 'Manuel', 'Cop #1', 'Russian Reporter', 'Boy', 'Lutheran Minister', 'Cop #2', 'Paris Waiter', 'Vendor', 'Matron', 'Girl in Lunchroom', 'Mrs. Dodge', 'Mrs. Blocker', 'Vendor #2', 'French Guy #1', 'Giggling Girl #1', 'Mr. Booth', 'French Guy #2', 'Russian Limo Driver', 'Russian Radio Announcer', 'Tournament Director', 'Mary-Sue', 'Giggling Girl #2', 'Luchenko', 'Director', 'Librarian', 'Alberto Diaz', 'Roger', 'Mr. Hume', 'Laev', 'Chennault', 'Duhamel', \"Margaret's Boyfriend\", 'Guy', 'Mowing Boy', 'Diedrich', 'Girl in Line', 'Girev', 'Hellstrom', 'Other Player', 'Shapkin', 'Singer at Piano', 'Mr. Ganz', 'Flento', 'Local Makeout Girl']\n"
     ]
    }
   ],
   "source": [
    "# The CSS Selector for characters\n",
    "characters = [e.text.strip() for e in soup.select('.character a:nth-child(1)')]\n",
    "print(characters)"
   ]
  }
 ],
 "metadata": {
  "celltoolbar": "Slideshow",
  "kernelspec": {
   "display_name": "Python Data Analysis",
   "language": "python",
   "name": "pyda"
  },
  "language_info": {
   "codemirror_mode": {
    "name": "ipython",
    "version": 3
   },
   "file_extension": ".py",
   "mimetype": "text/x-python",
   "name": "python",
   "nbconvert_exporter": "python",
   "pygments_lexer": "ipython3",
   "version": "3.6.8"
  }
 },
 "nbformat": 4,
 "nbformat_minor": 4
}
