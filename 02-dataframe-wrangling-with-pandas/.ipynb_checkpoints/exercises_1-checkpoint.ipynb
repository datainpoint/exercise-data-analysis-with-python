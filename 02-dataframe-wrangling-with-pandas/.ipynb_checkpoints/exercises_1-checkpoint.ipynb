{
 "cells": [
  {
   "cell_type": "markdown",
   "metadata": {
    "deletable": false,
    "editable": false
   },
   "source": [
    "# Python 資料分析\n",
    "\n",
    "> 以 Pandas 處理表格式資料\n",
    "\n",
    "[數據交點](https://www.datainpoint.com/) | 郭耀仁 <yaojenkuo@datainpoint.com>"
   ]
  },
  {
   "cell_type": "markdown",
   "metadata": {
    "deletable": false,
    "editable": false
   },
   "source": [
    "## 練習題指引\n",
    "\n",
    "- 第一個程式碼儲存格會將可能用得到的模組（套件）以及單元測試 `unittest` 載入。\n",
    "- 如果練習題需要載入檔案，檔案與練習題存放在同個資料夾中，意即我們可以指定工作目錄來載入。\n",
    "- 練習題已經定義好函數或者類別的名稱以及參數名稱，我們只需要寫作主體。\n",
    "- 函數或者類別的 `\"\"\"docstring\"\"\"` 部分會描述測試如何進行。\n",
    "- 觀察 `\"\"\"docstring\"\"\"` 的部分能夠暸解輸入以及預期輸出之間的關係，能幫助我們更暸解題目。\n",
    "- 請在 `### BEGIN SOLUTION` 與 `### END SOLUTION` 這兩個單行註解之間寫作函數或者類別的主體。\n",
    "- 執行測試的方式為點選上方選單的 Kernel -> Restart Kernel And Run All Cells -> Restart。\n",
    "- 可以每寫一題就執行測試，也可以全部寫完再執行測試。\n",
    "- 練習題閒置超過 10 分鐘會自動斷線，這時只要重新點選練習題連結即可重新啟動。"
   ]
  },
  {
   "cell_type": "code",
   "execution_count": 1,
   "metadata": {
    "deletable": false,
    "editable": false
   },
   "outputs": [],
   "source": [
    "import os\n",
    "import json\n",
    "import unittest\n",
    "import numpy as np\n",
    "import pandas as pd"
   ]
  },
  {
   "cell_type": "markdown",
   "metadata": {},
   "source": [
    "## 01. Define a function named `create_an_index` that is able to create an `Index` instance from scratch.\n",
    "\n",
    "- Expected inputs: None.\n",
    "- Expected outputs: a (5,) Index.\n",
    "\n",
    "```\n",
    "Index(['first', 'second', 'third', 'fourth', 'fifth'], dtype='object')\n",
    "```"
   ]
  },
  {
   "cell_type": "code",
   "execution_count": 2,
   "metadata": {},
   "outputs": [],
   "source": [
    "def create_an_index():\n",
    "    \"\"\"\n",
    "    >>> an_index = create_an_index()\n",
    "    >>> print(type(an_index))\n",
    "    <class 'pandas.core.indexes.base.Index'>\n",
    "    >>> print(an_index.shape)\n",
    "    (5,)\n",
    "    \"\"\"\n",
    "    ### BEGIN SOLUTION\n",
    "    \n",
    "    ### END SOLUTION"
   ]
  },
  {
   "cell_type": "markdown",
   "metadata": {},
   "source": [
    "## 02. Define a function named `create_first_five_odds_series` that is able to create a `Series` instance from scratch.\n",
    "\n",
    "- Expected inputs: None.\n",
    "- Expected outputs: a (5,) Series.\n",
    "\n",
    "```\n",
    "first     1\n",
    "second    3\n",
    "third     5\n",
    "fourth    7\n",
    "fifth     9\n",
    "dtype: int64\n",
    "```"
   ]
  },
  {
   "cell_type": "code",
   "execution_count": 3,
   "metadata": {},
   "outputs": [],
   "source": [
    "def create_first_five_odds_series():\n",
    "    \"\"\"\n",
    "    >>> first_five_odds_series = create_first_five_odds_series()\n",
    "    >>> print(type(first_five_odds_series))\n",
    "    <class 'pandas.core.series.Series'>\n",
    "    >>> print(first_five_odds_series.shape)\n",
    "    (5,)\n",
    "    \"\"\"\n",
    "    ### BEGIN SOLUTION\n",
    "    \n",
    "    ### END SOLUTION"
   ]
  },
  {
   "cell_type": "markdown",
   "metadata": {},
   "source": [
    "## 03. Define a function named `create_first_five_evens_series` that is able to create a `Series` instance from scratch.\n",
    "\n",
    "- Expected inputs: None,\n",
    "- Expected outputs: a (5,) Series.\n",
    "\n",
    "```\n",
    "first     0\n",
    "second    2\n",
    "third     4\n",
    "fourth    6\n",
    "fifth     8\n",
    "dtype: int64\n",
    "```"
   ]
  },
  {
   "cell_type": "code",
   "execution_count": 4,
   "metadata": {},
   "outputs": [],
   "source": [
    "def create_first_five_evens_series():\n",
    "    \"\"\"\n",
    "    >>> first_five_evens_series = create_first_five_evens_series()\n",
    "    >>> print(type(first_five_evens_series))\n",
    "    <class 'pandas.core.series.Series'>\n",
    "    >>> print(first_five_evens_series.shape)\n",
    "    (5,)\n",
    "    \"\"\"\n",
    "    ### BEGIN SOLUTION\n",
    "    \n",
    "    ### END SOLUTION"
   ]
  },
  {
   "cell_type": "markdown",
   "metadata": {},
   "source": [
    "## 04. Define a function named `create_first_five_integers_df` that is able to create a `DataFrame` instance from scratch.\n",
    "\n",
    "- Expected inputs: None,\n",
    "- Expected outputs: a (5, 2) DataFrame.\n",
    "\n",
    "```\n",
    "        even  odd\n",
    "first      0    1\n",
    "second     2    3\n",
    "third      4    5\n",
    "fourth     6    7\n",
    "fifth      8    9\n",
    "```"
   ]
  },
  {
   "cell_type": "code",
   "execution_count": 5,
   "metadata": {},
   "outputs": [],
   "source": [
    "def create_first_five_integers_df():\n",
    "    \"\"\"\n",
    "    >>> first_five_integers_df = create_first_five_integers_df()\n",
    "    >>> print(type(first_five_integers_df))\n",
    "    <class 'pandas.core.frame.DataFrame'>\n",
    "    >>> print(first_five_integers_df.shape)\n",
    "    (5, 2)\n",
    "    \"\"\"\n",
    "    ### BEGIN SOLUTION\n",
    "    \n",
    "    ### END SOLUTION"
   ]
  },
  {
   "cell_type": "markdown",
   "metadata": {},
   "source": [
    "## 05. Define a function named `create_trilogy_df` that is able to create a `DataFrame` instance from scratch.\n",
    "\n",
    "- Expected inputs: None,\n",
    "- Expected outputs: a (6, 4) DataFrame.\n",
    "\n",
    "```\n",
    "                 trilogy                       title  release_year  \\\n",
    "0  The Lord of the Rings  The Fellowship of the Ring          2001   \n",
    "1  The Lord of the Rings              The Two Towers          2002   \n",
    "2  The Lord of the Rings      The Return of the King          2003   \n",
    "3        The Dark Knight               Batman Begins          2005   \n",
    "4        The Dark Knight             The Dark Knight          2008   \n",
    "5        The Dark Knight       The Dark Knight Rises          2012   \n",
    "\n",
    "            director  \n",
    "0      Peter Jackson  \n",
    "1      Peter Jackson  \n",
    "2      Peter Jackson  \n",
    "3  Christopher Nolan  \n",
    "4  Christopher Nolan  \n",
    "5  Christopher Nolan\n",
    "```"
   ]
  },
  {
   "cell_type": "code",
   "execution_count": 6,
   "metadata": {},
   "outputs": [],
   "source": [
    "def create_trilogy_df():\n",
    "    \"\"\"\n",
    "    >>> trilogy_df = create_trilogy_df()\n",
    "    >>> print(type(trilogy_df))\n",
    "    <class 'pandas.core.frame.DataFrame'>\n",
    "    >>> print(trilogy_df.shape)\n",
    "    (6, 4)\n",
    "    \"\"\"\n",
    "    ### BEGIN SOLUTION\n",
    "    \n",
    "    ### END SOLUTION"
   ]
  },
  {
   "cell_type": "markdown",
   "metadata": {},
   "source": [
    "## 06. Define a function named `get_olympic_df` that is able to import a csv file as a pandas DataFrame.\n",
    "\n",
    "- Expected inputs: a CSV file `all_time_olympic_medals.csv`.\n",
    "- Expected outputs: a (153, 17) DataFrame.\n",
    "\n",
    "```\n",
    "                            team_name team_ioc  no_summer_games  \\\n",
    "0                         Afghanistan      AFG               14   \n",
    "1                             Algeria      ALG               13   \n",
    "2                           Argentina      ARG               24   \n",
    "3                             Armenia      ARM                6   \n",
    "4                         Australasia      ANZ                2   \n",
    "..                                ...      ...              ...   \n",
    "148                          Zimbabwe      ZIM               13   \n",
    "149      Independent Olympic Athletes      IOA                3   \n",
    "150  Independent Olympic Participants      IOP                1   \n",
    "151                        Mixed team      ZZX                3   \n",
    "152                            Totals      NaN               28   \n",
    "\n",
    "     no_summer_golds  no_summer_silvers  no_summer_bronzes  no_summer_totals  \\\n",
    "0                  0                  0                  2                 2   \n",
    "1                  5                  4                  8                17   \n",
    "2                 21                 25                 28                74   \n",
    "3                  2                  6                  6                14   \n",
    "4                  3                  4                  5                12   \n",
    "..               ...                ...                ...               ...   \n",
    "148                3                  4                  1                 8   \n",
    "149                1                  0                  1                 2   \n",
    "150                0                  1                  2                 3   \n",
    "151                8                  5                  4                17   \n",
    "152             5116               5081               5488             15685   \n",
    "\n",
    "     no_winter_games  no_winter_golds  no_winter_silvers  no_winter_bronzes  \\\n",
    "0                  0                0                  0                  0   \n",
    "1                  3                0                  0                  0   \n",
    "2                 19                0                  0                  0   \n",
    "3                  7                0                  0                  0   \n",
    "4                  0                0                  0                  0   \n",
    "..               ...              ...                ...                ...   \n",
    "148                1                0                  0                  0   \n",
    "149                0                0                  0                  0   \n",
    "150                0                0                  0                  0   \n",
    "151                0                0                  0                  0   \n",
    "152               23             1062               1059               1050   \n",
    "\n",
    "     no_winter_totals  no_combined_games  no_combined_golds  \\\n",
    "0                   0                 14                  0   \n",
    "1                   0                 16                  5   \n",
    "2                   0                 43                 21   \n",
    "3                   0                 13                  2   \n",
    "4                   0                  2                  3   \n",
    "..                ...                ...                ...   \n",
    "148                 0                 14                  3   \n",
    "149                 0                  3                  1   \n",
    "150                 0                  1                  0   \n",
    "151                 0                  3                  8   \n",
    "152              3171                 51               6178   \n",
    "\n",
    "     no_combined_silvers  no_combined_bronzes  no_combined_totals  \n",
    "0                      0                    2                   2  \n",
    "1                      4                    8                  17  \n",
    "2                     25                   28                  74  \n",
    "3                      6                    6                  14  \n",
    "4                      4                    5                  12  \n",
    "..                   ...                  ...                 ...  \n",
    "148                    4                    1                   8  \n",
    "149                    0                    1                   2  \n",
    "150                    1                    2                   3  \n",
    "151                    5                    4                  17  \n",
    "152                 6140                 6538               18856  \n",
    "\n",
    "[153 rows x 17 columns]\n",
    "```"
   ]
  },
  {
   "cell_type": "code",
   "execution_count": 7,
   "metadata": {},
   "outputs": [],
   "source": [
    "def get_olympic_df(csv_file_path):\n",
    "    \"\"\"\n",
    "    >>> olympic_df = get_olympic_df('all_time_olympic_medals.csv')\n",
    "    >>> print(type(olympic_df))\n",
    "    <class 'pandas.core.frame.DataFrame'>\n",
    "    >>> print(olympic_df.shape)\n",
    "    (153, 17)\n",
    "    \"\"\"\n",
    "    ### BEGIN SOLUTION\n",
    "    \n",
    "    ### END SOLUTION"
   ]
  },
  {
   "cell_type": "markdown",
   "metadata": {},
   "source": [
    "## 07. Define a function named `find_taiwan` that is able to retrieve the data of Taiwan as a pandas DataFrame.\n",
    "\n",
    "PS Taiwan might not be \"Taiwan\" in Olympic data.\n",
    "\n",
    "- Expected inputs: a CSV file `all_time_olympic_medals.csv`.\n",
    "- Expected outputs: a (1, 17) DataFrame."
   ]
  },
  {
   "cell_type": "code",
   "execution_count": 8,
   "metadata": {},
   "outputs": [],
   "source": [
    "def find_taiwan(csv_file_path):\n",
    "    \"\"\"\n",
    "    >>> taiwan = find_taiwan('all_time_olympic_medals.csv')\n",
    "    >>> print(type(taiwan))\n",
    "    <class 'pandas.core.frame.DataFrame'>\n",
    "    >>> print(taiwan.shape)\n",
    "    (1, 17)\n",
    "    >>> print(taiwan['team_name'].values[0])\n",
    "    'Chinese Taipei'\n",
    "    \"\"\"\n",
    "    ### BEGIN SOLUTION\n",
    "    \n",
    "    ### END SOLUTION"
   ]
  },
  {
   "cell_type": "markdown",
   "metadata": {},
   "source": [
    "## 08. Define a function named `find_the_king_of_summer_olympics` that is able to retrieve the data of the country that won the most gold medals in summer Olympics.\n",
    "\n",
    "- Expected inputs: a CSV file `all_time_olympic_medals.csv`.\n",
    "- Expected outputs: a (1, 17) DataFrame."
   ]
  },
  {
   "cell_type": "code",
   "execution_count": 9,
   "metadata": {},
   "outputs": [],
   "source": [
    "def find_the_king_of_summer_olympics(csv_file_path):\n",
    "    \"\"\"\n",
    "    >>> the_king_of_summer_olympics = find_the_king_of_summer_olympics('all_time_olympic_medals.csv')\n",
    "    >>> print(type(the_king_of_summer_olympics))\n",
    "    <class 'pandas.core.frame.DataFrame'>\n",
    "    >>> print(the_king_of_summer_olympics.shape)\n",
    "    (1, 17)\n",
    "    >>> print(the_king_of_summer_olympics['no_summer_golds'].values[0])\n",
    "    1022\n",
    "    >>> print(the_king_of_summer_olympics['team_name'].values[0])\n",
    "    'United States'\n",
    "    \"\"\"\n",
    "    ### BEGIN SOLUTION\n",
    "    \n",
    "    ### END SOLUTION"
   ]
  },
  {
   "cell_type": "markdown",
   "metadata": {},
   "source": [
    "## 09. Define a function named `find_the_king_of_winter_olympics` that is able to retrieve the data of the country that won the most gold medals in winter Olympics.\n",
    "\n",
    "- Expected inputs: a CSV file `all_time_olympic_medals.csv`.\n",
    "- Expected outputs: a (1, 17) DataFrame."
   ]
  },
  {
   "cell_type": "code",
   "execution_count": 10,
   "metadata": {},
   "outputs": [],
   "source": [
    "def find_the_king_of_winter_olympics(csv_file_path):\n",
    "    \"\"\"\n",
    "    >>> the_king_of_winter_olympics = find_the_king_of_winter_olympics('all_time_olympic_medals.csv')\n",
    "    >>> print(type(the_king_of_winter_olympics))\n",
    "    <class 'pandas.core.frame.DataFrame'>\n",
    "    >>> print(the_king_of_winter_olympics.shape)\n",
    "    (1, 17)\n",
    "    >>> print(the_king_of_winter_olympics['no_winter_golds'].values[0])\n",
    "    132\n",
    "    >>> print(the_king_of_winter_olympics['team_name'].values[0])\n",
    "    'Norway'\n",
    "    \"\"\"\n",
    "    ### BEGIN SOLUTION\n",
    "    \n",
    "    ### END SOLUTION"
   ]
  },
  {
   "cell_type": "markdown",
   "metadata": {},
   "source": [
    "## 10. Define a function named `find_largest_ratio` that is able to retrieve the data of the country that has the largest ratio which is calculated as:\n",
    "\n",
    "\\begin{equation}\n",
    "\\text{Ratio} = \\frac{\\text{Summer Gold} - \\text{Winter Gold}}{\\text{Total Gold}}\n",
    "\\end{equation}\n",
    "\n",
    "PS You have to exclude the countries with ratio calculated as 1.\n",
    "\n",
    "- Expected inputs: a CSV file `all_time_olympic_medals.csv`.\n",
    "- Expected outputs: a Series of size 17."
   ]
  },
  {
   "cell_type": "code",
   "execution_count": 11,
   "metadata": {},
   "outputs": [],
   "source": [
    "def find_largest_ratio(csv_file_path):\n",
    "    \"\"\"\n",
    "    >>> largest_ratio = find_largest_ratio('all_time_olympic_medals.csv')\n",
    "    >>> print(type(largest_ratio))\n",
    "    <class 'pandas.core.series.Series'>\n",
    "    >>> print(largest_ratio.size)\n",
    "    17\n",
    "    >>> print(largest_ratio['team_name']\n",
    "    'Hungary'\n",
    "    \"\"\"\n",
    "    ### BEGIN SOLUTION\n",
    "    \n",
    "    ### END SOLUTION"
   ]
  },
  {
   "cell_type": "markdown",
   "metadata": {
    "deletable": false,
    "editable": false
   },
   "source": [
    "## 執行測試！\n",
    "\n",
    "Kernel -> Restart Kernel And Run All Cells -> Restart"
   ]
  },
  {
   "cell_type": "code",
   "execution_count": 12,
   "metadata": {
    "deletable": false,
    "editable": false
   },
   "outputs": [
    {
     "name": "stderr",
     "output_type": "stream",
     "text": [
      "test_01_create_an_index (__main__.TestDataFrameWranglingWithPandasBasic) ... FAIL\n",
      "test_02_create_first_five_odds_series (__main__.TestDataFrameWranglingWithPandasBasic) ... FAIL\n",
      "test_03_create_first_five_evens_series (__main__.TestDataFrameWranglingWithPandasBasic) ... FAIL\n",
      "test_04_create_first_five_integers_df (__main__.TestDataFrameWranglingWithPandasBasic) ... FAIL\n",
      "test_05_create_trilogy_df (__main__.TestDataFrameWranglingWithPandasBasic) ... FAIL\n",
      "test_06_get_olympic_df (__main__.TestDataFrameWranglingWithPandasBasic) ... FAIL\n",
      "test_07_find_taiwan (__main__.TestDataFrameWranglingWithPandasBasic) ... FAIL\n",
      "test_08_find_the_king_of_summer_olympics (__main__.TestDataFrameWranglingWithPandasBasic) ... FAIL\n",
      "test_09_find_the_king_of_winter_olympics (__main__.TestDataFrameWranglingWithPandasBasic) ... FAIL\n",
      "test_10_find_largest_ratio (__main__.TestDataFrameWranglingWithPandasBasic) ... FAIL\n",
      "\n",
      "======================================================================\n",
      "FAIL: test_01_create_an_index (__main__.TestDataFrameWranglingWithPandasBasic)\n",
      "----------------------------------------------------------------------\n",
      "Traceback (most recent call last):\n",
      "  File \"<ipython-input-12-f24f0a549de7>\", line 4, in test_01_create_an_index\n",
      "    self.assertIsInstance(an_index, pd.core.indexes.base.Index)\n",
      "AssertionError: None is not an instance of <class 'pandas.core.indexes.base.Index'>\n",
      "\n",
      "======================================================================\n",
      "FAIL: test_02_create_first_five_odds_series (__main__.TestDataFrameWranglingWithPandasBasic)\n",
      "----------------------------------------------------------------------\n",
      "Traceback (most recent call last):\n",
      "  File \"<ipython-input-12-f24f0a549de7>\", line 8, in test_02_create_first_five_odds_series\n",
      "    self.assertIsInstance(first_five_odds_series, pd.core.series.Series)\n",
      "AssertionError: None is not an instance of <class 'pandas.core.series.Series'>\n",
      "\n",
      "======================================================================\n",
      "FAIL: test_03_create_first_five_evens_series (__main__.TestDataFrameWranglingWithPandasBasic)\n",
      "----------------------------------------------------------------------\n",
      "Traceback (most recent call last):\n",
      "  File \"<ipython-input-12-f24f0a549de7>\", line 12, in test_03_create_first_five_evens_series\n",
      "    self.assertIsInstance(first_five_evens_series, pd.core.series.Series)\n",
      "AssertionError: None is not an instance of <class 'pandas.core.series.Series'>\n",
      "\n",
      "======================================================================\n",
      "FAIL: test_04_create_first_five_integers_df (__main__.TestDataFrameWranglingWithPandasBasic)\n",
      "----------------------------------------------------------------------\n",
      "Traceback (most recent call last):\n",
      "  File \"<ipython-input-12-f24f0a549de7>\", line 16, in test_04_create_first_five_integers_df\n",
      "    self.assertIsInstance(first_five_integers_df, pd.core.frame.DataFrame)\n",
      "AssertionError: None is not an instance of <class 'pandas.core.frame.DataFrame'>\n",
      "\n",
      "======================================================================\n",
      "FAIL: test_05_create_trilogy_df (__main__.TestDataFrameWranglingWithPandasBasic)\n",
      "----------------------------------------------------------------------\n",
      "Traceback (most recent call last):\n",
      "  File \"<ipython-input-12-f24f0a549de7>\", line 20, in test_05_create_trilogy_df\n",
      "    self.assertIsInstance(trilogy_df, pd.core.frame.DataFrame)\n",
      "AssertionError: None is not an instance of <class 'pandas.core.frame.DataFrame'>\n",
      "\n",
      "======================================================================\n",
      "FAIL: test_06_get_olympic_df (__main__.TestDataFrameWranglingWithPandasBasic)\n",
      "----------------------------------------------------------------------\n",
      "Traceback (most recent call last):\n",
      "  File \"<ipython-input-12-f24f0a549de7>\", line 24, in test_06_get_olympic_df\n",
      "    self.assertIsInstance(olympic_df, pd.core.frame.DataFrame)\n",
      "AssertionError: None is not an instance of <class 'pandas.core.frame.DataFrame'>\n",
      "\n",
      "======================================================================\n",
      "FAIL: test_07_find_taiwan (__main__.TestDataFrameWranglingWithPandasBasic)\n",
      "----------------------------------------------------------------------\n",
      "Traceback (most recent call last):\n",
      "  File \"<ipython-input-12-f24f0a549de7>\", line 28, in test_07_find_taiwan\n",
      "    self.assertIsInstance(taiwan, pd.core.frame.DataFrame)\n",
      "AssertionError: None is not an instance of <class 'pandas.core.frame.DataFrame'>\n",
      "\n",
      "======================================================================\n",
      "FAIL: test_08_find_the_king_of_summer_olympics (__main__.TestDataFrameWranglingWithPandasBasic)\n",
      "----------------------------------------------------------------------\n",
      "Traceback (most recent call last):\n",
      "  File \"<ipython-input-12-f24f0a549de7>\", line 33, in test_08_find_the_king_of_summer_olympics\n",
      "    self.assertIsInstance(the_king_of_summer_olympics, pd.core.frame.DataFrame)\n",
      "AssertionError: None is not an instance of <class 'pandas.core.frame.DataFrame'>\n",
      "\n",
      "======================================================================\n",
      "FAIL: test_09_find_the_king_of_winter_olympics (__main__.TestDataFrameWranglingWithPandasBasic)\n",
      "----------------------------------------------------------------------\n",
      "Traceback (most recent call last):\n",
      "  File \"<ipython-input-12-f24f0a549de7>\", line 39, in test_09_find_the_king_of_winter_olympics\n",
      "    self.assertIsInstance(the_king_of_winter_olympics, pd.core.frame.DataFrame)\n",
      "AssertionError: None is not an instance of <class 'pandas.core.frame.DataFrame'>\n",
      "\n",
      "======================================================================\n",
      "FAIL: test_10_find_largest_ratio (__main__.TestDataFrameWranglingWithPandasBasic)\n",
      "----------------------------------------------------------------------\n",
      "Traceback (most recent call last):\n",
      "  File \"<ipython-input-12-f24f0a549de7>\", line 45, in test_10_find_largest_ratio\n",
      "    self.assertIsInstance(largest_ratio, pd.core.series.Series)\n",
      "AssertionError: None is not an instance of <class 'pandas.core.series.Series'>\n",
      "\n",
      "----------------------------------------------------------------------\n",
      "Ran 10 tests in 0.021s\n",
      "\n",
      "FAILED (failures=10)\n"
     ]
    }
   ],
   "source": [
    "class TestDataFrameWranglingWithPandasBasic(unittest.TestCase):\n",
    "    def test_01_create_an_index(self):\n",
    "        an_index = create_an_index()\n",
    "        self.assertIsInstance(an_index, pd.core.indexes.base.Index)\n",
    "        self.assertEqual(an_index.shape, (5,))\n",
    "    def test_02_create_first_five_odds_series(self):\n",
    "        first_five_odds_series = create_first_five_odds_series()\n",
    "        self.assertIsInstance(first_five_odds_series, pd.core.series.Series)\n",
    "        self.assertEqual(first_five_odds_series.shape, (5,))\n",
    "    def test_03_create_first_five_evens_series(self):\n",
    "        first_five_evens_series = create_first_five_evens_series()\n",
    "        self.assertIsInstance(first_five_evens_series, pd.core.series.Series)\n",
    "        self.assertEqual(first_five_evens_series.shape, (5,))\n",
    "    def test_04_create_first_five_integers_df(self):\n",
    "        first_five_integers_df = create_first_five_integers_df()\n",
    "        self.assertIsInstance(first_five_integers_df, pd.core.frame.DataFrame)\n",
    "        self.assertEqual(first_five_integers_df.shape, (5, 2))\n",
    "    def test_05_create_trilogy_df(self):\n",
    "        trilogy_df = create_trilogy_df()\n",
    "        self.assertIsInstance(trilogy_df, pd.core.frame.DataFrame)\n",
    "        self.assertEqual(trilogy_df.shape, (6, 4))\n",
    "    def test_06_get_olympic_df(self):\n",
    "        olympic_df = get_olympic_df('all_time_olympic_medals.csv')\n",
    "        self.assertIsInstance(olympic_df, pd.core.frame.DataFrame)\n",
    "        self.assertEqual(olympic_df.shape, (153, 17))\n",
    "    def test_07_find_taiwan(self):\n",
    "        taiwan = find_taiwan('all_time_olympic_medals.csv')\n",
    "        self.assertIsInstance(taiwan, pd.core.frame.DataFrame)\n",
    "        self.assertEqual(taiwan.shape, (1, 17))\n",
    "        self.assertEqual(taiwan['team_name'].values[0], 'Chinese Taipei')\n",
    "    def test_08_find_the_king_of_summer_olympics(self):\n",
    "        the_king_of_summer_olympics = find_the_king_of_summer_olympics('all_time_olympic_medals.csv')\n",
    "        self.assertIsInstance(the_king_of_summer_olympics, pd.core.frame.DataFrame)\n",
    "        self.assertEqual(the_king_of_summer_olympics.shape, (1, 17))\n",
    "        self.assertEqual(the_king_of_summer_olympics['no_summer_golds'].values[0], 1022)\n",
    "        self.assertEqual(the_king_of_summer_olympics['team_name'].values[0], 'United States')\n",
    "    def test_09_find_the_king_of_winter_olympics(self):\n",
    "        the_king_of_winter_olympics = find_the_king_of_winter_olympics('all_time_olympic_medals.csv')\n",
    "        self.assertIsInstance(the_king_of_winter_olympics, pd.core.frame.DataFrame)\n",
    "        self.assertEqual(the_king_of_winter_olympics.shape, (1, 17))\n",
    "        self.assertEqual(the_king_of_winter_olympics['no_winter_golds'].values[0], 132)\n",
    "        self.assertEqual(the_king_of_winter_olympics['team_name'].values[0], 'Norway')\n",
    "    def test_10_find_largest_ratio(self):\n",
    "        largest_ratio = find_largest_ratio('all_time_olympic_medals.csv')\n",
    "        self.assertIsInstance(largest_ratio, pd.core.series.Series)\n",
    "        self.assertEqual(largest_ratio.size, 17)\n",
    "        self.assertEqual(largest_ratio['team_name'], 'Hungary')\n",
    "\n",
    "suite = unittest.TestLoader().loadTestsFromTestCase(TestDataFrameWranglingWithPandasBasic)\n",
    "runner = unittest.TextTestRunner(verbosity=2)\n",
    "test_results = runner.run(suite)\n",
    "number_of_failures = len(test_results.failures)\n",
    "number_of_errors = len(test_results.errors)\n",
    "number_of_test_runs = test_results.testsRun\n",
    "number_of_successes = number_of_test_runs - (number_of_failures + number_of_errors)\n",
    "cwd = os.getcwd()\n",
    "folder_name = cwd.split(\"/\")[-1]\n",
    "with open(\"../exercise_index.json\", \"r\") as content:\n",
    "    exercise_index = json.load(content)\n",
    "chapter_name = exercise_index[folder_name]"
   ]
  },
  {
   "cell_type": "code",
   "execution_count": 13,
   "metadata": {
    "deletable": false,
    "editable": false
   },
   "outputs": [
    {
     "name": "stdout",
     "output_type": "stream",
     "text": [
      "你在「以 Pandas 處理表格式資料」章節中的 10 道 Python 練習答對了 0 題。\n"
     ]
    }
   ],
   "source": [
    "print(\"你在「{}」章節中的 {} 道 Python 練習答對了 {} 題。\".format(chapter_name, number_of_test_runs, number_of_successes))"
   ]
  }
 ],
 "metadata": {
  "kernelspec": {
   "display_name": "Python Data Science",
   "language": "python",
   "name": "pyds"
  },
  "language_info": {
   "codemirror_mode": {
    "name": "ipython",
    "version": 3
   },
   "file_extension": ".py",
   "mimetype": "text/x-python",
   "name": "python",
   "nbconvert_exporter": "python",
   "pygments_lexer": "ipython3",
   "version": "3.8.10"
  }
 },
 "nbformat": 4,
 "nbformat_minor": 4
}
