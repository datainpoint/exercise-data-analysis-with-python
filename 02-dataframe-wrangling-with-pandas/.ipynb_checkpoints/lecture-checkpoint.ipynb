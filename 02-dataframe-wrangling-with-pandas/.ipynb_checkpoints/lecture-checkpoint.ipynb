{
 "cells": [
  {
   "cell_type": "markdown",
   "metadata": {
    "slideshow": {
     "slide_type": "slide"
    }
   },
   "source": [
    "# Python 資料分析\n",
    "\n",
    "> 以 Pandas 處理表格式資料\n",
    "\n",
    "[數據交點](https://www.datainpoint.com/) | 郭耀仁 <yaojenkuo@datainpoint.com>"
   ]
  },
  {
   "cell_type": "code",
   "execution_count": 1,
   "metadata": {
    "slideshow": {
     "slide_type": "subslide"
    }
   },
   "outputs": [],
   "source": [
    "import datetime\n",
    "import urllib\n",
    "import requests\n",
    "import numpy as np"
   ]
  },
  {
   "cell_type": "markdown",
   "metadata": {
    "slideshow": {
     "slide_type": "slide"
    }
   },
   "source": [
    "## 關於 Pandas"
   ]
  },
  {
   "cell_type": "markdown",
   "metadata": {
    "slideshow": {
     "slide_type": "subslide"
    }
   },
   "source": [
    "## 什麼是 Pandas？\n",
    "\n",
    "> Pandas 是 Python 處理表格式資料的第三方模組（套件），它創造了稱為索引（Index）、序列（Series）與資料框（DataFrame）的資料結構，透過這些資料結構，可以讓 Python 在面對文字檔案、Excel 試算表與關聯式資料庫時能夠使用更直覺的觀念操作，其中資料框啟發自 R 語言。\n",
    "\n",
    "來源：<https://github.com/pandas-dev/pandas>"
   ]
  },
  {
   "cell_type": "markdown",
   "metadata": {
    "slideshow": {
     "slide_type": "subslide"
    }
   },
   "source": [
    "## 為什麼資料分析採用 Pandas？\n",
    "\n",
    "在 Pandas 誕生之前（2008 年）Python 並沒有一個合適的資料結構來處理資料分析常見的「表格式資料（Tabular datasets）」，Python 使用者必須在工作流程中切換到像是 R 語言或者 Matlab。"
   ]
  },
  {
   "cell_type": "markdown",
   "metadata": {
    "slideshow": {
     "slide_type": "subslide"
    }
   },
   "source": [
    "## 以 `import` 指令載入 Pandas\n",
    "\n",
    "`pandas` 的官方縮寫為 `pd`。"
   ]
  },
  {
   "cell_type": "code",
   "execution_count": 2,
   "metadata": {},
   "outputs": [],
   "source": [
    "import pandas as pd"
   ]
  },
  {
   "cell_type": "markdown",
   "metadata": {
    "slideshow": {
     "slide_type": "subslide"
    }
   },
   "source": [
    "## 如果環境中沒有安裝 Pandas，載入時會遭遇 `ModuleNotFoundError`\n",
    "\n",
    "```\n",
    "Traceback (most recent call last):\n",
    "  File \"<stdin>\", line 1, in <module>\n",
    "ModuleNotFoundError: No module named 'pandas'\n",
    "```"
   ]
  },
  {
   "cell_type": "markdown",
   "metadata": {
    "slideshow": {
     "slide_type": "subslide"
    }
   },
   "source": [
    "## 如果遭遇 `ModuleNotFoundError` 可以在終端機使用 `pip install` 指令安裝\n",
    "\n",
    "```bash\n",
    "pip install pandas\n",
    "```"
   ]
  },
  {
   "cell_type": "markdown",
   "metadata": {
    "slideshow": {
     "slide_type": "subslide"
    }
   },
   "source": [
    "## 可以透過兩個屬性檢查版本號與安裝路徑\n",
    "\n",
    "- `__version__` 屬性檢查版本號。\n",
    "- `__file__` 屬性檢查安裝路徑。"
   ]
  },
  {
   "cell_type": "code",
   "execution_count": 3,
   "metadata": {},
   "outputs": [
    {
     "name": "stdout",
     "output_type": "stream",
     "text": [
      "1.2.4\n",
      "/Users/kuoyaojen/opt/miniconda3/envs/pyds/lib/python3.8/site-packages/pandas/__init__.py\n"
     ]
    }
   ],
   "source": [
    "print(pd.__version__)\n",
    "print(pd.__file__)"
   ]
  },
  {
   "cell_type": "markdown",
   "metadata": {
    "slideshow": {
     "slide_type": "subslide"
    }
   },
   "source": [
    "## （沒什麼用的）冷知識：Pandas 跟熊貓的關係是？\n",
    "\n",
    "![](https://media.giphy.com/media/46Zj6ze2Z2t4k/giphy.gif)\n",
    "\n",
    "來源：<https://giphy.com>"
   ]
  },
  {
   "cell_type": "markdown",
   "metadata": {
    "slideshow": {
     "slide_type": "subslide"
    }
   },
   "source": [
    "## 與熊貓完全沒有關係，Pandas 是由三個起初創造的資料結構類別名稱組合而成\n",
    "\n",
    "- **Pan**el（自從版本 0.20.0 之後停用）\n",
    "- **Da**taFrame\n",
    "- **S**eries"
   ]
  },
  {
   "cell_type": "markdown",
   "metadata": {
    "slideshow": {
     "slide_type": "slide"
    }
   },
   "source": [
    "## Pandas 起步走"
   ]
  },
  {
   "cell_type": "markdown",
   "metadata": {
    "slideshow": {
     "slide_type": "subslide"
    }
   },
   "source": [
    "## 想要精通 Pandas，必須掌握 `Index`、`ndarray`、`Series` 與 `DataFrame` 四個類別之間的關係\n",
    "\n",
    "- `Series` 由 `Index` 與 `ndarray` 組合而成。\n",
    "- `DataFrame` 由數個共享同一個 `Index` 的 `Series` 組合而成。"
   ]
  },
  {
   "cell_type": "markdown",
   "metadata": {
    "slideshow": {
     "slide_type": "subslide"
    }
   },
   "source": [
    "## Pandas 的 `Index` 類別\n",
    "\n",
    "使用 `Index` 函數創造 `Index` 類別的實例。"
   ]
  },
  {
   "cell_type": "code",
   "execution_count": 4,
   "metadata": {},
   "outputs": [
    {
     "name": "stdout",
     "output_type": "stream",
     "text": [
      "<class 'pandas.core.indexes.numeric.Int64Index'>\n"
     ]
    }
   ],
   "source": [
    "prime_indices = pd.Index([2, 3, 5, 7, 11, 13, 17, 19, 23, 29])\n",
    "print(type(prime_indices))"
   ]
  },
  {
   "cell_type": "markdown",
   "metadata": {
    "slideshow": {
     "slide_type": "subslide"
    }
   },
   "source": [
    "## `Index` 類別像是 Python 內建 `tuple` 與 `set` 兩種類別的結合\n",
    "\n",
    "- 具有 `tuple` 無法更動的特性。\n",
    "- 具有 `set` 集合運算的特性。 "
   ]
  },
  {
   "cell_type": "code",
   "execution_count": 5,
   "metadata": {
    "slideshow": {
     "slide_type": "subslide"
    }
   },
   "outputs": [
    {
     "name": "stdout",
     "output_type": "stream",
     "text": [
      "Immutable!\n"
     ]
    }
   ],
   "source": [
    "# Index has the characteristics of a tuple\n",
    "prime_indices = pd.Index([2, 3, 5, 7, 11, 13, 17, 19, 23, 29])\n",
    "try:\n",
    "    prime_indices[-1] = 31\n",
    "except:\n",
    "    print(\"Immutable!\")"
   ]
  },
  {
   "cell_type": "code",
   "execution_count": 6,
   "metadata": {
    "slideshow": {
     "slide_type": "subslide"
    }
   },
   "outputs": [
    {
     "name": "stdout",
     "output_type": "stream",
     "text": [
      "Int64Index([3, 5, 7, 11, 13, 17, 19, 23, 29], dtype='int64')\n",
      "Int64Index([1, 2, 3, 5, 7, 9, 11, 13, 15, 17, 19, 21, 23, 25, 27, 29], dtype='int64')\n",
      "Int64Index([1, 2, 9, 15, 21, 25, 27], dtype='int64')\n",
      "Int64Index([2], dtype='int64')\n",
      "Int64Index([1, 9, 15, 21, 25, 27], dtype='int64')\n"
     ]
    }
   ],
   "source": [
    "# Index has the characteristics of a set\n",
    "odd_indices = pd.Index(range(1, 30, 2))\n",
    "print(prime_indices.intersection(odd_indices))         # prime_indices & odd_indices\n",
    "print(prime_indices.union(odd_indices))                # prime_indices | odd_indices\n",
    "print(prime_indices.symmetric_difference(odd_indices)) # prime_indices ^ odd_indices\n",
    "print(prime_indices.difference(odd_indices))\n",
    "print(odd_indices.difference(prime_indices))"
   ]
  },
  {
   "cell_type": "markdown",
   "metadata": {
    "slideshow": {
     "slide_type": "subslide"
    }
   },
   "source": [
    "## Pandas 的 `Series` 類別\n",
    "\n",
    "使用 `Series` 函數創造 `Series` 類別的實例。"
   ]
  },
  {
   "cell_type": "code",
   "execution_count": 7,
   "metadata": {},
   "outputs": [
    {
     "name": "stdout",
     "output_type": "stream",
     "text": [
      "<class 'pandas.core.series.Series'>\n"
     ]
    }
   ],
   "source": [
    "prime_series = pd.Series([2, 3, 5, 7, 11, 13, 17, 19, 23, 29])\n",
    "print(type(prime_series))"
   ]
  },
  {
   "cell_type": "markdown",
   "metadata": {
    "slideshow": {
     "slide_type": "subslide"
    }
   },
   "source": [
    "## `Series` 由 `Index` 與 `ndarray` 組合而成"
   ]
  },
  {
   "cell_type": "code",
   "execution_count": 8,
   "metadata": {},
   "outputs": [
    {
     "name": "stdout",
     "output_type": "stream",
     "text": [
      "<class 'pandas.core.indexes.range.RangeIndex'>\n",
      "<class 'numpy.ndarray'>\n"
     ]
    }
   ],
   "source": [
    "print(type(prime_series.index))\n",
    "print(type(prime_series.values))"
   ]
  },
  {
   "cell_type": "markdown",
   "metadata": {
    "slideshow": {
     "slide_type": "subslide"
    }
   },
   "source": [
    "## Pandas 的 `DataFrame` 類別\n",
    "\n",
    "使用 `DataFrame` 函數創造 `DataFrame` 類別的實例。"
   ]
  },
  {
   "cell_type": "code",
   "execution_count": 9,
   "metadata": {},
   "outputs": [
    {
     "name": "stdout",
     "output_type": "stream",
     "text": [
      "<class 'pandas.core.frame.DataFrame'>\n"
     ]
    }
   ],
   "source": [
    "movie_df = pd.DataFrame()\n",
    "movie_df[\"title\"] = [\"The Shawshank Redemption\", \"The Dark Knight\", \"Schindler's List\", \"Forrest Gump\", \"Inception\"]\n",
    "movie_df[\"imdb_rating\"] = [9.3, 9.0, 8.9, 8.8, 8.7]\n",
    "print(type(movie_df))"
   ]
  },
  {
   "cell_type": "markdown",
   "metadata": {
    "slideshow": {
     "slide_type": "subslide"
    }
   },
   "source": [
    "## `DataFrame` 由數個 `Series` 共享同一個 `Index` 組成"
   ]
  },
  {
   "cell_type": "code",
   "execution_count": 10,
   "metadata": {},
   "outputs": [
    {
     "name": "stdout",
     "output_type": "stream",
     "text": [
      "<class 'pandas.core.indexes.range.RangeIndex'>\n",
      "<class 'pandas.core.series.Series'>\n",
      "<class 'pandas.core.series.Series'>\n"
     ]
    }
   ],
   "source": [
    "print(type(movie_df.index))\n",
    "print(type(movie_df[\"title\"]))\n",
    "print(type(movie_df[\"imdb_rating\"]))"
   ]
  },
  {
   "cell_type": "markdown",
   "metadata": {
    "slideshow": {
     "slide_type": "subslide"
    }
   },
   "source": [
    "## Pandas 提供函數、類別屬性與方法處理表格式資料的\n",
    "\n",
    "- 載入（Import）\n",
    "- 清理（Tidy）\n",
    "- 轉型（Transform）"
   ]
  },
  {
   "cell_type": "markdown",
   "metadata": {
    "slideshow": {
     "slide_type": "slide"
    }
   },
   "source": [
    "## `DataFrame` 的基礎屬性和方法"
   ]
  },
  {
   "cell_type": "code",
   "execution_count": 11,
   "metadata": {
    "slideshow": {
     "slide_type": "subslide"
    }
   },
   "outputs": [],
   "source": [
    "def get_latest_daily_report():\n",
    "    \"\"\"\n",
    "    This function returns the latest global daily report from https://github.com/CSSEGISandData/COVID-19 and its file date.\n",
    "    \"\"\"\n",
    "    latest_date = datetime.date.today()\n",
    "    day_delta = datetime.timedelta(days=1)\n",
    "    fmt = '%m-%d-%Y'\n",
    "    while True:\n",
    "        try:\n",
    "            latest_date_fmt = latest_date.strftime(fmt)\n",
    "            csv_url = \"https://raw.githubusercontent.com/CSSEGISandData/COVID-19/master/csse_covid_19_data/csse_covid_19_daily_reports/{}.csv\".format(latest_date_fmt)\n",
    "            daily_report = pd.read_csv(csv_url)\n",
    "            print(\"載入了 {} 的每日報告。\".format(latest_date_fmt))\n",
    "            break\n",
    "        except urllib.error.HTTPError:\n",
    "            latest_date_fmt = latest_date.strftime(fmt)\n",
    "            print(\"尚未有 {} 的每日報告。\".format(latest_date_fmt))\n",
    "            latest_date -= day_delta\n",
    "    return daily_report"
   ]
  },
  {
   "cell_type": "code",
   "execution_count": 12,
   "metadata": {
    "slideshow": {
     "slide_type": "subslide"
    }
   },
   "outputs": [
    {
     "name": "stdout",
     "output_type": "stream",
     "text": [
      "尚未有 07-11-2021 的每日報告。\n",
      "尚未有 07-10-2021 的每日報告。\n",
      "載入了 07-09-2021 的每日報告。\n"
     ]
    }
   ],
   "source": [
    "daily_report = get_latest_daily_report()"
   ]
  },
  {
   "cell_type": "markdown",
   "metadata": {
    "slideshow": {
     "slide_type": "subslide"
    }
   },
   "source": [
    "## `DataFrame` 的基礎屬性\n",
    "\n",
    "- `shape`\n",
    "- `dtypes`\n",
    "- `index`\n",
    "- `columns`"
   ]
  },
  {
   "cell_type": "code",
   "execution_count": 13,
   "metadata": {
    "slideshow": {
     "slide_type": "subslide"
    }
   },
   "outputs": [
    {
     "name": "stdout",
     "output_type": "stream",
     "text": [
      "(3987, 14)\n",
      "FIPS                   float64\n",
      "Admin2                  object\n",
      "Province_State          object\n",
      "Country_Region          object\n",
      "Last_Update             object\n",
      "Lat                    float64\n",
      "Long_                  float64\n",
      "Confirmed                int64\n",
      "Deaths                   int64\n",
      "Recovered              float64\n",
      "Active                 float64\n",
      "Combined_Key            object\n",
      "Incident_Rate          float64\n",
      "Case_Fatality_Ratio    float64\n",
      "dtype: object\n",
      "RangeIndex(start=0, stop=3987, step=1)\n",
      "Index(['FIPS', 'Admin2', 'Province_State', 'Country_Region', 'Last_Update',\n",
      "       'Lat', 'Long_', 'Confirmed', 'Deaths', 'Recovered', 'Active',\n",
      "       'Combined_Key', 'Incident_Rate', 'Case_Fatality_Ratio'],\n",
      "      dtype='object')\n"
     ]
    }
   ],
   "source": [
    "print(daily_report.shape)\n",
    "print(daily_report.dtypes)\n",
    "print(daily_report.index)\n",
    "print(daily_report.columns)"
   ]
  },
  {
   "cell_type": "markdown",
   "metadata": {
    "slideshow": {
     "slide_type": "subslide"
    }
   },
   "source": [
    "## `DataFrame` 的基礎方法\n",
    "\n",
    "- `head(n)`\n",
    "- `tail(n)`\n",
    "- `describe`\n",
    "- `info`\n",
    "- `set_index`\n",
    "- `reset_index`"
   ]
  },
  {
   "cell_type": "markdown",
   "metadata": {
    "slideshow": {
     "slide_type": "subslide"
    }
   },
   "source": [
    "## `head(n)` 方法回傳欄位名稱與前 n 列觀測值"
   ]
  },
  {
   "cell_type": "code",
   "execution_count": 14,
   "metadata": {
    "slideshow": {
     "slide_type": "-"
    }
   },
   "outputs": [
    {
     "data": {
      "text/html": [
       "<div>\n",
       "<style scoped>\n",
       "    .dataframe tbody tr th:only-of-type {\n",
       "        vertical-align: middle;\n",
       "    }\n",
       "\n",
       "    .dataframe tbody tr th {\n",
       "        vertical-align: top;\n",
       "    }\n",
       "\n",
       "    .dataframe thead th {\n",
       "        text-align: right;\n",
       "    }\n",
       "</style>\n",
       "<table border=\"1\" class=\"dataframe\">\n",
       "  <thead>\n",
       "    <tr style=\"text-align: right;\">\n",
       "      <th></th>\n",
       "      <th>FIPS</th>\n",
       "      <th>Admin2</th>\n",
       "      <th>Province_State</th>\n",
       "      <th>Country_Region</th>\n",
       "      <th>Last_Update</th>\n",
       "      <th>Lat</th>\n",
       "      <th>Long_</th>\n",
       "      <th>Confirmed</th>\n",
       "      <th>Deaths</th>\n",
       "      <th>Recovered</th>\n",
       "      <th>Active</th>\n",
       "      <th>Combined_Key</th>\n",
       "      <th>Incident_Rate</th>\n",
       "      <th>Case_Fatality_Ratio</th>\n",
       "    </tr>\n",
       "  </thead>\n",
       "  <tbody>\n",
       "    <tr>\n",
       "      <th>0</th>\n",
       "      <td>NaN</td>\n",
       "      <td>NaN</td>\n",
       "      <td>NaN</td>\n",
       "      <td>Afghanistan</td>\n",
       "      <td>2021-07-10 04:21:25</td>\n",
       "      <td>33.93911</td>\n",
       "      <td>67.709953</td>\n",
       "      <td>131586</td>\n",
       "      <td>5561</td>\n",
       "      <td>79446.0</td>\n",
       "      <td>46579.0</td>\n",
       "      <td>Afghanistan</td>\n",
       "      <td>338.021083</td>\n",
       "      <td>4.226133</td>\n",
       "    </tr>\n",
       "    <tr>\n",
       "      <th>1</th>\n",
       "      <td>NaN</td>\n",
       "      <td>NaN</td>\n",
       "      <td>NaN</td>\n",
       "      <td>Albania</td>\n",
       "      <td>2021-07-10 04:21:25</td>\n",
       "      <td>41.15330</td>\n",
       "      <td>20.168300</td>\n",
       "      <td>132580</td>\n",
       "      <td>2456</td>\n",
       "      <td>130043.0</td>\n",
       "      <td>81.0</td>\n",
       "      <td>Albania</td>\n",
       "      <td>4606.991452</td>\n",
       "      <td>1.852466</td>\n",
       "    </tr>\n",
       "    <tr>\n",
       "      <th>2</th>\n",
       "      <td>NaN</td>\n",
       "      <td>NaN</td>\n",
       "      <td>NaN</td>\n",
       "      <td>Algeria</td>\n",
       "      <td>2021-07-10 04:21:25</td>\n",
       "      <td>28.03390</td>\n",
       "      <td>1.659600</td>\n",
       "      <td>144483</td>\n",
       "      <td>3811</td>\n",
       "      <td>100383.0</td>\n",
       "      <td>40289.0</td>\n",
       "      <td>Algeria</td>\n",
       "      <td>329.485892</td>\n",
       "      <td>2.637681</td>\n",
       "    </tr>\n",
       "    <tr>\n",
       "      <th>3</th>\n",
       "      <td>NaN</td>\n",
       "      <td>NaN</td>\n",
       "      <td>NaN</td>\n",
       "      <td>Andorra</td>\n",
       "      <td>2021-07-10 04:21:25</td>\n",
       "      <td>42.50630</td>\n",
       "      <td>1.521800</td>\n",
       "      <td>14075</td>\n",
       "      <td>127</td>\n",
       "      <td>13770.0</td>\n",
       "      <td>178.0</td>\n",
       "      <td>Andorra</td>\n",
       "      <td>18216.527535</td>\n",
       "      <td>0.902309</td>\n",
       "    </tr>\n",
       "    <tr>\n",
       "      <th>4</th>\n",
       "      <td>NaN</td>\n",
       "      <td>NaN</td>\n",
       "      <td>NaN</td>\n",
       "      <td>Angola</td>\n",
       "      <td>2021-07-10 04:21:25</td>\n",
       "      <td>-11.20270</td>\n",
       "      <td>17.873900</td>\n",
       "      <td>39791</td>\n",
       "      <td>928</td>\n",
       "      <td>34169.0</td>\n",
       "      <td>4694.0</td>\n",
       "      <td>Angola</td>\n",
       "      <td>121.069420</td>\n",
       "      <td>2.332186</td>\n",
       "    </tr>\n",
       "  </tbody>\n",
       "</table>\n",
       "</div>"
      ],
      "text/plain": [
       "   FIPS Admin2 Province_State Country_Region          Last_Update       Lat  \\\n",
       "0   NaN    NaN            NaN    Afghanistan  2021-07-10 04:21:25  33.93911   \n",
       "1   NaN    NaN            NaN        Albania  2021-07-10 04:21:25  41.15330   \n",
       "2   NaN    NaN            NaN        Algeria  2021-07-10 04:21:25  28.03390   \n",
       "3   NaN    NaN            NaN        Andorra  2021-07-10 04:21:25  42.50630   \n",
       "4   NaN    NaN            NaN         Angola  2021-07-10 04:21:25 -11.20270   \n",
       "\n",
       "       Long_  Confirmed  Deaths  Recovered   Active Combined_Key  \\\n",
       "0  67.709953     131586    5561    79446.0  46579.0  Afghanistan   \n",
       "1  20.168300     132580    2456   130043.0     81.0      Albania   \n",
       "2   1.659600     144483    3811   100383.0  40289.0      Algeria   \n",
       "3   1.521800      14075     127    13770.0    178.0      Andorra   \n",
       "4  17.873900      39791     928    34169.0   4694.0       Angola   \n",
       "\n",
       "   Incident_Rate  Case_Fatality_Ratio  \n",
       "0     338.021083             4.226133  \n",
       "1    4606.991452             1.852466  \n",
       "2     329.485892             2.637681  \n",
       "3   18216.527535             0.902309  \n",
       "4     121.069420             2.332186  "
      ]
     },
     "execution_count": 14,
     "metadata": {},
     "output_type": "execute_result"
    }
   ],
   "source": [
    "daily_report.head() # n is default to 5"
   ]
  },
  {
   "cell_type": "markdown",
   "metadata": {
    "slideshow": {
     "slide_type": "subslide"
    }
   },
   "source": [
    "## `tail(n)` 方法回傳欄位名稱與後 n 列觀測值"
   ]
  },
  {
   "cell_type": "code",
   "execution_count": 15,
   "metadata": {},
   "outputs": [
    {
     "data": {
      "text/html": [
       "<div>\n",
       "<style scoped>\n",
       "    .dataframe tbody tr th:only-of-type {\n",
       "        vertical-align: middle;\n",
       "    }\n",
       "\n",
       "    .dataframe tbody tr th {\n",
       "        vertical-align: top;\n",
       "    }\n",
       "\n",
       "    .dataframe thead th {\n",
       "        text-align: right;\n",
       "    }\n",
       "</style>\n",
       "<table border=\"1\" class=\"dataframe\">\n",
       "  <thead>\n",
       "    <tr style=\"text-align: right;\">\n",
       "      <th></th>\n",
       "      <th>FIPS</th>\n",
       "      <th>Admin2</th>\n",
       "      <th>Province_State</th>\n",
       "      <th>Country_Region</th>\n",
       "      <th>Last_Update</th>\n",
       "      <th>Lat</th>\n",
       "      <th>Long_</th>\n",
       "      <th>Confirmed</th>\n",
       "      <th>Deaths</th>\n",
       "      <th>Recovered</th>\n",
       "      <th>Active</th>\n",
       "      <th>Combined_Key</th>\n",
       "      <th>Incident_Rate</th>\n",
       "      <th>Case_Fatality_Ratio</th>\n",
       "    </tr>\n",
       "  </thead>\n",
       "  <tbody>\n",
       "    <tr>\n",
       "      <th>3984</th>\n",
       "      <td>NaN</td>\n",
       "      <td>NaN</td>\n",
       "      <td>NaN</td>\n",
       "      <td>Yemen</td>\n",
       "      <td>2021-07-10 04:21:25</td>\n",
       "      <td>15.552727</td>\n",
       "      <td>48.516388</td>\n",
       "      <td>6940</td>\n",
       "      <td>1366</td>\n",
       "      <td>4128.0</td>\n",
       "      <td>1446.0</td>\n",
       "      <td>Yemen</td>\n",
       "      <td>23.268314</td>\n",
       "      <td>19.682997</td>\n",
       "    </tr>\n",
       "    <tr>\n",
       "      <th>3985</th>\n",
       "      <td>NaN</td>\n",
       "      <td>NaN</td>\n",
       "      <td>NaN</td>\n",
       "      <td>Zambia</td>\n",
       "      <td>2021-07-10 04:21:25</td>\n",
       "      <td>-13.133897</td>\n",
       "      <td>27.849332</td>\n",
       "      <td>172405</td>\n",
       "      <td>2736</td>\n",
       "      <td>154776.0</td>\n",
       "      <td>14893.0</td>\n",
       "      <td>Zambia</td>\n",
       "      <td>937.801418</td>\n",
       "      <td>1.586961</td>\n",
       "    </tr>\n",
       "    <tr>\n",
       "      <th>3986</th>\n",
       "      <td>NaN</td>\n",
       "      <td>NaN</td>\n",
       "      <td>NaN</td>\n",
       "      <td>Zimbabwe</td>\n",
       "      <td>2021-07-10 04:21:25</td>\n",
       "      <td>-19.015438</td>\n",
       "      <td>29.154857</td>\n",
       "      <td>65066</td>\n",
       "      <td>2084</td>\n",
       "      <td>44021.0</td>\n",
       "      <td>18961.0</td>\n",
       "      <td>Zimbabwe</td>\n",
       "      <td>437.773798</td>\n",
       "      <td>3.202902</td>\n",
       "    </tr>\n",
       "  </tbody>\n",
       "</table>\n",
       "</div>"
      ],
      "text/plain": [
       "      FIPS Admin2 Province_State Country_Region          Last_Update  \\\n",
       "3984   NaN    NaN            NaN          Yemen  2021-07-10 04:21:25   \n",
       "3985   NaN    NaN            NaN         Zambia  2021-07-10 04:21:25   \n",
       "3986   NaN    NaN            NaN       Zimbabwe  2021-07-10 04:21:25   \n",
       "\n",
       "            Lat      Long_  Confirmed  Deaths  Recovered   Active  \\\n",
       "3984  15.552727  48.516388       6940    1366     4128.0   1446.0   \n",
       "3985 -13.133897  27.849332     172405    2736   154776.0  14893.0   \n",
       "3986 -19.015438  29.154857      65066    2084    44021.0  18961.0   \n",
       "\n",
       "     Combined_Key  Incident_Rate  Case_Fatality_Ratio  \n",
       "3984        Yemen      23.268314            19.682997  \n",
       "3985       Zambia     937.801418             1.586961  \n",
       "3986     Zimbabwe     437.773798             3.202902  "
      ]
     },
     "execution_count": 15,
     "metadata": {},
     "output_type": "execute_result"
    }
   ],
   "source": [
    "daily_report.tail(3)"
   ]
  },
  {
   "cell_type": "markdown",
   "metadata": {
    "slideshow": {
     "slide_type": "subslide"
    }
   },
   "source": [
    "## `describe` 方法回傳數值欄位的描述性統計"
   ]
  },
  {
   "cell_type": "code",
   "execution_count": 16,
   "metadata": {
    "slideshow": {
     "slide_type": "-"
    }
   },
   "outputs": [
    {
     "data": {
      "text/html": [
       "<div>\n",
       "<style scoped>\n",
       "    .dataframe tbody tr th:only-of-type {\n",
       "        vertical-align: middle;\n",
       "    }\n",
       "\n",
       "    .dataframe tbody tr th {\n",
       "        vertical-align: top;\n",
       "    }\n",
       "\n",
       "    .dataframe thead th {\n",
       "        text-align: right;\n",
       "    }\n",
       "</style>\n",
       "<table border=\"1\" class=\"dataframe\">\n",
       "  <thead>\n",
       "    <tr style=\"text-align: right;\">\n",
       "      <th></th>\n",
       "      <th>FIPS</th>\n",
       "      <th>Lat</th>\n",
       "      <th>Long_</th>\n",
       "      <th>Confirmed</th>\n",
       "      <th>Deaths</th>\n",
       "      <th>Recovered</th>\n",
       "      <th>Active</th>\n",
       "      <th>Incident_Rate</th>\n",
       "      <th>Case_Fatality_Ratio</th>\n",
       "    </tr>\n",
       "  </thead>\n",
       "  <tbody>\n",
       "    <tr>\n",
       "      <th>count</th>\n",
       "      <td>3266.000000</td>\n",
       "      <td>3899.000000</td>\n",
       "      <td>3899.000000</td>\n",
       "      <td>3.987000e+03</td>\n",
       "      <td>3987.000000</td>\n",
       "      <td>7.100000e+02</td>\n",
       "      <td>7.090000e+02</td>\n",
       "      <td>3898.000000</td>\n",
       "      <td>3946.000000</td>\n",
       "    </tr>\n",
       "    <tr>\n",
       "      <th>mean</th>\n",
       "      <td>32401.272811</td>\n",
       "      <td>35.953350</td>\n",
       "      <td>-71.975511</td>\n",
       "      <td>4.666668e+04</td>\n",
       "      <td>1008.024329</td>\n",
       "      <td>1.724758e+05</td>\n",
       "      <td>3.716540e+04</td>\n",
       "      <td>9141.552358</td>\n",
       "      <td>3.300682</td>\n",
       "    </tr>\n",
       "    <tr>\n",
       "      <th>std</th>\n",
       "      <td>18033.806874</td>\n",
       "      <td>13.073420</td>\n",
       "      <td>53.882250</td>\n",
       "      <td>2.614280e+05</td>\n",
       "      <td>5781.811243</td>\n",
       "      <td>5.039222e+05</td>\n",
       "      <td>2.888956e+05</td>\n",
       "      <td>3966.002492</td>\n",
       "      <td>75.958897</td>\n",
       "    </tr>\n",
       "    <tr>\n",
       "      <th>min</th>\n",
       "      <td>66.000000</td>\n",
       "      <td>-52.368000</td>\n",
       "      <td>-178.116500</td>\n",
       "      <td>0.000000e+00</td>\n",
       "      <td>0.000000</td>\n",
       "      <td>0.000000e+00</td>\n",
       "      <td>-2.036776e+06</td>\n",
       "      <td>0.000000</td>\n",
       "      <td>0.000000</td>\n",
       "    </tr>\n",
       "    <tr>\n",
       "      <th>25%</th>\n",
       "      <td>19049.500000</td>\n",
       "      <td>33.265691</td>\n",
       "      <td>-96.619226</td>\n",
       "      <td>1.168000e+03</td>\n",
       "      <td>20.000000</td>\n",
       "      <td>7.662500e+02</td>\n",
       "      <td>1.780000e+02</td>\n",
       "      <td>7120.590440</td>\n",
       "      <td>1.235782</td>\n",
       "    </tr>\n",
       "    <tr>\n",
       "      <th>50%</th>\n",
       "      <td>30068.000000</td>\n",
       "      <td>37.941636</td>\n",
       "      <td>-86.854759</td>\n",
       "      <td>3.242000e+03</td>\n",
       "      <td>60.000000</td>\n",
       "      <td>2.073500e+04</td>\n",
       "      <td>1.925000e+03</td>\n",
       "      <td>9775.297292</td>\n",
       "      <td>1.791994</td>\n",
       "    </tr>\n",
       "    <tr>\n",
       "      <th>75%</th>\n",
       "      <td>47040.500000</td>\n",
       "      <td>42.215069</td>\n",
       "      <td>-77.489691</td>\n",
       "      <td>1.351800e+04</td>\n",
       "      <td>212.500000</td>\n",
       "      <td>9.452700e+04</td>\n",
       "      <td>1.910900e+04</td>\n",
       "      <td>11597.240246</td>\n",
       "      <td>2.510085</td>\n",
       "    </tr>\n",
       "    <tr>\n",
       "      <th>max</th>\n",
       "      <td>99999.000000</td>\n",
       "      <td>71.706900</td>\n",
       "      <td>178.065000</td>\n",
       "      <td>6.140968e+06</td>\n",
       "      <td>131960.000000</td>\n",
       "      <td>5.900440e+06</td>\n",
       "      <td>5.281808e+06</td>\n",
       "      <td>42559.823966</td>\n",
       "      <td>4770.588235</td>\n",
       "    </tr>\n",
       "  </tbody>\n",
       "</table>\n",
       "</div>"
      ],
      "text/plain": [
       "               FIPS          Lat        Long_     Confirmed         Deaths  \\\n",
       "count   3266.000000  3899.000000  3899.000000  3.987000e+03    3987.000000   \n",
       "mean   32401.272811    35.953350   -71.975511  4.666668e+04    1008.024329   \n",
       "std    18033.806874    13.073420    53.882250  2.614280e+05    5781.811243   \n",
       "min       66.000000   -52.368000  -178.116500  0.000000e+00       0.000000   \n",
       "25%    19049.500000    33.265691   -96.619226  1.168000e+03      20.000000   \n",
       "50%    30068.000000    37.941636   -86.854759  3.242000e+03      60.000000   \n",
       "75%    47040.500000    42.215069   -77.489691  1.351800e+04     212.500000   \n",
       "max    99999.000000    71.706900   178.065000  6.140968e+06  131960.000000   \n",
       "\n",
       "          Recovered        Active  Incident_Rate  Case_Fatality_Ratio  \n",
       "count  7.100000e+02  7.090000e+02    3898.000000          3946.000000  \n",
       "mean   1.724758e+05  3.716540e+04    9141.552358             3.300682  \n",
       "std    5.039222e+05  2.888956e+05    3966.002492            75.958897  \n",
       "min    0.000000e+00 -2.036776e+06       0.000000             0.000000  \n",
       "25%    7.662500e+02  1.780000e+02    7120.590440             1.235782  \n",
       "50%    2.073500e+04  1.925000e+03    9775.297292             1.791994  \n",
       "75%    9.452700e+04  1.910900e+04   11597.240246             2.510085  \n",
       "max    5.900440e+06  5.281808e+06   42559.823966          4770.588235  "
      ]
     },
     "execution_count": 16,
     "metadata": {},
     "output_type": "execute_result"
    }
   ],
   "source": [
    "daily_report.describe()"
   ]
  },
  {
   "cell_type": "markdown",
   "metadata": {
    "slideshow": {
     "slide_type": "subslide"
    }
   },
   "source": [
    "## `info` 方法回傳資料框的詳細資訊"
   ]
  },
  {
   "cell_type": "code",
   "execution_count": 17,
   "metadata": {
    "slideshow": {
     "slide_type": "-"
    }
   },
   "outputs": [
    {
     "name": "stdout",
     "output_type": "stream",
     "text": [
      "<class 'pandas.core.frame.DataFrame'>\n",
      "RangeIndex: 3987 entries, 0 to 3986\n",
      "Data columns (total 14 columns):\n",
      " #   Column               Non-Null Count  Dtype  \n",
      "---  ------               --------------  -----  \n",
      " 0   FIPS                 3266 non-null   float64\n",
      " 1   Admin2               3271 non-null   object \n",
      " 2   Province_State       3813 non-null   object \n",
      " 3   Country_Region       3987 non-null   object \n",
      " 4   Last_Update          3987 non-null   object \n",
      " 5   Lat                  3899 non-null   float64\n",
      " 6   Long_                3899 non-null   float64\n",
      " 7   Confirmed            3987 non-null   int64  \n",
      " 8   Deaths               3987 non-null   int64  \n",
      " 9   Recovered            710 non-null    float64\n",
      " 10  Active               709 non-null    float64\n",
      " 11  Combined_Key         3987 non-null   object \n",
      " 12  Incident_Rate        3898 non-null   float64\n",
      " 13  Case_Fatality_Ratio  3946 non-null   float64\n",
      "dtypes: float64(7), int64(2), object(5)\n",
      "memory usage: 436.2+ KB\n"
     ]
    }
   ],
   "source": [
    "daily_report.info()"
   ]
  },
  {
   "cell_type": "markdown",
   "metadata": {
    "slideshow": {
     "slide_type": "subslide"
    }
   },
   "source": [
    "## `set_index` 方法可以指定欄位取代目前的 `Index`"
   ]
  },
  {
   "cell_type": "code",
   "execution_count": 18,
   "metadata": {},
   "outputs": [
    {
     "data": {
      "text/html": [
       "<div>\n",
       "<style scoped>\n",
       "    .dataframe tbody tr th:only-of-type {\n",
       "        vertical-align: middle;\n",
       "    }\n",
       "\n",
       "    .dataframe tbody tr th {\n",
       "        vertical-align: top;\n",
       "    }\n",
       "\n",
       "    .dataframe thead th {\n",
       "        text-align: right;\n",
       "    }\n",
       "</style>\n",
       "<table border=\"1\" class=\"dataframe\">\n",
       "  <thead>\n",
       "    <tr style=\"text-align: right;\">\n",
       "      <th></th>\n",
       "      <th>FIPS</th>\n",
       "      <th>Admin2</th>\n",
       "      <th>Province_State</th>\n",
       "      <th>Country_Region</th>\n",
       "      <th>Last_Update</th>\n",
       "      <th>Lat</th>\n",
       "      <th>Long_</th>\n",
       "      <th>Confirmed</th>\n",
       "      <th>Deaths</th>\n",
       "      <th>Recovered</th>\n",
       "      <th>Active</th>\n",
       "      <th>Incident_Rate</th>\n",
       "      <th>Case_Fatality_Ratio</th>\n",
       "    </tr>\n",
       "    <tr>\n",
       "      <th>Combined_Key</th>\n",
       "      <th></th>\n",
       "      <th></th>\n",
       "      <th></th>\n",
       "      <th></th>\n",
       "      <th></th>\n",
       "      <th></th>\n",
       "      <th></th>\n",
       "      <th></th>\n",
       "      <th></th>\n",
       "      <th></th>\n",
       "      <th></th>\n",
       "      <th></th>\n",
       "      <th></th>\n",
       "    </tr>\n",
       "  </thead>\n",
       "  <tbody>\n",
       "    <tr>\n",
       "      <th>Afghanistan</th>\n",
       "      <td>NaN</td>\n",
       "      <td>NaN</td>\n",
       "      <td>NaN</td>\n",
       "      <td>Afghanistan</td>\n",
       "      <td>2021-07-10 04:21:25</td>\n",
       "      <td>33.939110</td>\n",
       "      <td>67.709953</td>\n",
       "      <td>131586</td>\n",
       "      <td>5561</td>\n",
       "      <td>79446.0</td>\n",
       "      <td>46579.0</td>\n",
       "      <td>338.021083</td>\n",
       "      <td>4.226133</td>\n",
       "    </tr>\n",
       "    <tr>\n",
       "      <th>Albania</th>\n",
       "      <td>NaN</td>\n",
       "      <td>NaN</td>\n",
       "      <td>NaN</td>\n",
       "      <td>Albania</td>\n",
       "      <td>2021-07-10 04:21:25</td>\n",
       "      <td>41.153300</td>\n",
       "      <td>20.168300</td>\n",
       "      <td>132580</td>\n",
       "      <td>2456</td>\n",
       "      <td>130043.0</td>\n",
       "      <td>81.0</td>\n",
       "      <td>4606.991452</td>\n",
       "      <td>1.852466</td>\n",
       "    </tr>\n",
       "    <tr>\n",
       "      <th>Algeria</th>\n",
       "      <td>NaN</td>\n",
       "      <td>NaN</td>\n",
       "      <td>NaN</td>\n",
       "      <td>Algeria</td>\n",
       "      <td>2021-07-10 04:21:25</td>\n",
       "      <td>28.033900</td>\n",
       "      <td>1.659600</td>\n",
       "      <td>144483</td>\n",
       "      <td>3811</td>\n",
       "      <td>100383.0</td>\n",
       "      <td>40289.0</td>\n",
       "      <td>329.485892</td>\n",
       "      <td>2.637681</td>\n",
       "    </tr>\n",
       "    <tr>\n",
       "      <th>Andorra</th>\n",
       "      <td>NaN</td>\n",
       "      <td>NaN</td>\n",
       "      <td>NaN</td>\n",
       "      <td>Andorra</td>\n",
       "      <td>2021-07-10 04:21:25</td>\n",
       "      <td>42.506300</td>\n",
       "      <td>1.521800</td>\n",
       "      <td>14075</td>\n",
       "      <td>127</td>\n",
       "      <td>13770.0</td>\n",
       "      <td>178.0</td>\n",
       "      <td>18216.527535</td>\n",
       "      <td>0.902309</td>\n",
       "    </tr>\n",
       "    <tr>\n",
       "      <th>Angola</th>\n",
       "      <td>NaN</td>\n",
       "      <td>NaN</td>\n",
       "      <td>NaN</td>\n",
       "      <td>Angola</td>\n",
       "      <td>2021-07-10 04:21:25</td>\n",
       "      <td>-11.202700</td>\n",
       "      <td>17.873900</td>\n",
       "      <td>39791</td>\n",
       "      <td>928</td>\n",
       "      <td>34169.0</td>\n",
       "      <td>4694.0</td>\n",
       "      <td>121.069420</td>\n",
       "      <td>2.332186</td>\n",
       "    </tr>\n",
       "    <tr>\n",
       "      <th>...</th>\n",
       "      <td>...</td>\n",
       "      <td>...</td>\n",
       "      <td>...</td>\n",
       "      <td>...</td>\n",
       "      <td>...</td>\n",
       "      <td>...</td>\n",
       "      <td>...</td>\n",
       "      <td>...</td>\n",
       "      <td>...</td>\n",
       "      <td>...</td>\n",
       "      <td>...</td>\n",
       "      <td>...</td>\n",
       "      <td>...</td>\n",
       "    </tr>\n",
       "    <tr>\n",
       "      <th>Vietnam</th>\n",
       "      <td>NaN</td>\n",
       "      <td>NaN</td>\n",
       "      <td>NaN</td>\n",
       "      <td>Vietnam</td>\n",
       "      <td>2021-07-10 04:21:25</td>\n",
       "      <td>14.058324</td>\n",
       "      <td>108.277199</td>\n",
       "      <td>26608</td>\n",
       "      <td>110</td>\n",
       "      <td>8984.0</td>\n",
       "      <td>17514.0</td>\n",
       "      <td>27.335512</td>\n",
       "      <td>0.413410</td>\n",
       "    </tr>\n",
       "    <tr>\n",
       "      <th>West Bank and Gaza</th>\n",
       "      <td>NaN</td>\n",
       "      <td>NaN</td>\n",
       "      <td>NaN</td>\n",
       "      <td>West Bank and Gaza</td>\n",
       "      <td>2021-07-10 04:21:25</td>\n",
       "      <td>31.952200</td>\n",
       "      <td>35.233200</td>\n",
       "      <td>315047</td>\n",
       "      <td>3579</td>\n",
       "      <td>309543.0</td>\n",
       "      <td>1925.0</td>\n",
       "      <td>6175.677498</td>\n",
       "      <td>1.136021</td>\n",
       "    </tr>\n",
       "    <tr>\n",
       "      <th>Yemen</th>\n",
       "      <td>NaN</td>\n",
       "      <td>NaN</td>\n",
       "      <td>NaN</td>\n",
       "      <td>Yemen</td>\n",
       "      <td>2021-07-10 04:21:25</td>\n",
       "      <td>15.552727</td>\n",
       "      <td>48.516388</td>\n",
       "      <td>6940</td>\n",
       "      <td>1366</td>\n",
       "      <td>4128.0</td>\n",
       "      <td>1446.0</td>\n",
       "      <td>23.268314</td>\n",
       "      <td>19.682997</td>\n",
       "    </tr>\n",
       "    <tr>\n",
       "      <th>Zambia</th>\n",
       "      <td>NaN</td>\n",
       "      <td>NaN</td>\n",
       "      <td>NaN</td>\n",
       "      <td>Zambia</td>\n",
       "      <td>2021-07-10 04:21:25</td>\n",
       "      <td>-13.133897</td>\n",
       "      <td>27.849332</td>\n",
       "      <td>172405</td>\n",
       "      <td>2736</td>\n",
       "      <td>154776.0</td>\n",
       "      <td>14893.0</td>\n",
       "      <td>937.801418</td>\n",
       "      <td>1.586961</td>\n",
       "    </tr>\n",
       "    <tr>\n",
       "      <th>Zimbabwe</th>\n",
       "      <td>NaN</td>\n",
       "      <td>NaN</td>\n",
       "      <td>NaN</td>\n",
       "      <td>Zimbabwe</td>\n",
       "      <td>2021-07-10 04:21:25</td>\n",
       "      <td>-19.015438</td>\n",
       "      <td>29.154857</td>\n",
       "      <td>65066</td>\n",
       "      <td>2084</td>\n",
       "      <td>44021.0</td>\n",
       "      <td>18961.0</td>\n",
       "      <td>437.773798</td>\n",
       "      <td>3.202902</td>\n",
       "    </tr>\n",
       "  </tbody>\n",
       "</table>\n",
       "<p>3987 rows × 13 columns</p>\n",
       "</div>"
      ],
      "text/plain": [
       "                    FIPS Admin2 Province_State      Country_Region  \\\n",
       "Combined_Key                                                         \n",
       "Afghanistan          NaN    NaN            NaN         Afghanistan   \n",
       "Albania              NaN    NaN            NaN             Albania   \n",
       "Algeria              NaN    NaN            NaN             Algeria   \n",
       "Andorra              NaN    NaN            NaN             Andorra   \n",
       "Angola               NaN    NaN            NaN              Angola   \n",
       "...                  ...    ...            ...                 ...   \n",
       "Vietnam              NaN    NaN            NaN             Vietnam   \n",
       "West Bank and Gaza   NaN    NaN            NaN  West Bank and Gaza   \n",
       "Yemen                NaN    NaN            NaN               Yemen   \n",
       "Zambia               NaN    NaN            NaN              Zambia   \n",
       "Zimbabwe             NaN    NaN            NaN            Zimbabwe   \n",
       "\n",
       "                            Last_Update        Lat       Long_  Confirmed  \\\n",
       "Combined_Key                                                                \n",
       "Afghanistan         2021-07-10 04:21:25  33.939110   67.709953     131586   \n",
       "Albania             2021-07-10 04:21:25  41.153300   20.168300     132580   \n",
       "Algeria             2021-07-10 04:21:25  28.033900    1.659600     144483   \n",
       "Andorra             2021-07-10 04:21:25  42.506300    1.521800      14075   \n",
       "Angola              2021-07-10 04:21:25 -11.202700   17.873900      39791   \n",
       "...                                 ...        ...         ...        ...   \n",
       "Vietnam             2021-07-10 04:21:25  14.058324  108.277199      26608   \n",
       "West Bank and Gaza  2021-07-10 04:21:25  31.952200   35.233200     315047   \n",
       "Yemen               2021-07-10 04:21:25  15.552727   48.516388       6940   \n",
       "Zambia              2021-07-10 04:21:25 -13.133897   27.849332     172405   \n",
       "Zimbabwe            2021-07-10 04:21:25 -19.015438   29.154857      65066   \n",
       "\n",
       "                    Deaths  Recovered   Active  Incident_Rate  \\\n",
       "Combined_Key                                                    \n",
       "Afghanistan           5561    79446.0  46579.0     338.021083   \n",
       "Albania               2456   130043.0     81.0    4606.991452   \n",
       "Algeria               3811   100383.0  40289.0     329.485892   \n",
       "Andorra                127    13770.0    178.0   18216.527535   \n",
       "Angola                 928    34169.0   4694.0     121.069420   \n",
       "...                    ...        ...      ...            ...   \n",
       "Vietnam                110     8984.0  17514.0      27.335512   \n",
       "West Bank and Gaza    3579   309543.0   1925.0    6175.677498   \n",
       "Yemen                 1366     4128.0   1446.0      23.268314   \n",
       "Zambia                2736   154776.0  14893.0     937.801418   \n",
       "Zimbabwe              2084    44021.0  18961.0     437.773798   \n",
       "\n",
       "                    Case_Fatality_Ratio  \n",
       "Combined_Key                             \n",
       "Afghanistan                    4.226133  \n",
       "Albania                        1.852466  \n",
       "Algeria                        2.637681  \n",
       "Andorra                        0.902309  \n",
       "Angola                         2.332186  \n",
       "...                                 ...  \n",
       "Vietnam                        0.413410  \n",
       "West Bank and Gaza             1.136021  \n",
       "Yemen                         19.682997  \n",
       "Zambia                         1.586961  \n",
       "Zimbabwe                       3.202902  \n",
       "\n",
       "[3987 rows x 13 columns]"
      ]
     },
     "execution_count": 18,
     "metadata": {},
     "output_type": "execute_result"
    }
   ],
   "source": [
    "daily_report.set_index('Combined_Key')"
   ]
  },
  {
   "cell_type": "markdown",
   "metadata": {
    "slideshow": {
     "slide_type": "subslide"
    }
   },
   "source": [
    "## `reset_index` 方法可以用預設的 `RangeIndex` 重設目前的 `Index`"
   ]
  },
  {
   "cell_type": "code",
   "execution_count": 19,
   "metadata": {},
   "outputs": [
    {
     "data": {
      "text/html": [
       "<div>\n",
       "<style scoped>\n",
       "    .dataframe tbody tr th:only-of-type {\n",
       "        vertical-align: middle;\n",
       "    }\n",
       "\n",
       "    .dataframe tbody tr th {\n",
       "        vertical-align: top;\n",
       "    }\n",
       "\n",
       "    .dataframe thead th {\n",
       "        text-align: right;\n",
       "    }\n",
       "</style>\n",
       "<table border=\"1\" class=\"dataframe\">\n",
       "  <thead>\n",
       "    <tr style=\"text-align: right;\">\n",
       "      <th></th>\n",
       "      <th>Combined_Key</th>\n",
       "      <th>FIPS</th>\n",
       "      <th>Admin2</th>\n",
       "      <th>Province_State</th>\n",
       "      <th>Country_Region</th>\n",
       "      <th>Last_Update</th>\n",
       "      <th>Lat</th>\n",
       "      <th>Long_</th>\n",
       "      <th>Confirmed</th>\n",
       "      <th>Deaths</th>\n",
       "      <th>Recovered</th>\n",
       "      <th>Active</th>\n",
       "      <th>Incident_Rate</th>\n",
       "      <th>Case_Fatality_Ratio</th>\n",
       "    </tr>\n",
       "  </thead>\n",
       "  <tbody>\n",
       "    <tr>\n",
       "      <th>0</th>\n",
       "      <td>Afghanistan</td>\n",
       "      <td>NaN</td>\n",
       "      <td>NaN</td>\n",
       "      <td>NaN</td>\n",
       "      <td>Afghanistan</td>\n",
       "      <td>2021-07-10 04:21:25</td>\n",
       "      <td>33.939110</td>\n",
       "      <td>67.709953</td>\n",
       "      <td>131586</td>\n",
       "      <td>5561</td>\n",
       "      <td>79446.0</td>\n",
       "      <td>46579.0</td>\n",
       "      <td>338.021083</td>\n",
       "      <td>4.226133</td>\n",
       "    </tr>\n",
       "    <tr>\n",
       "      <th>1</th>\n",
       "      <td>Albania</td>\n",
       "      <td>NaN</td>\n",
       "      <td>NaN</td>\n",
       "      <td>NaN</td>\n",
       "      <td>Albania</td>\n",
       "      <td>2021-07-10 04:21:25</td>\n",
       "      <td>41.153300</td>\n",
       "      <td>20.168300</td>\n",
       "      <td>132580</td>\n",
       "      <td>2456</td>\n",
       "      <td>130043.0</td>\n",
       "      <td>81.0</td>\n",
       "      <td>4606.991452</td>\n",
       "      <td>1.852466</td>\n",
       "    </tr>\n",
       "    <tr>\n",
       "      <th>2</th>\n",
       "      <td>Algeria</td>\n",
       "      <td>NaN</td>\n",
       "      <td>NaN</td>\n",
       "      <td>NaN</td>\n",
       "      <td>Algeria</td>\n",
       "      <td>2021-07-10 04:21:25</td>\n",
       "      <td>28.033900</td>\n",
       "      <td>1.659600</td>\n",
       "      <td>144483</td>\n",
       "      <td>3811</td>\n",
       "      <td>100383.0</td>\n",
       "      <td>40289.0</td>\n",
       "      <td>329.485892</td>\n",
       "      <td>2.637681</td>\n",
       "    </tr>\n",
       "    <tr>\n",
       "      <th>3</th>\n",
       "      <td>Andorra</td>\n",
       "      <td>NaN</td>\n",
       "      <td>NaN</td>\n",
       "      <td>NaN</td>\n",
       "      <td>Andorra</td>\n",
       "      <td>2021-07-10 04:21:25</td>\n",
       "      <td>42.506300</td>\n",
       "      <td>1.521800</td>\n",
       "      <td>14075</td>\n",
       "      <td>127</td>\n",
       "      <td>13770.0</td>\n",
       "      <td>178.0</td>\n",
       "      <td>18216.527535</td>\n",
       "      <td>0.902309</td>\n",
       "    </tr>\n",
       "    <tr>\n",
       "      <th>4</th>\n",
       "      <td>Angola</td>\n",
       "      <td>NaN</td>\n",
       "      <td>NaN</td>\n",
       "      <td>NaN</td>\n",
       "      <td>Angola</td>\n",
       "      <td>2021-07-10 04:21:25</td>\n",
       "      <td>-11.202700</td>\n",
       "      <td>17.873900</td>\n",
       "      <td>39791</td>\n",
       "      <td>928</td>\n",
       "      <td>34169.0</td>\n",
       "      <td>4694.0</td>\n",
       "      <td>121.069420</td>\n",
       "      <td>2.332186</td>\n",
       "    </tr>\n",
       "    <tr>\n",
       "      <th>...</th>\n",
       "      <td>...</td>\n",
       "      <td>...</td>\n",
       "      <td>...</td>\n",
       "      <td>...</td>\n",
       "      <td>...</td>\n",
       "      <td>...</td>\n",
       "      <td>...</td>\n",
       "      <td>...</td>\n",
       "      <td>...</td>\n",
       "      <td>...</td>\n",
       "      <td>...</td>\n",
       "      <td>...</td>\n",
       "      <td>...</td>\n",
       "      <td>...</td>\n",
       "    </tr>\n",
       "    <tr>\n",
       "      <th>3982</th>\n",
       "      <td>Vietnam</td>\n",
       "      <td>NaN</td>\n",
       "      <td>NaN</td>\n",
       "      <td>NaN</td>\n",
       "      <td>Vietnam</td>\n",
       "      <td>2021-07-10 04:21:25</td>\n",
       "      <td>14.058324</td>\n",
       "      <td>108.277199</td>\n",
       "      <td>26608</td>\n",
       "      <td>110</td>\n",
       "      <td>8984.0</td>\n",
       "      <td>17514.0</td>\n",
       "      <td>27.335512</td>\n",
       "      <td>0.413410</td>\n",
       "    </tr>\n",
       "    <tr>\n",
       "      <th>3983</th>\n",
       "      <td>West Bank and Gaza</td>\n",
       "      <td>NaN</td>\n",
       "      <td>NaN</td>\n",
       "      <td>NaN</td>\n",
       "      <td>West Bank and Gaza</td>\n",
       "      <td>2021-07-10 04:21:25</td>\n",
       "      <td>31.952200</td>\n",
       "      <td>35.233200</td>\n",
       "      <td>315047</td>\n",
       "      <td>3579</td>\n",
       "      <td>309543.0</td>\n",
       "      <td>1925.0</td>\n",
       "      <td>6175.677498</td>\n",
       "      <td>1.136021</td>\n",
       "    </tr>\n",
       "    <tr>\n",
       "      <th>3984</th>\n",
       "      <td>Yemen</td>\n",
       "      <td>NaN</td>\n",
       "      <td>NaN</td>\n",
       "      <td>NaN</td>\n",
       "      <td>Yemen</td>\n",
       "      <td>2021-07-10 04:21:25</td>\n",
       "      <td>15.552727</td>\n",
       "      <td>48.516388</td>\n",
       "      <td>6940</td>\n",
       "      <td>1366</td>\n",
       "      <td>4128.0</td>\n",
       "      <td>1446.0</td>\n",
       "      <td>23.268314</td>\n",
       "      <td>19.682997</td>\n",
       "    </tr>\n",
       "    <tr>\n",
       "      <th>3985</th>\n",
       "      <td>Zambia</td>\n",
       "      <td>NaN</td>\n",
       "      <td>NaN</td>\n",
       "      <td>NaN</td>\n",
       "      <td>Zambia</td>\n",
       "      <td>2021-07-10 04:21:25</td>\n",
       "      <td>-13.133897</td>\n",
       "      <td>27.849332</td>\n",
       "      <td>172405</td>\n",
       "      <td>2736</td>\n",
       "      <td>154776.0</td>\n",
       "      <td>14893.0</td>\n",
       "      <td>937.801418</td>\n",
       "      <td>1.586961</td>\n",
       "    </tr>\n",
       "    <tr>\n",
       "      <th>3986</th>\n",
       "      <td>Zimbabwe</td>\n",
       "      <td>NaN</td>\n",
       "      <td>NaN</td>\n",
       "      <td>NaN</td>\n",
       "      <td>Zimbabwe</td>\n",
       "      <td>2021-07-10 04:21:25</td>\n",
       "      <td>-19.015438</td>\n",
       "      <td>29.154857</td>\n",
       "      <td>65066</td>\n",
       "      <td>2084</td>\n",
       "      <td>44021.0</td>\n",
       "      <td>18961.0</td>\n",
       "      <td>437.773798</td>\n",
       "      <td>3.202902</td>\n",
       "    </tr>\n",
       "  </tbody>\n",
       "</table>\n",
       "<p>3987 rows × 14 columns</p>\n",
       "</div>"
      ],
      "text/plain": [
       "            Combined_Key  FIPS Admin2 Province_State      Country_Region  \\\n",
       "0            Afghanistan   NaN    NaN            NaN         Afghanistan   \n",
       "1                Albania   NaN    NaN            NaN             Albania   \n",
       "2                Algeria   NaN    NaN            NaN             Algeria   \n",
       "3                Andorra   NaN    NaN            NaN             Andorra   \n",
       "4                 Angola   NaN    NaN            NaN              Angola   \n",
       "...                  ...   ...    ...            ...                 ...   \n",
       "3982             Vietnam   NaN    NaN            NaN             Vietnam   \n",
       "3983  West Bank and Gaza   NaN    NaN            NaN  West Bank and Gaza   \n",
       "3984               Yemen   NaN    NaN            NaN               Yemen   \n",
       "3985              Zambia   NaN    NaN            NaN              Zambia   \n",
       "3986            Zimbabwe   NaN    NaN            NaN            Zimbabwe   \n",
       "\n",
       "              Last_Update        Lat       Long_  Confirmed  Deaths  \\\n",
       "0     2021-07-10 04:21:25  33.939110   67.709953     131586    5561   \n",
       "1     2021-07-10 04:21:25  41.153300   20.168300     132580    2456   \n",
       "2     2021-07-10 04:21:25  28.033900    1.659600     144483    3811   \n",
       "3     2021-07-10 04:21:25  42.506300    1.521800      14075     127   \n",
       "4     2021-07-10 04:21:25 -11.202700   17.873900      39791     928   \n",
       "...                   ...        ...         ...        ...     ...   \n",
       "3982  2021-07-10 04:21:25  14.058324  108.277199      26608     110   \n",
       "3983  2021-07-10 04:21:25  31.952200   35.233200     315047    3579   \n",
       "3984  2021-07-10 04:21:25  15.552727   48.516388       6940    1366   \n",
       "3985  2021-07-10 04:21:25 -13.133897   27.849332     172405    2736   \n",
       "3986  2021-07-10 04:21:25 -19.015438   29.154857      65066    2084   \n",
       "\n",
       "      Recovered   Active  Incident_Rate  Case_Fatality_Ratio  \n",
       "0       79446.0  46579.0     338.021083             4.226133  \n",
       "1      130043.0     81.0    4606.991452             1.852466  \n",
       "2      100383.0  40289.0     329.485892             2.637681  \n",
       "3       13770.0    178.0   18216.527535             0.902309  \n",
       "4       34169.0   4694.0     121.069420             2.332186  \n",
       "...         ...      ...            ...                  ...  \n",
       "3982     8984.0  17514.0      27.335512             0.413410  \n",
       "3983   309543.0   1925.0    6175.677498             1.136021  \n",
       "3984     4128.0   1446.0      23.268314            19.682997  \n",
       "3985   154776.0  14893.0     937.801418             1.586961  \n",
       "3986    44021.0  18961.0     437.773798             3.202902  \n",
       "\n",
       "[3987 rows x 14 columns]"
      ]
     },
     "execution_count": 19,
     "metadata": {},
     "output_type": "execute_result"
    }
   ],
   "source": [
    "daily_report.set_index('Combined_Key').reset_index()"
   ]
  },
  {
   "cell_type": "markdown",
   "metadata": {
    "slideshow": {
     "slide_type": "slide"
    }
   },
   "source": [
    "## 基礎的資料框操作"
   ]
  },
  {
   "cell_type": "markdown",
   "metadata": {
    "slideshow": {
     "slide_type": "subslide"
    }
   },
   "source": [
    "## Pandas 使用更直觀的概念操作資料\n",
    "\n",
    "- 如何定義「更直觀」？\n",
    "    - 像操作試算表一樣（Spreadsheet-like）。\n",
    "    - 像使用資料庫一樣（SQL-like）。"
   ]
  },
  {
   "cell_type": "markdown",
   "metadata": {
    "slideshow": {
     "slide_type": "subslide"
    }
   },
   "source": [
    "## 基礎的資料框操作語法\n",
    "\n",
    "- 選擇。\n",
    "- 篩選。\n",
    "- 選擇與篩選。"
   ]
  },
  {
   "cell_type": "markdown",
   "metadata": {
    "slideshow": {
     "slide_type": "subslide"
    }
   },
   "source": [
    "## 基礎的資料框操作語法（續）\n",
    "\n",
    "- 索引。\n",
    "- 排序。\n",
    "- 衍生計算欄位。\n",
    "- 聚合。\n",
    "- 分組聚合。"
   ]
  },
  {
   "cell_type": "markdown",
   "metadata": {
    "slideshow": {
     "slide_type": "subslide"
    }
   },
   "source": [
    "## 以 `['欄位名稱']` 語法選擇出資料框的欄位成為外型 `(m,)` 的 `Series`"
   ]
  },
  {
   "cell_type": "code",
   "execution_count": 20,
   "metadata": {
    "slideshow": {
     "slide_type": "subslide"
    }
   },
   "outputs": [
    {
     "name": "stdout",
     "output_type": "stream",
     "text": [
      "0              Afghanistan\n",
      "1                  Albania\n",
      "2                  Algeria\n",
      "3                  Andorra\n",
      "4                   Angola\n",
      "               ...        \n",
      "3982               Vietnam\n",
      "3983    West Bank and Gaza\n",
      "3984                 Yemen\n",
      "3985                Zambia\n",
      "3986              Zimbabwe\n",
      "Name: Country_Region, Length: 3987, dtype: object\n",
      "<class 'pandas.core.series.Series'>\n"
     ]
    }
   ],
   "source": [
    "print(daily_report['Country_Region'])\n",
    "print(type(daily_report['Country_Region']))"
   ]
  },
  {
   "cell_type": "markdown",
   "metadata": {
    "slideshow": {
     "slide_type": "subslide"
    }
   },
   "source": [
    "## 以 `[['欄位名稱']]` 語法選擇出資料框的欄位成為外型 `(m, 1)` 的 `DataFrame`"
   ]
  },
  {
   "cell_type": "code",
   "execution_count": 21,
   "metadata": {
    "slideshow": {
     "slide_type": "subslide"
    }
   },
   "outputs": [
    {
     "name": "stdout",
     "output_type": "stream",
     "text": [
      "<class 'pandas.core.frame.DataFrame'>\n"
     ]
    },
    {
     "data": {
      "text/html": [
       "<div>\n",
       "<style scoped>\n",
       "    .dataframe tbody tr th:only-of-type {\n",
       "        vertical-align: middle;\n",
       "    }\n",
       "\n",
       "    .dataframe tbody tr th {\n",
       "        vertical-align: top;\n",
       "    }\n",
       "\n",
       "    .dataframe thead th {\n",
       "        text-align: right;\n",
       "    }\n",
       "</style>\n",
       "<table border=\"1\" class=\"dataframe\">\n",
       "  <thead>\n",
       "    <tr style=\"text-align: right;\">\n",
       "      <th></th>\n",
       "      <th>Country_Region</th>\n",
       "    </tr>\n",
       "  </thead>\n",
       "  <tbody>\n",
       "    <tr>\n",
       "      <th>0</th>\n",
       "      <td>Afghanistan</td>\n",
       "    </tr>\n",
       "    <tr>\n",
       "      <th>1</th>\n",
       "      <td>Albania</td>\n",
       "    </tr>\n",
       "    <tr>\n",
       "      <th>2</th>\n",
       "      <td>Algeria</td>\n",
       "    </tr>\n",
       "    <tr>\n",
       "      <th>3</th>\n",
       "      <td>Andorra</td>\n",
       "    </tr>\n",
       "    <tr>\n",
       "      <th>4</th>\n",
       "      <td>Angola</td>\n",
       "    </tr>\n",
       "    <tr>\n",
       "      <th>...</th>\n",
       "      <td>...</td>\n",
       "    </tr>\n",
       "    <tr>\n",
       "      <th>3982</th>\n",
       "      <td>Vietnam</td>\n",
       "    </tr>\n",
       "    <tr>\n",
       "      <th>3983</th>\n",
       "      <td>West Bank and Gaza</td>\n",
       "    </tr>\n",
       "    <tr>\n",
       "      <th>3984</th>\n",
       "      <td>Yemen</td>\n",
       "    </tr>\n",
       "    <tr>\n",
       "      <th>3985</th>\n",
       "      <td>Zambia</td>\n",
       "    </tr>\n",
       "    <tr>\n",
       "      <th>3986</th>\n",
       "      <td>Zimbabwe</td>\n",
       "    </tr>\n",
       "  </tbody>\n",
       "</table>\n",
       "<p>3987 rows × 1 columns</p>\n",
       "</div>"
      ],
      "text/plain": [
       "          Country_Region\n",
       "0            Afghanistan\n",
       "1                Albania\n",
       "2                Algeria\n",
       "3                Andorra\n",
       "4                 Angola\n",
       "...                  ...\n",
       "3982             Vietnam\n",
       "3983  West Bank and Gaza\n",
       "3984               Yemen\n",
       "3985              Zambia\n",
       "3986            Zimbabwe\n",
       "\n",
       "[3987 rows x 1 columns]"
      ]
     },
     "execution_count": 21,
     "metadata": {},
     "output_type": "execute_result"
    }
   ],
   "source": [
    "print(type(daily_report[['Country_Region']]))\n",
    "daily_report[['Country_Region']]"
   ]
  },
  {
   "cell_type": "markdown",
   "metadata": {
    "slideshow": {
     "slide_type": "subslide"
    }
   },
   "source": [
    "## 以 `[['欄位名稱', '欄位名稱', ...]]` 語法選擇出資料框多個欄位成為外型 `(m, n)` 的 `DataFrame`"
   ]
  },
  {
   "cell_type": "code",
   "execution_count": 22,
   "metadata": {
    "slideshow": {
     "slide_type": "subslide"
    }
   },
   "outputs": [
    {
     "data": {
      "text/html": [
       "<div>\n",
       "<style scoped>\n",
       "    .dataframe tbody tr th:only-of-type {\n",
       "        vertical-align: middle;\n",
       "    }\n",
       "\n",
       "    .dataframe tbody tr th {\n",
       "        vertical-align: top;\n",
       "    }\n",
       "\n",
       "    .dataframe thead th {\n",
       "        text-align: right;\n",
       "    }\n",
       "</style>\n",
       "<table border=\"1\" class=\"dataframe\">\n",
       "  <thead>\n",
       "    <tr style=\"text-align: right;\">\n",
       "      <th></th>\n",
       "      <th>Country_Region</th>\n",
       "      <th>Lat</th>\n",
       "      <th>Long_</th>\n",
       "    </tr>\n",
       "  </thead>\n",
       "  <tbody>\n",
       "    <tr>\n",
       "      <th>0</th>\n",
       "      <td>Afghanistan</td>\n",
       "      <td>33.939110</td>\n",
       "      <td>67.709953</td>\n",
       "    </tr>\n",
       "    <tr>\n",
       "      <th>1</th>\n",
       "      <td>Albania</td>\n",
       "      <td>41.153300</td>\n",
       "      <td>20.168300</td>\n",
       "    </tr>\n",
       "    <tr>\n",
       "      <th>2</th>\n",
       "      <td>Algeria</td>\n",
       "      <td>28.033900</td>\n",
       "      <td>1.659600</td>\n",
       "    </tr>\n",
       "    <tr>\n",
       "      <th>3</th>\n",
       "      <td>Andorra</td>\n",
       "      <td>42.506300</td>\n",
       "      <td>1.521800</td>\n",
       "    </tr>\n",
       "    <tr>\n",
       "      <th>4</th>\n",
       "      <td>Angola</td>\n",
       "      <td>-11.202700</td>\n",
       "      <td>17.873900</td>\n",
       "    </tr>\n",
       "    <tr>\n",
       "      <th>...</th>\n",
       "      <td>...</td>\n",
       "      <td>...</td>\n",
       "      <td>...</td>\n",
       "    </tr>\n",
       "    <tr>\n",
       "      <th>3982</th>\n",
       "      <td>Vietnam</td>\n",
       "      <td>14.058324</td>\n",
       "      <td>108.277199</td>\n",
       "    </tr>\n",
       "    <tr>\n",
       "      <th>3983</th>\n",
       "      <td>West Bank and Gaza</td>\n",
       "      <td>31.952200</td>\n",
       "      <td>35.233200</td>\n",
       "    </tr>\n",
       "    <tr>\n",
       "      <th>3984</th>\n",
       "      <td>Yemen</td>\n",
       "      <td>15.552727</td>\n",
       "      <td>48.516388</td>\n",
       "    </tr>\n",
       "    <tr>\n",
       "      <th>3985</th>\n",
       "      <td>Zambia</td>\n",
       "      <td>-13.133897</td>\n",
       "      <td>27.849332</td>\n",
       "    </tr>\n",
       "    <tr>\n",
       "      <th>3986</th>\n",
       "      <td>Zimbabwe</td>\n",
       "      <td>-19.015438</td>\n",
       "      <td>29.154857</td>\n",
       "    </tr>\n",
       "  </tbody>\n",
       "</table>\n",
       "<p>3987 rows × 3 columns</p>\n",
       "</div>"
      ],
      "text/plain": [
       "          Country_Region        Lat       Long_\n",
       "0            Afghanistan  33.939110   67.709953\n",
       "1                Albania  41.153300   20.168300\n",
       "2                Algeria  28.033900    1.659600\n",
       "3                Andorra  42.506300    1.521800\n",
       "4                 Angola -11.202700   17.873900\n",
       "...                  ...        ...         ...\n",
       "3982             Vietnam  14.058324  108.277199\n",
       "3983  West Bank and Gaza  31.952200   35.233200\n",
       "3984               Yemen  15.552727   48.516388\n",
       "3985              Zambia -13.133897   27.849332\n",
       "3986            Zimbabwe -19.015438   29.154857\n",
       "\n",
       "[3987 rows x 3 columns]"
      ]
     },
     "execution_count": 22,
     "metadata": {},
     "output_type": "execute_result"
    }
   ],
   "source": [
    "cols = ['Country_Region', 'Lat', 'Long_']\n",
    "daily_report[cols]"
   ]
  },
  {
   "cell_type": "markdown",
   "metadata": {
    "slideshow": {
     "slide_type": "subslide"
    }
   },
   "source": [
    "## 透過條件判斷式以 `[布林陣列]` 篩選觀測值"
   ]
  },
  {
   "cell_type": "code",
   "execution_count": 23,
   "metadata": {},
   "outputs": [
    {
     "name": "stdout",
     "output_type": "stream",
     "text": [
      "0       False\n",
      "1       False\n",
      "2       False\n",
      "3       False\n",
      "4       False\n",
      "        ...  \n",
      "3982    False\n",
      "3983    False\n",
      "3984    False\n",
      "3985    False\n",
      "3986    False\n",
      "Name: Country_Region, Length: 3987, dtype: bool\n"
     ]
    },
    {
     "data": {
      "text/html": [
       "<div>\n",
       "<style scoped>\n",
       "    .dataframe tbody tr th:only-of-type {\n",
       "        vertical-align: middle;\n",
       "    }\n",
       "\n",
       "    .dataframe tbody tr th {\n",
       "        vertical-align: top;\n",
       "    }\n",
       "\n",
       "    .dataframe thead th {\n",
       "        text-align: right;\n",
       "    }\n",
       "</style>\n",
       "<table border=\"1\" class=\"dataframe\">\n",
       "  <thead>\n",
       "    <tr style=\"text-align: right;\">\n",
       "      <th></th>\n",
       "      <th>FIPS</th>\n",
       "      <th>Admin2</th>\n",
       "      <th>Province_State</th>\n",
       "      <th>Country_Region</th>\n",
       "      <th>Last_Update</th>\n",
       "      <th>Lat</th>\n",
       "      <th>Long_</th>\n",
       "      <th>Confirmed</th>\n",
       "      <th>Deaths</th>\n",
       "      <th>Recovered</th>\n",
       "      <th>Active</th>\n",
       "      <th>Combined_Key</th>\n",
       "      <th>Incident_Rate</th>\n",
       "      <th>Case_Fatality_Ratio</th>\n",
       "    </tr>\n",
       "  </thead>\n",
       "  <tbody>\n",
       "    <tr>\n",
       "      <th>647</th>\n",
       "      <td>NaN</td>\n",
       "      <td>NaN</td>\n",
       "      <td>NaN</td>\n",
       "      <td>Taiwan*</td>\n",
       "      <td>2021-07-10 04:21:25</td>\n",
       "      <td>23.7</td>\n",
       "      <td>121.0</td>\n",
       "      <td>15185</td>\n",
       "      <td>730</td>\n",
       "      <td>11536.0</td>\n",
       "      <td>2919.0</td>\n",
       "      <td>Taiwan*</td>\n",
       "      <td>63.757583</td>\n",
       "      <td>4.807376</td>\n",
       "    </tr>\n",
       "  </tbody>\n",
       "</table>\n",
       "</div>"
      ],
      "text/plain": [
       "     FIPS Admin2 Province_State Country_Region          Last_Update   Lat  \\\n",
       "647   NaN    NaN            NaN        Taiwan*  2021-07-10 04:21:25  23.7   \n",
       "\n",
       "     Long_  Confirmed  Deaths  Recovered  Active Combined_Key  Incident_Rate  \\\n",
       "647  121.0      15185     730    11536.0  2919.0      Taiwan*      63.757583   \n",
       "\n",
       "     Case_Fatality_Ratio  \n",
       "647             4.807376  "
      ]
     },
     "execution_count": 23,
     "metadata": {},
     "output_type": "execute_result"
    }
   ],
   "source": [
    "is_taiwan = daily_report['Country_Region'] == 'Taiwan*'\n",
    "print(is_taiwan)\n",
    "daily_report[is_taiwan]"
   ]
  },
  {
   "cell_type": "markdown",
   "metadata": {
    "slideshow": {
     "slide_type": "subslide"
    }
   },
   "source": [
    "## 同時選擇欄位以及篩選觀測值"
   ]
  },
  {
   "cell_type": "code",
   "execution_count": 24,
   "metadata": {},
   "outputs": [
    {
     "data": {
      "text/html": [
       "<div>\n",
       "<style scoped>\n",
       "    .dataframe tbody tr th:only-of-type {\n",
       "        vertical-align: middle;\n",
       "    }\n",
       "\n",
       "    .dataframe tbody tr th {\n",
       "        vertical-align: top;\n",
       "    }\n",
       "\n",
       "    .dataframe thead th {\n",
       "        text-align: right;\n",
       "    }\n",
       "</style>\n",
       "<table border=\"1\" class=\"dataframe\">\n",
       "  <thead>\n",
       "    <tr style=\"text-align: right;\">\n",
       "      <th></th>\n",
       "      <th>Country_Region</th>\n",
       "      <th>Confirmed</th>\n",
       "    </tr>\n",
       "  </thead>\n",
       "  <tbody>\n",
       "    <tr>\n",
       "      <th>647</th>\n",
       "      <td>Taiwan*</td>\n",
       "      <td>15185</td>\n",
       "    </tr>\n",
       "  </tbody>\n",
       "</table>\n",
       "</div>"
      ],
      "text/plain": [
       "    Country_Region  Confirmed\n",
       "647        Taiwan*      15185"
      ]
     },
     "execution_count": 24,
     "metadata": {},
     "output_type": "execute_result"
    }
   ],
   "source": [
    "cols_to_select = ['Country_Region', 'Confirmed']\n",
    "rows_to_filter = daily_report['Country_Region'] == 'Taiwan*'\n",
    "daily_report[rows_to_filter][cols_to_select]"
   ]
  },
  {
   "cell_type": "markdown",
   "metadata": {
    "slideshow": {
     "slide_type": "subslide"
    }
   },
   "source": [
    "## 運用 `DataFrame` 的兩種索引語法取得資料\n",
    "\n",
    "- `loc[index_label, column_label]`\n",
    "- `iloc[index_position, column_position]`"
   ]
  },
  {
   "cell_type": "markdown",
   "metadata": {
    "slideshow": {
     "slide_type": "subslide"
    }
   },
   "source": [
    "## `loc[]` 以資料的列、欄標籤為準 "
   ]
  },
  {
   "cell_type": "code",
   "execution_count": 25,
   "metadata": {
    "slideshow": {
     "slide_type": "-"
    }
   },
   "outputs": [
    {
     "name": "stdout",
     "output_type": "stream",
     "text": [
      "354\n"
     ]
    },
    {
     "data": {
      "text/plain": [
       "Province_State     Tokyo\n",
       "Country_Region     Japan\n",
       "Confirmed         180142\n",
       "Name: 354, dtype: object"
      ]
     },
     "execution_count": 25,
     "metadata": {},
     "output_type": "execute_result"
    }
   ],
   "source": [
    "tokyo_loc = (daily_report[daily_report['Province_State'] == 'Tokyo']).index[0]\n",
    "jp = daily_report[daily_report['Country_Region'] == 'Japan']\n",
    "print(tokyo_loc)\n",
    "jp.loc[tokyo_loc, ['Province_State', 'Country_Region', 'Confirmed']]"
   ]
  },
  {
   "cell_type": "markdown",
   "metadata": {
    "slideshow": {
     "slide_type": "subslide"
    }
   },
   "source": [
    "## `iloc[]` 以資料框的列、欄位置為準 "
   ]
  },
  {
   "cell_type": "code",
   "execution_count": 26,
   "metadata": {},
   "outputs": [
    {
     "name": "stdout",
     "output_type": "stream",
     "text": [
      "41\n"
     ]
    },
    {
     "data": {
      "text/plain": [
       "Province_State     Tokyo\n",
       "Country_Region     Japan\n",
       "Confirmed         180142\n",
       "Name: 354, dtype: object"
      ]
     },
     "execution_count": 26,
     "metadata": {},
     "output_type": "execute_result"
    }
   ],
   "source": [
    "tokyo_iloc = [i for i, v in enumerate(jp.index) if v == tokyo_loc][0]\n",
    "print(tokyo_iloc)\n",
    "jp.iloc[tokyo_iloc, [2, 3, 7]]"
   ]
  },
  {
   "cell_type": "markdown",
   "metadata": {
    "slideshow": {
     "slide_type": "subslide"
    }
   },
   "source": [
    "## 使用（呼叫）資料框的兩種方法排序\n",
    "\n",
    "- `sort_values`\n",
    "- `sort_index`"
   ]
  },
  {
   "cell_type": "markdown",
   "metadata": {
    "slideshow": {
     "slide_type": "subslide"
    }
   },
   "source": [
    "## `sort_values` 方法可依指定欄位排序資料框"
   ]
  },
  {
   "cell_type": "code",
   "execution_count": 27,
   "metadata": {},
   "outputs": [
    {
     "data": {
      "text/html": [
       "<div>\n",
       "<style scoped>\n",
       "    .dataframe tbody tr th:only-of-type {\n",
       "        vertical-align: middle;\n",
       "    }\n",
       "\n",
       "    .dataframe tbody tr th {\n",
       "        vertical-align: top;\n",
       "    }\n",
       "\n",
       "    .dataframe thead th {\n",
       "        text-align: right;\n",
       "    }\n",
       "</style>\n",
       "<table border=\"1\" class=\"dataframe\">\n",
       "  <thead>\n",
       "    <tr style=\"text-align: right;\">\n",
       "      <th></th>\n",
       "      <th>FIPS</th>\n",
       "      <th>Admin2</th>\n",
       "      <th>Province_State</th>\n",
       "      <th>Country_Region</th>\n",
       "      <th>Last_Update</th>\n",
       "      <th>Lat</th>\n",
       "      <th>Long_</th>\n",
       "      <th>Confirmed</th>\n",
       "      <th>Deaths</th>\n",
       "      <th>Recovered</th>\n",
       "      <th>Active</th>\n",
       "      <th>Combined_Key</th>\n",
       "      <th>Incident_Rate</th>\n",
       "      <th>Case_Fatality_Ratio</th>\n",
       "    </tr>\n",
       "  </thead>\n",
       "  <tbody>\n",
       "    <tr>\n",
       "      <th>2744</th>\n",
       "      <td>90038.0</td>\n",
       "      <td>Unassigned</td>\n",
       "      <td>North Dakota</td>\n",
       "      <td>US</td>\n",
       "      <td>2021-07-10 04:21:25</td>\n",
       "      <td>NaN</td>\n",
       "      <td>NaN</td>\n",
       "      <td>0</td>\n",
       "      <td>31</td>\n",
       "      <td>NaN</td>\n",
       "      <td>NaN</td>\n",
       "      <td>Unassigned, North Dakota, US</td>\n",
       "      <td>NaN</td>\n",
       "      <td>NaN</td>\n",
       "    </tr>\n",
       "    <tr>\n",
       "      <th>3219</th>\n",
       "      <td>90046.0</td>\n",
       "      <td>Unassigned</td>\n",
       "      <td>South Dakota</td>\n",
       "      <td>US</td>\n",
       "      <td>2021-07-10 04:21:25</td>\n",
       "      <td>NaN</td>\n",
       "      <td>NaN</td>\n",
       "      <td>0</td>\n",
       "      <td>0</td>\n",
       "      <td>NaN</td>\n",
       "      <td>NaN</td>\n",
       "      <td>Unassigned, South Dakota, US</td>\n",
       "      <td>NaN</td>\n",
       "      <td>NaN</td>\n",
       "    </tr>\n",
       "    <tr>\n",
       "      <th>418</th>\n",
       "      <td>NaN</td>\n",
       "      <td>NaN</td>\n",
       "      <td>Unknown</td>\n",
       "      <td>Mexico</td>\n",
       "      <td>2021-07-10 04:21:25</td>\n",
       "      <td>NaN</td>\n",
       "      <td>NaN</td>\n",
       "      <td>0</td>\n",
       "      <td>0</td>\n",
       "      <td>2036776.0</td>\n",
       "      <td>-2036776.0</td>\n",
       "      <td>Unknown, Mexico</td>\n",
       "      <td>NaN</td>\n",
       "      <td>NaN</td>\n",
       "    </tr>\n",
       "    <tr>\n",
       "      <th>3014</th>\n",
       "      <td>90042.0</td>\n",
       "      <td>Unassigned</td>\n",
       "      <td>Pennsylvania</td>\n",
       "      <td>US</td>\n",
       "      <td>2021-07-10 04:21:25</td>\n",
       "      <td>NaN</td>\n",
       "      <td>NaN</td>\n",
       "      <td>0</td>\n",
       "      <td>0</td>\n",
       "      <td>NaN</td>\n",
       "      <td>NaN</td>\n",
       "      <td>Unassigned, Pennsylvania, US</td>\n",
       "      <td>NaN</td>\n",
       "      <td>NaN</td>\n",
       "    </tr>\n",
       "    <tr>\n",
       "      <th>3729</th>\n",
       "      <td>90051.0</td>\n",
       "      <td>Unassigned</td>\n",
       "      <td>Virginia</td>\n",
       "      <td>US</td>\n",
       "      <td>2020-12-21 13:27:30</td>\n",
       "      <td>NaN</td>\n",
       "      <td>NaN</td>\n",
       "      <td>0</td>\n",
       "      <td>0</td>\n",
       "      <td>NaN</td>\n",
       "      <td>NaN</td>\n",
       "      <td>Unassigned, Virginia, US</td>\n",
       "      <td>NaN</td>\n",
       "      <td>NaN</td>\n",
       "    </tr>\n",
       "    <tr>\n",
       "      <th>...</th>\n",
       "      <td>...</td>\n",
       "      <td>...</td>\n",
       "      <td>...</td>\n",
       "      <td>...</td>\n",
       "      <td>...</td>\n",
       "      <td>...</td>\n",
       "      <td>...</td>\n",
       "      <td>...</td>\n",
       "      <td>...</td>\n",
       "      <td>...</td>\n",
       "      <td>...</td>\n",
       "      <td>...</td>\n",
       "      <td>...</td>\n",
       "      <td>...</td>\n",
       "    </tr>\n",
       "    <tr>\n",
       "      <th>3967</th>\n",
       "      <td>NaN</td>\n",
       "      <td>NaN</td>\n",
       "      <td>England</td>\n",
       "      <td>United Kingdom</td>\n",
       "      <td>2021-07-10 04:21:25</td>\n",
       "      <td>52.355500</td>\n",
       "      <td>-1.174300</td>\n",
       "      <td>4393205</td>\n",
       "      <td>112880</td>\n",
       "      <td>0.0</td>\n",
       "      <td>4280325.0</td>\n",
       "      <td>England, United Kingdom</td>\n",
       "      <td>7848.204269</td>\n",
       "      <td>2.569423</td>\n",
       "    </tr>\n",
       "    <tr>\n",
       "      <th>6</th>\n",
       "      <td>NaN</td>\n",
       "      <td>NaN</td>\n",
       "      <td>NaN</td>\n",
       "      <td>Argentina</td>\n",
       "      <td>2021-07-10 04:21:25</td>\n",
       "      <td>-38.416100</td>\n",
       "      <td>-63.616700</td>\n",
       "      <td>4627537</td>\n",
       "      <td>98148</td>\n",
       "      <td>4246200.0</td>\n",
       "      <td>283189.0</td>\n",
       "      <td>Argentina</td>\n",
       "      <td>10238.870326</td>\n",
       "      <td>2.120955</td>\n",
       "    </tr>\n",
       "    <tr>\n",
       "      <th>655</th>\n",
       "      <td>NaN</td>\n",
       "      <td>NaN</td>\n",
       "      <td>NaN</td>\n",
       "      <td>Turkey</td>\n",
       "      <td>2021-07-09 23:21:16</td>\n",
       "      <td>38.963700</td>\n",
       "      <td>35.243300</td>\n",
       "      <td>5465094</td>\n",
       "      <td>50096</td>\n",
       "      <td>5333759.0</td>\n",
       "      <td>81239.0</td>\n",
       "      <td>Turkey</td>\n",
       "      <td>6479.908060</td>\n",
       "      <td>0.916654</td>\n",
       "    </tr>\n",
       "    <tr>\n",
       "      <th>216</th>\n",
       "      <td>NaN</td>\n",
       "      <td>NaN</td>\n",
       "      <td>NaN</td>\n",
       "      <td>France</td>\n",
       "      <td>2021-07-10 04:21:25</td>\n",
       "      <td>46.227600</td>\n",
       "      <td>2.213700</td>\n",
       "      <td>5733214</td>\n",
       "      <td>110360</td>\n",
       "      <td>341046.0</td>\n",
       "      <td>5281808.0</td>\n",
       "      <td>France</td>\n",
       "      <td>8783.369891</td>\n",
       "      <td>1.924924</td>\n",
       "    </tr>\n",
       "    <tr>\n",
       "      <th>269</th>\n",
       "      <td>NaN</td>\n",
       "      <td>NaN</td>\n",
       "      <td>Maharashtra</td>\n",
       "      <td>India</td>\n",
       "      <td>2021-07-10 04:21:25</td>\n",
       "      <td>19.449759</td>\n",
       "      <td>76.108221</td>\n",
       "      <td>6140968</td>\n",
       "      <td>125034</td>\n",
       "      <td>5900440.0</td>\n",
       "      <td>115494.0</td>\n",
       "      <td>Maharashtra, India</td>\n",
       "      <td>4986.809653</td>\n",
       "      <td>2.036063</td>\n",
       "    </tr>\n",
       "  </tbody>\n",
       "</table>\n",
       "<p>3987 rows × 14 columns</p>\n",
       "</div>"
      ],
      "text/plain": [
       "         FIPS      Admin2 Province_State  Country_Region          Last_Update  \\\n",
       "2744  90038.0  Unassigned   North Dakota              US  2021-07-10 04:21:25   \n",
       "3219  90046.0  Unassigned   South Dakota              US  2021-07-10 04:21:25   \n",
       "418       NaN         NaN        Unknown          Mexico  2021-07-10 04:21:25   \n",
       "3014  90042.0  Unassigned   Pennsylvania              US  2021-07-10 04:21:25   \n",
       "3729  90051.0  Unassigned       Virginia              US  2020-12-21 13:27:30   \n",
       "...       ...         ...            ...             ...                  ...   \n",
       "3967      NaN         NaN        England  United Kingdom  2021-07-10 04:21:25   \n",
       "6         NaN         NaN            NaN       Argentina  2021-07-10 04:21:25   \n",
       "655       NaN         NaN            NaN          Turkey  2021-07-09 23:21:16   \n",
       "216       NaN         NaN            NaN          France  2021-07-10 04:21:25   \n",
       "269       NaN         NaN    Maharashtra           India  2021-07-10 04:21:25   \n",
       "\n",
       "            Lat      Long_  Confirmed  Deaths  Recovered     Active  \\\n",
       "2744        NaN        NaN          0      31        NaN        NaN   \n",
       "3219        NaN        NaN          0       0        NaN        NaN   \n",
       "418         NaN        NaN          0       0  2036776.0 -2036776.0   \n",
       "3014        NaN        NaN          0       0        NaN        NaN   \n",
       "3729        NaN        NaN          0       0        NaN        NaN   \n",
       "...         ...        ...        ...     ...        ...        ...   \n",
       "3967  52.355500  -1.174300    4393205  112880        0.0  4280325.0   \n",
       "6    -38.416100 -63.616700    4627537   98148  4246200.0   283189.0   \n",
       "655   38.963700  35.243300    5465094   50096  5333759.0    81239.0   \n",
       "216   46.227600   2.213700    5733214  110360   341046.0  5281808.0   \n",
       "269   19.449759  76.108221    6140968  125034  5900440.0   115494.0   \n",
       "\n",
       "                      Combined_Key  Incident_Rate  Case_Fatality_Ratio  \n",
       "2744  Unassigned, North Dakota, US            NaN                  NaN  \n",
       "3219  Unassigned, South Dakota, US            NaN                  NaN  \n",
       "418                Unknown, Mexico            NaN                  NaN  \n",
       "3014  Unassigned, Pennsylvania, US            NaN                  NaN  \n",
       "3729      Unassigned, Virginia, US            NaN                  NaN  \n",
       "...                            ...            ...                  ...  \n",
       "3967       England, United Kingdom    7848.204269             2.569423  \n",
       "6                        Argentina   10238.870326             2.120955  \n",
       "655                         Turkey    6479.908060             0.916654  \n",
       "216                         France    8783.369891             1.924924  \n",
       "269             Maharashtra, India    4986.809653             2.036063  \n",
       "\n",
       "[3987 rows x 14 columns]"
      ]
     },
     "execution_count": 27,
     "metadata": {},
     "output_type": "execute_result"
    }
   ],
   "source": [
    "daily_report.sort_values('Confirmed')"
   ]
  },
  {
   "cell_type": "markdown",
   "metadata": {
    "slideshow": {
     "slide_type": "subslide"
    }
   },
   "source": [
    "## `sort_index` 可依資料框的 `Index` 排序 "
   ]
  },
  {
   "cell_type": "code",
   "execution_count": 28,
   "metadata": {},
   "outputs": [
    {
     "data": {
      "text/html": [
       "<div>\n",
       "<style scoped>\n",
       "    .dataframe tbody tr th:only-of-type {\n",
       "        vertical-align: middle;\n",
       "    }\n",
       "\n",
       "    .dataframe tbody tr th {\n",
       "        vertical-align: top;\n",
       "    }\n",
       "\n",
       "    .dataframe thead th {\n",
       "        text-align: right;\n",
       "    }\n",
       "</style>\n",
       "<table border=\"1\" class=\"dataframe\">\n",
       "  <thead>\n",
       "    <tr style=\"text-align: right;\">\n",
       "      <th></th>\n",
       "      <th>FIPS</th>\n",
       "      <th>Admin2</th>\n",
       "      <th>Province_State</th>\n",
       "      <th>Country_Region</th>\n",
       "      <th>Last_Update</th>\n",
       "      <th>Lat</th>\n",
       "      <th>Long_</th>\n",
       "      <th>Confirmed</th>\n",
       "      <th>Deaths</th>\n",
       "      <th>Recovered</th>\n",
       "      <th>Active</th>\n",
       "      <th>Combined_Key</th>\n",
       "      <th>Incident_Rate</th>\n",
       "      <th>Case_Fatality_Ratio</th>\n",
       "    </tr>\n",
       "  </thead>\n",
       "  <tbody>\n",
       "    <tr>\n",
       "      <th>3986</th>\n",
       "      <td>NaN</td>\n",
       "      <td>NaN</td>\n",
       "      <td>NaN</td>\n",
       "      <td>Zimbabwe</td>\n",
       "      <td>2021-07-10 04:21:25</td>\n",
       "      <td>-19.015438</td>\n",
       "      <td>29.154857</td>\n",
       "      <td>65066</td>\n",
       "      <td>2084</td>\n",
       "      <td>44021.0</td>\n",
       "      <td>18961.0</td>\n",
       "      <td>Zimbabwe</td>\n",
       "      <td>437.773798</td>\n",
       "      <td>3.202902</td>\n",
       "    </tr>\n",
       "    <tr>\n",
       "      <th>3985</th>\n",
       "      <td>NaN</td>\n",
       "      <td>NaN</td>\n",
       "      <td>NaN</td>\n",
       "      <td>Zambia</td>\n",
       "      <td>2021-07-10 04:21:25</td>\n",
       "      <td>-13.133897</td>\n",
       "      <td>27.849332</td>\n",
       "      <td>172405</td>\n",
       "      <td>2736</td>\n",
       "      <td>154776.0</td>\n",
       "      <td>14893.0</td>\n",
       "      <td>Zambia</td>\n",
       "      <td>937.801418</td>\n",
       "      <td>1.586961</td>\n",
       "    </tr>\n",
       "    <tr>\n",
       "      <th>3984</th>\n",
       "      <td>NaN</td>\n",
       "      <td>NaN</td>\n",
       "      <td>NaN</td>\n",
       "      <td>Yemen</td>\n",
       "      <td>2021-07-10 04:21:25</td>\n",
       "      <td>15.552727</td>\n",
       "      <td>48.516388</td>\n",
       "      <td>6940</td>\n",
       "      <td>1366</td>\n",
       "      <td>4128.0</td>\n",
       "      <td>1446.0</td>\n",
       "      <td>Yemen</td>\n",
       "      <td>23.268314</td>\n",
       "      <td>19.682997</td>\n",
       "    </tr>\n",
       "    <tr>\n",
       "      <th>3983</th>\n",
       "      <td>NaN</td>\n",
       "      <td>NaN</td>\n",
       "      <td>NaN</td>\n",
       "      <td>West Bank and Gaza</td>\n",
       "      <td>2021-07-10 04:21:25</td>\n",
       "      <td>31.952200</td>\n",
       "      <td>35.233200</td>\n",
       "      <td>315047</td>\n",
       "      <td>3579</td>\n",
       "      <td>309543.0</td>\n",
       "      <td>1925.0</td>\n",
       "      <td>West Bank and Gaza</td>\n",
       "      <td>6175.677498</td>\n",
       "      <td>1.136021</td>\n",
       "    </tr>\n",
       "    <tr>\n",
       "      <th>3982</th>\n",
       "      <td>NaN</td>\n",
       "      <td>NaN</td>\n",
       "      <td>NaN</td>\n",
       "      <td>Vietnam</td>\n",
       "      <td>2021-07-10 04:21:25</td>\n",
       "      <td>14.058324</td>\n",
       "      <td>108.277199</td>\n",
       "      <td>26608</td>\n",
       "      <td>110</td>\n",
       "      <td>8984.0</td>\n",
       "      <td>17514.0</td>\n",
       "      <td>Vietnam</td>\n",
       "      <td>27.335512</td>\n",
       "      <td>0.413410</td>\n",
       "    </tr>\n",
       "    <tr>\n",
       "      <th>...</th>\n",
       "      <td>...</td>\n",
       "      <td>...</td>\n",
       "      <td>...</td>\n",
       "      <td>...</td>\n",
       "      <td>...</td>\n",
       "      <td>...</td>\n",
       "      <td>...</td>\n",
       "      <td>...</td>\n",
       "      <td>...</td>\n",
       "      <td>...</td>\n",
       "      <td>...</td>\n",
       "      <td>...</td>\n",
       "      <td>...</td>\n",
       "      <td>...</td>\n",
       "    </tr>\n",
       "    <tr>\n",
       "      <th>4</th>\n",
       "      <td>NaN</td>\n",
       "      <td>NaN</td>\n",
       "      <td>NaN</td>\n",
       "      <td>Angola</td>\n",
       "      <td>2021-07-10 04:21:25</td>\n",
       "      <td>-11.202700</td>\n",
       "      <td>17.873900</td>\n",
       "      <td>39791</td>\n",
       "      <td>928</td>\n",
       "      <td>34169.0</td>\n",
       "      <td>4694.0</td>\n",
       "      <td>Angola</td>\n",
       "      <td>121.069420</td>\n",
       "      <td>2.332186</td>\n",
       "    </tr>\n",
       "    <tr>\n",
       "      <th>3</th>\n",
       "      <td>NaN</td>\n",
       "      <td>NaN</td>\n",
       "      <td>NaN</td>\n",
       "      <td>Andorra</td>\n",
       "      <td>2021-07-10 04:21:25</td>\n",
       "      <td>42.506300</td>\n",
       "      <td>1.521800</td>\n",
       "      <td>14075</td>\n",
       "      <td>127</td>\n",
       "      <td>13770.0</td>\n",
       "      <td>178.0</td>\n",
       "      <td>Andorra</td>\n",
       "      <td>18216.527535</td>\n",
       "      <td>0.902309</td>\n",
       "    </tr>\n",
       "    <tr>\n",
       "      <th>2</th>\n",
       "      <td>NaN</td>\n",
       "      <td>NaN</td>\n",
       "      <td>NaN</td>\n",
       "      <td>Algeria</td>\n",
       "      <td>2021-07-10 04:21:25</td>\n",
       "      <td>28.033900</td>\n",
       "      <td>1.659600</td>\n",
       "      <td>144483</td>\n",
       "      <td>3811</td>\n",
       "      <td>100383.0</td>\n",
       "      <td>40289.0</td>\n",
       "      <td>Algeria</td>\n",
       "      <td>329.485892</td>\n",
       "      <td>2.637681</td>\n",
       "    </tr>\n",
       "    <tr>\n",
       "      <th>1</th>\n",
       "      <td>NaN</td>\n",
       "      <td>NaN</td>\n",
       "      <td>NaN</td>\n",
       "      <td>Albania</td>\n",
       "      <td>2021-07-10 04:21:25</td>\n",
       "      <td>41.153300</td>\n",
       "      <td>20.168300</td>\n",
       "      <td>132580</td>\n",
       "      <td>2456</td>\n",
       "      <td>130043.0</td>\n",
       "      <td>81.0</td>\n",
       "      <td>Albania</td>\n",
       "      <td>4606.991452</td>\n",
       "      <td>1.852466</td>\n",
       "    </tr>\n",
       "    <tr>\n",
       "      <th>0</th>\n",
       "      <td>NaN</td>\n",
       "      <td>NaN</td>\n",
       "      <td>NaN</td>\n",
       "      <td>Afghanistan</td>\n",
       "      <td>2021-07-10 04:21:25</td>\n",
       "      <td>33.939110</td>\n",
       "      <td>67.709953</td>\n",
       "      <td>131586</td>\n",
       "      <td>5561</td>\n",
       "      <td>79446.0</td>\n",
       "      <td>46579.0</td>\n",
       "      <td>Afghanistan</td>\n",
       "      <td>338.021083</td>\n",
       "      <td>4.226133</td>\n",
       "    </tr>\n",
       "  </tbody>\n",
       "</table>\n",
       "<p>3987 rows × 14 columns</p>\n",
       "</div>"
      ],
      "text/plain": [
       "      FIPS Admin2 Province_State      Country_Region          Last_Update  \\\n",
       "3986   NaN    NaN            NaN            Zimbabwe  2021-07-10 04:21:25   \n",
       "3985   NaN    NaN            NaN              Zambia  2021-07-10 04:21:25   \n",
       "3984   NaN    NaN            NaN               Yemen  2021-07-10 04:21:25   \n",
       "3983   NaN    NaN            NaN  West Bank and Gaza  2021-07-10 04:21:25   \n",
       "3982   NaN    NaN            NaN             Vietnam  2021-07-10 04:21:25   \n",
       "...    ...    ...            ...                 ...                  ...   \n",
       "4      NaN    NaN            NaN              Angola  2021-07-10 04:21:25   \n",
       "3      NaN    NaN            NaN             Andorra  2021-07-10 04:21:25   \n",
       "2      NaN    NaN            NaN             Algeria  2021-07-10 04:21:25   \n",
       "1      NaN    NaN            NaN             Albania  2021-07-10 04:21:25   \n",
       "0      NaN    NaN            NaN         Afghanistan  2021-07-10 04:21:25   \n",
       "\n",
       "            Lat       Long_  Confirmed  Deaths  Recovered   Active  \\\n",
       "3986 -19.015438   29.154857      65066    2084    44021.0  18961.0   \n",
       "3985 -13.133897   27.849332     172405    2736   154776.0  14893.0   \n",
       "3984  15.552727   48.516388       6940    1366     4128.0   1446.0   \n",
       "3983  31.952200   35.233200     315047    3579   309543.0   1925.0   \n",
       "3982  14.058324  108.277199      26608     110     8984.0  17514.0   \n",
       "...         ...         ...        ...     ...        ...      ...   \n",
       "4    -11.202700   17.873900      39791     928    34169.0   4694.0   \n",
       "3     42.506300    1.521800      14075     127    13770.0    178.0   \n",
       "2     28.033900    1.659600     144483    3811   100383.0  40289.0   \n",
       "1     41.153300   20.168300     132580    2456   130043.0     81.0   \n",
       "0     33.939110   67.709953     131586    5561    79446.0  46579.0   \n",
       "\n",
       "            Combined_Key  Incident_Rate  Case_Fatality_Ratio  \n",
       "3986            Zimbabwe     437.773798             3.202902  \n",
       "3985              Zambia     937.801418             1.586961  \n",
       "3984               Yemen      23.268314            19.682997  \n",
       "3983  West Bank and Gaza    6175.677498             1.136021  \n",
       "3982             Vietnam      27.335512             0.413410  \n",
       "...                  ...            ...                  ...  \n",
       "4                 Angola     121.069420             2.332186  \n",
       "3                Andorra   18216.527535             0.902309  \n",
       "2                Algeria     329.485892             2.637681  \n",
       "1                Albania    4606.991452             1.852466  \n",
       "0            Afghanistan     338.021083             4.226133  \n",
       "\n",
       "[3987 rows x 14 columns]"
      ]
     },
     "execution_count": 28,
     "metadata": {},
     "output_type": "execute_result"
    }
   ],
   "source": [
    "daily_report.sort_index(ascending=False)"
   ]
  },
  {
   "cell_type": "markdown",
   "metadata": {
    "slideshow": {
     "slide_type": "subslide"
    }
   },
   "source": [
    "## 從資料框變數衍生計算\n",
    "\n",
    "- 簡單運算。\n",
    "- 使用 Pandas 的 `cut` 函數。\n",
    "- 使用 `Series` 的 `map` 方法。"
   ]
  },
  {
   "cell_type": "markdown",
   "metadata": {
    "slideshow": {
     "slide_type": "subslide"
    }
   },
   "source": [
    "## 簡單運算"
   ]
  },
  {
   "cell_type": "code",
   "execution_count": 29,
   "metadata": {},
   "outputs": [
    {
     "name": "stdout",
     "output_type": "stream",
     "text": [
      "0       46579.0\n",
      "1          81.0\n",
      "2       40289.0\n",
      "3         178.0\n",
      "4        4694.0\n",
      "         ...   \n",
      "3982    17514.0\n",
      "3983     1925.0\n",
      "3984     1446.0\n",
      "3985    14893.0\n",
      "3986    18961.0\n",
      "Length: 3987, dtype: float64\n"
     ]
    }
   ],
   "source": [
    "active = daily_report['Confirmed'] - daily_report['Deaths'] - daily_report['Recovered']\n",
    "print(active)"
   ]
  },
  {
   "cell_type": "markdown",
   "metadata": {
    "slideshow": {
     "slide_type": "subslide"
    }
   },
   "source": [
    "## 使用 Pandas 的 `cut` 函數"
   ]
  },
  {
   "cell_type": "code",
   "execution_count": 30,
   "metadata": {},
   "outputs": [
    {
     "name": "stdout",
     "output_type": "stream",
     "text": [
      "0                   Above 100000\n",
      "1                   Above 100000\n",
      "2                   Above 100000\n",
      "3       Between 10000 and 100000\n",
      "4       Between 10000 and 100000\n",
      "                  ...           \n",
      "3982    Between 10000 and 100000\n",
      "3983                Above 100000\n",
      "3984      Between 1000 and 10000\n",
      "3985                Above 100000\n",
      "3986    Between 10000 and 100000\n",
      "Name: Confirmed, Length: 3987, dtype: category\n",
      "Categories (4, object): ['Less than 1000' < 'Between 1000 and 10000' < 'Between 10000 and 100000' < 'Above 100000']\n"
     ]
    }
   ],
   "source": [
    "cut_bins = [0, 1000, 10000, 100000, np.Inf]\n",
    "cut_labels = ['Less than 1000', 'Between 1000 and 10000', 'Between 10000 and 100000', 'Above 100000']\n",
    "confirmed_categorical = pd.cut(daily_report['Confirmed'], bins=cut_bins, labels=cut_labels, right=False)\n",
    "print(confirmed_categorical)"
   ]
  },
  {
   "cell_type": "markdown",
   "metadata": {
    "slideshow": {
     "slide_type": "subslide"
    }
   },
   "source": [
    "## 使用 `Series` 的 `map` 方法\n",
    "\n",
    "- 傳入一個 `dict`。\n",
    "- 傳入一個函數（或 Lambda 函數）。"
   ]
  },
  {
   "cell_type": "code",
   "execution_count": 31,
   "metadata": {
    "slideshow": {
     "slide_type": "subslide"
    }
   },
   "outputs": [
    {
     "data": {
      "text/plain": [
       "647    Taiwan\n",
       "Name: Country_Region, dtype: object"
      ]
     },
     "execution_count": 31,
     "metadata": {},
     "output_type": "execute_result"
    }
   ],
   "source": [
    "# Passing a dict\n",
    "country_name = {\n",
    "    'Taiwan*': 'Taiwan'\n",
    "}\n",
    "daily_report_tw = daily_report[is_taiwan]\n",
    "daily_report_tw['Country_Region'].map(country_name)"
   ]
  },
  {
   "cell_type": "code",
   "execution_count": 32,
   "metadata": {
    "slideshow": {
     "slide_type": "subslide"
    }
   },
   "outputs": [
    {
     "data": {
      "text/plain": [
       "0       Not US\n",
       "1       Not US\n",
       "2       Not US\n",
       "3       Not US\n",
       "4       Not US\n",
       "         ...  \n",
       "3982    Not US\n",
       "3983    Not US\n",
       "3984    Not US\n",
       "3985    Not US\n",
       "3986    Not US\n",
       "Name: Country_Region, Length: 3987, dtype: object"
      ]
     },
     "execution_count": 32,
     "metadata": {},
     "output_type": "execute_result"
    }
   ],
   "source": [
    "# Passing a function\n",
    "def is_us(x):\n",
    "    if x == 'US':\n",
    "        return 'US'\n",
    "    else:\n",
    "        return 'Not US'\n",
    "daily_report['Country_Region'].map(is_us)"
   ]
  },
  {
   "cell_type": "code",
   "execution_count": 33,
   "metadata": {
    "slideshow": {
     "slide_type": "subslide"
    }
   },
   "outputs": [
    {
     "data": {
      "text/plain": [
       "0       Not US\n",
       "1       Not US\n",
       "2       Not US\n",
       "3       Not US\n",
       "4       Not US\n",
       "         ...  \n",
       "3982    Not US\n",
       "3983    Not US\n",
       "3984    Not US\n",
       "3985    Not US\n",
       "3986    Not US\n",
       "Name: Country_Region, Length: 3987, dtype: object"
      ]
     },
     "execution_count": 33,
     "metadata": {},
     "output_type": "execute_result"
    }
   ],
   "source": [
    "# Passing a lambda expression)\n",
    "daily_report['Country_Region'].map(lambda x: 'US' if x == 'US' else 'Not US')"
   ]
  },
  {
   "cell_type": "markdown",
   "metadata": {
    "slideshow": {
     "slide_type": "subslide"
    }
   },
   "source": [
    "## 如何新增資料框的變數"
   ]
  },
  {
   "cell_type": "code",
   "execution_count": null,
   "metadata": {},
   "outputs": [],
   "source": []
  },
  {
   "cell_type": "markdown",
   "metadata": {
    "slideshow": {
     "slide_type": "subslide"
    }
   },
   "source": [
    "## 使用（呼叫）`Series` 的聚合方法摘要"
   ]
  },
  {
   "cell_type": "code",
   "execution_count": 34,
   "metadata": {},
   "outputs": [
    {
     "data": {
      "text/plain": [
       "186060062"
      ]
     },
     "execution_count": 34,
     "metadata": {},
     "output_type": "execute_result"
    }
   ],
   "source": [
    "daily_report['Confirmed'].sum()"
   ]
  },
  {
   "cell_type": "markdown",
   "metadata": {
    "slideshow": {
     "slide_type": "subslide"
    }
   },
   "source": [
    "## 使用（呼叫）`Series` 的 `groupby` 方法分組聚合"
   ]
  },
  {
   "cell_type": "code",
   "execution_count": 35,
   "metadata": {},
   "outputs": [
    {
     "data": {
      "text/plain": [
       "Country_Region\n",
       "Afghanistan           131586\n",
       "Albania               132580\n",
       "Algeria               144483\n",
       "Andorra                14075\n",
       "Angola                 39791\n",
       "                       ...  \n",
       "Vietnam                26608\n",
       "West Bank and Gaza    315047\n",
       "Yemen                   6940\n",
       "Zambia                172405\n",
       "Zimbabwe               65066\n",
       "Name: Confirmed, Length: 195, dtype: int64"
      ]
     },
     "execution_count": 35,
     "metadata": {},
     "output_type": "execute_result"
    }
   ],
   "source": [
    "daily_report.groupby('Country_Region')['Confirmed'].sum()"
   ]
  },
  {
   "cell_type": "markdown",
   "metadata": {
    "slideshow": {
     "slide_type": "slide"
    }
   },
   "source": [
    "## 進階的資料框操作"
   ]
  },
  {
   "cell_type": "markdown",
   "metadata": {
    "slideshow": {
     "slide_type": "subslide"
    }
   },
   "source": [
    "## 進階的資料框操作包含\n",
    "\n",
    "- 處理遺漏值（未定義值）。\n",
    "- 處理文字變數。\n",
    "- 轉置。\n",
    "- 合併資料框。"
   ]
  },
  {
   "cell_type": "markdown",
   "metadata": {
    "slideshow": {
     "slide_type": "subslide"
    }
   },
   "source": [
    "## 處理遺漏值（未定義值）\n",
    "\n",
    "- 使用（呼叫）`Series` 的 `isnull` 或者 `notnull` 方法來檢查遺漏值是否存在。\n",
    "- 使用（呼叫）`DataFrame` 的 `dropna` 方法刪除有遺漏值的觀測值或欄位。\n",
    "- 使用（呼叫）`Series` 的 `fillna` 方法填補遺漏值為指定資料。"
   ]
  },
  {
   "cell_type": "code",
   "execution_count": 36,
   "metadata": {
    "slideshow": {
     "slide_type": "subslide"
    }
   },
   "outputs": [
    {
     "name": "stdout",
     "output_type": "stream",
     "text": [
      "3987\n",
      "174\n",
      "3813\n"
     ]
    }
   ],
   "source": [
    "print(daily_report['Province_State'].size)\n",
    "print(daily_report['Province_State'].isnull().sum())\n",
    "print(daily_report['Province_State'].notnull().sum())"
   ]
  },
  {
   "cell_type": "code",
   "execution_count": 37,
   "metadata": {
    "slideshow": {
     "slide_type": "subslide"
    }
   },
   "outputs": [
    {
     "name": "stdout",
     "output_type": "stream",
     "text": [
      "(0, 14)\n",
      "0       0.0\n",
      "1       0.0\n",
      "2       0.0\n",
      "3       0.0\n",
      "4       0.0\n",
      "       ... \n",
      "3982    0.0\n",
      "3983    0.0\n",
      "3984    0.0\n",
      "3985    0.0\n",
      "3986    0.0\n",
      "Name: FIPS, Length: 3987, dtype: float64\n"
     ]
    }
   ],
   "source": [
    "print(daily_report.dropna().shape)\n",
    "print(daily_report['FIPS'].fillna(0))"
   ]
  },
  {
   "cell_type": "markdown",
   "metadata": {
    "slideshow": {
     "slide_type": "subslide"
    }
   },
   "source": [
    "## `Series` 摘要文字變數的方法\n",
    "\n",
    "- `unique`\n",
    "- `nunique`\n",
    "- `value_counts`"
   ]
  },
  {
   "cell_type": "code",
   "execution_count": 38,
   "metadata": {
    "slideshow": {
     "slide_type": "subslide"
    }
   },
   "outputs": [
    {
     "name": "stdout",
     "output_type": "stream",
     "text": [
      "195\n",
      "['Afghanistan' 'Albania' 'Algeria' 'Andorra' 'Angola'\n",
      " 'Antigua and Barbuda' 'Argentina' 'Armenia' 'Australia' 'Austria'\n",
      " 'Azerbaijan' 'Bahamas' 'Bahrain' 'Bangladesh' 'Barbados' 'Belarus'\n",
      " 'Belgium' 'Belize' 'Benin' 'Bhutan' 'Bolivia' 'Bosnia and Herzegovina'\n",
      " 'Botswana' 'Brazil' 'Brunei' 'Bulgaria' 'Burkina Faso' 'Burma' 'Burundi'\n",
      " 'Cabo Verde' 'Cambodia' 'Cameroon' 'Canada' 'Central African Republic'\n",
      " 'Chad' 'Chile' 'China' 'Colombia' 'Comoros' 'Congo (Brazzaville)'\n",
      " 'Congo (Kinshasa)' 'Costa Rica' \"Cote d'Ivoire\" 'Croatia' 'Cuba' 'Cyprus'\n",
      " 'Czechia' 'Denmark' 'Diamond Princess' 'Djibouti' 'Dominica'\n",
      " 'Dominican Republic' 'Ecuador' 'Egypt' 'El Salvador' 'Equatorial Guinea'\n",
      " 'Eritrea' 'Estonia' 'Eswatini' 'Ethiopia' 'Fiji' 'Finland' 'France'\n",
      " 'Gabon' 'Gambia' 'Georgia' 'Germany' 'Ghana' 'Greece' 'Grenada'\n",
      " 'Guatemala' 'Guinea' 'Guinea-Bissau' 'Guyana' 'Haiti' 'Holy See'\n",
      " 'Honduras' 'Hungary' 'Iceland' 'India' 'Indonesia' 'Iran' 'Iraq'\n",
      " 'Ireland' 'Israel' 'Italy' 'Jamaica' 'Japan' 'Jordan' 'Kazakhstan'\n",
      " 'Kenya' 'Kiribati' 'Korea, South' 'Kosovo' 'Kuwait' 'Kyrgyzstan' 'Laos'\n",
      " 'Latvia' 'Lebanon' 'Lesotho' 'Liberia' 'Libya' 'Liechtenstein'\n",
      " 'Lithuania' 'Luxembourg' 'MS Zaandam' 'Madagascar' 'Malawi' 'Malaysia'\n",
      " 'Maldives' 'Mali' 'Malta' 'Marshall Islands' 'Mauritania' 'Mauritius'\n",
      " 'Mexico' 'Micronesia' 'Moldova' 'Monaco' 'Mongolia' 'Montenegro'\n",
      " 'Morocco' 'Mozambique' 'Namibia' 'Nepal' 'Netherlands' 'New Zealand'\n",
      " 'Nicaragua' 'Niger' 'Nigeria' 'North Macedonia' 'Norway' 'Oman'\n",
      " 'Pakistan' 'Palau' 'Panama' 'Papua New Guinea' 'Paraguay' 'Peru'\n",
      " 'Philippines' 'Poland' 'Portugal' 'Qatar' 'Romania' 'Russia' 'Rwanda'\n",
      " 'Saint Kitts and Nevis' 'Saint Lucia' 'Saint Vincent and the Grenadines'\n",
      " 'Samoa' 'San Marino' 'Sao Tome and Principe' 'Saudi Arabia' 'Senegal'\n",
      " 'Serbia' 'Seychelles' 'Sierra Leone' 'Singapore' 'Slovakia' 'Slovenia'\n",
      " 'Solomon Islands' 'Somalia' 'South Africa' 'South Sudan' 'Spain'\n",
      " 'Sri Lanka' 'Sudan' 'Summer Olympics 2020' 'Suriname' 'Sweden'\n",
      " 'Switzerland' 'Syria' 'Taiwan*' 'Tajikistan' 'Tanzania' 'Thailand'\n",
      " 'Timor-Leste' 'Togo' 'Trinidad and Tobago' 'Tunisia' 'Turkey' 'US'\n",
      " 'Uganda' 'Ukraine' 'United Arab Emirates' 'United Kingdom' 'Uruguay'\n",
      " 'Uzbekistan' 'Vanuatu' 'Venezuela' 'Vietnam' 'West Bank and Gaza' 'Yemen'\n",
      " 'Zambia' 'Zimbabwe']\n"
     ]
    }
   ],
   "source": [
    "print(daily_report['Country_Region'].nunique())\n",
    "print(daily_report['Country_Region'].unique())"
   ]
  },
  {
   "cell_type": "code",
   "execution_count": 39,
   "metadata": {
    "slideshow": {
     "slide_type": "subslide"
    }
   },
   "outputs": [
    {
     "data": {
      "text/plain": [
       "US            3277\n",
       "Russia          83\n",
       "Japan           49\n",
       "India           37\n",
       "Colombia        34\n",
       "              ... \n",
       "Mauritania       1\n",
       "Bhutan           1\n",
       "Malta            1\n",
       "Romania          1\n",
       "Guatemala        1\n",
       "Name: Country_Region, Length: 195, dtype: int64"
      ]
     },
     "execution_count": 39,
     "metadata": {},
     "output_type": "execute_result"
    }
   ],
   "source": [
    "daily_report['Country_Region'].value_counts().sort_values(ascending=False)"
   ]
  },
  {
   "cell_type": "markdown",
   "metadata": {
    "slideshow": {
     "slide_type": "subslide"
    }
   },
   "source": [
    "## 使用（呼叫）`Series` 的 `str.split` 方法切割文字"
   ]
  },
  {
   "cell_type": "code",
   "execution_count": 40,
   "metadata": {},
   "outputs": [
    {
     "data": {
      "text/html": [
       "<div>\n",
       "<style scoped>\n",
       "    .dataframe tbody tr th:only-of-type {\n",
       "        vertical-align: middle;\n",
       "    }\n",
       "\n",
       "    .dataframe tbody tr th {\n",
       "        vertical-align: top;\n",
       "    }\n",
       "\n",
       "    .dataframe thead th {\n",
       "        text-align: right;\n",
       "    }\n",
       "</style>\n",
       "<table border=\"1\" class=\"dataframe\">\n",
       "  <thead>\n",
       "    <tr style=\"text-align: right;\">\n",
       "      <th></th>\n",
       "      <th>Unnamed: 0</th>\n",
       "      <th>Rank &amp; Title</th>\n",
       "      <th>IMDb Rating</th>\n",
       "      <th>Your Rating</th>\n",
       "      <th>Unnamed: 4</th>\n",
       "    </tr>\n",
       "  </thead>\n",
       "  <tbody>\n",
       "    <tr>\n",
       "      <th>0</th>\n",
       "      <td>NaN</td>\n",
       "      <td>1.  刺激1995  (1994)</td>\n",
       "      <td>9.2</td>\n",
       "      <td>12345678910 NOT YET RELEASED  Seen</td>\n",
       "      <td>NaN</td>\n",
       "    </tr>\n",
       "    <tr>\n",
       "      <th>1</th>\n",
       "      <td>NaN</td>\n",
       "      <td>2.  教父  (1972)</td>\n",
       "      <td>9.1</td>\n",
       "      <td>12345678910 NOT YET RELEASED  Seen</td>\n",
       "      <td>NaN</td>\n",
       "    </tr>\n",
       "    <tr>\n",
       "      <th>2</th>\n",
       "      <td>NaN</td>\n",
       "      <td>3.  教父第二集  (1974)</td>\n",
       "      <td>9.0</td>\n",
       "      <td>12345678910 NOT YET RELEASED  Seen</td>\n",
       "      <td>NaN</td>\n",
       "    </tr>\n",
       "    <tr>\n",
       "      <th>3</th>\n",
       "      <td>NaN</td>\n",
       "      <td>4.  黑暗騎士  (2008)</td>\n",
       "      <td>9.0</td>\n",
       "      <td>12345678910 NOT YET RELEASED  Seen</td>\n",
       "      <td>NaN</td>\n",
       "    </tr>\n",
       "    <tr>\n",
       "      <th>4</th>\n",
       "      <td>NaN</td>\n",
       "      <td>5.  十二怒漢  (1957)</td>\n",
       "      <td>8.9</td>\n",
       "      <td>12345678910 NOT YET RELEASED  Seen</td>\n",
       "      <td>NaN</td>\n",
       "    </tr>\n",
       "  </tbody>\n",
       "</table>\n",
       "</div>"
      ],
      "text/plain": [
       "   Unnamed: 0        Rank & Title  IMDb Rating  \\\n",
       "0         NaN  1.  刺激1995  (1994)          9.2   \n",
       "1         NaN      2.  教父  (1972)          9.1   \n",
       "2         NaN   3.  教父第二集  (1974)          9.0   \n",
       "3         NaN    4.  黑暗騎士  (2008)          9.0   \n",
       "4         NaN    5.  十二怒漢  (1957)          8.9   \n",
       "\n",
       "                          Your Rating  Unnamed: 4  \n",
       "0  12345678910 NOT YET RELEASED  Seen         NaN  \n",
       "1  12345678910 NOT YET RELEASED  Seen         NaN  \n",
       "2  12345678910 NOT YET RELEASED  Seen         NaN  \n",
       "3  12345678910 NOT YET RELEASED  Seen         NaN  \n",
       "4  12345678910 NOT YET RELEASED  Seen         NaN  "
      ]
     },
     "execution_count": 40,
     "metadata": {},
     "output_type": "execute_result"
    }
   ],
   "source": [
    "request_url = \"https://www.imdb.com/chart/top\"\n",
    "html_tables = pd.read_html(request_url)\n",
    "html_table = html_tables[0]\n",
    "html_table.head()"
   ]
  },
  {
   "cell_type": "code",
   "execution_count": 41,
   "metadata": {
    "slideshow": {
     "slide_type": "subslide"
    }
   },
   "outputs": [
    {
     "data": {
      "text/plain": [
       "0                  [1., 刺激1995, (1994)]\n",
       "1                      [2., 教父, (1972)]\n",
       "2                   [3., 教父第二集, (1974)]\n",
       "3                    [4., 黑暗騎士, (2008)]\n",
       "4                    [5., 十二怒漢, (1957)]\n",
       "                     ...               \n",
       "245             [246., 芬妮與亞歷山大, (1982)]\n",
       "246    [247., 新世紀福音戰士：AIR/真心為你, (1997)]\n",
       "247               [248., 靈魂急轉彎, (2020)]\n",
       "248              [249., 7號房的禮物, (2019)]\n",
       "249                  [250., 日出, (1927)]\n",
       "Name: Rank & Title, Length: 250, dtype: object"
      ]
     },
     "execution_count": 41,
     "metadata": {},
     "output_type": "execute_result"
    }
   ],
   "source": [
    "html_table['Rank & Title'].str.split() # split as a Series"
   ]
  },
  {
   "cell_type": "code",
   "execution_count": 42,
   "metadata": {
    "slideshow": {
     "slide_type": "subslide"
    }
   },
   "outputs": [
    {
     "data": {
      "text/html": [
       "<div>\n",
       "<style scoped>\n",
       "    .dataframe tbody tr th:only-of-type {\n",
       "        vertical-align: middle;\n",
       "    }\n",
       "\n",
       "    .dataframe tbody tr th {\n",
       "        vertical-align: top;\n",
       "    }\n",
       "\n",
       "    .dataframe thead th {\n",
       "        text-align: right;\n",
       "    }\n",
       "</style>\n",
       "<table border=\"1\" class=\"dataframe\">\n",
       "  <thead>\n",
       "    <tr style=\"text-align: right;\">\n",
       "      <th></th>\n",
       "      <th>0</th>\n",
       "      <th>1</th>\n",
       "      <th>2</th>\n",
       "      <th>3</th>\n",
       "      <th>4</th>\n",
       "    </tr>\n",
       "  </thead>\n",
       "  <tbody>\n",
       "    <tr>\n",
       "      <th>0</th>\n",
       "      <td>1.</td>\n",
       "      <td>刺激1995</td>\n",
       "      <td>(1994)</td>\n",
       "      <td>None</td>\n",
       "      <td>None</td>\n",
       "    </tr>\n",
       "    <tr>\n",
       "      <th>1</th>\n",
       "      <td>2.</td>\n",
       "      <td>教父</td>\n",
       "      <td>(1972)</td>\n",
       "      <td>None</td>\n",
       "      <td>None</td>\n",
       "    </tr>\n",
       "    <tr>\n",
       "      <th>2</th>\n",
       "      <td>3.</td>\n",
       "      <td>教父第二集</td>\n",
       "      <td>(1974)</td>\n",
       "      <td>None</td>\n",
       "      <td>None</td>\n",
       "    </tr>\n",
       "    <tr>\n",
       "      <th>3</th>\n",
       "      <td>4.</td>\n",
       "      <td>黑暗騎士</td>\n",
       "      <td>(2008)</td>\n",
       "      <td>None</td>\n",
       "      <td>None</td>\n",
       "    </tr>\n",
       "    <tr>\n",
       "      <th>4</th>\n",
       "      <td>5.</td>\n",
       "      <td>十二怒漢</td>\n",
       "      <td>(1957)</td>\n",
       "      <td>None</td>\n",
       "      <td>None</td>\n",
       "    </tr>\n",
       "    <tr>\n",
       "      <th>...</th>\n",
       "      <td>...</td>\n",
       "      <td>...</td>\n",
       "      <td>...</td>\n",
       "      <td>...</td>\n",
       "      <td>...</td>\n",
       "    </tr>\n",
       "    <tr>\n",
       "      <th>245</th>\n",
       "      <td>246.</td>\n",
       "      <td>芬妮與亞歷山大</td>\n",
       "      <td>(1982)</td>\n",
       "      <td>None</td>\n",
       "      <td>None</td>\n",
       "    </tr>\n",
       "    <tr>\n",
       "      <th>246</th>\n",
       "      <td>247.</td>\n",
       "      <td>新世紀福音戰士：AIR/真心為你</td>\n",
       "      <td>(1997)</td>\n",
       "      <td>None</td>\n",
       "      <td>None</td>\n",
       "    </tr>\n",
       "    <tr>\n",
       "      <th>247</th>\n",
       "      <td>248.</td>\n",
       "      <td>靈魂急轉彎</td>\n",
       "      <td>(2020)</td>\n",
       "      <td>None</td>\n",
       "      <td>None</td>\n",
       "    </tr>\n",
       "    <tr>\n",
       "      <th>248</th>\n",
       "      <td>249.</td>\n",
       "      <td>7號房的禮物</td>\n",
       "      <td>(2019)</td>\n",
       "      <td>None</td>\n",
       "      <td>None</td>\n",
       "    </tr>\n",
       "    <tr>\n",
       "      <th>249</th>\n",
       "      <td>250.</td>\n",
       "      <td>日出</td>\n",
       "      <td>(1927)</td>\n",
       "      <td>None</td>\n",
       "      <td>None</td>\n",
       "    </tr>\n",
       "  </tbody>\n",
       "</table>\n",
       "<p>250 rows × 5 columns</p>\n",
       "</div>"
      ],
      "text/plain": [
       "        0                 1       2     3     4\n",
       "0      1.            刺激1995  (1994)  None  None\n",
       "1      2.                教父  (1972)  None  None\n",
       "2      3.             教父第二集  (1974)  None  None\n",
       "3      4.              黑暗騎士  (2008)  None  None\n",
       "4      5.              十二怒漢  (1957)  None  None\n",
       "..    ...               ...     ...   ...   ...\n",
       "245  246.           芬妮與亞歷山大  (1982)  None  None\n",
       "246  247.  新世紀福音戰士：AIR/真心為你  (1997)  None  None\n",
       "247  248.             靈魂急轉彎  (2020)  None  None\n",
       "248  249.            7號房的禮物  (2019)  None  None\n",
       "249  250.                日出  (1927)  None  None\n",
       "\n",
       "[250 rows x 5 columns]"
      ]
     },
     "execution_count": 42,
     "metadata": {},
     "output_type": "execute_result"
    }
   ],
   "source": [
    "html_table['Rank & Title'].str.split(expand=True) # split as a DataFrame"
   ]
  },
  {
   "cell_type": "markdown",
   "metadata": {
    "slideshow": {
     "slide_type": "subslide"
    }
   },
   "source": [
    "## 使用（呼叫）`Series` 的 `str.replace` 方法取代文字中的指定特徵"
   ]
  },
  {
   "cell_type": "code",
   "execution_count": 43,
   "metadata": {},
   "outputs": [
    {
     "data": {
      "text/plain": [
       "0        1\n",
       "1        2\n",
       "2        3\n",
       "3        4\n",
       "4        5\n",
       "      ... \n",
       "245    246\n",
       "246    247\n",
       "247    248\n",
       "248    249\n",
       "249    250\n",
       "Name: 0, Length: 250, dtype: object"
      ]
     },
     "execution_count": 43,
     "metadata": {},
     "output_type": "execute_result"
    }
   ],
   "source": [
    "split_dataframe = html_table['Rank & Title'].str.split(expand=True)\n",
    "ranks = split_dataframe[0].str.replace(\".\", '', regex=False)\n",
    "ranks"
   ]
  },
  {
   "cell_type": "code",
   "execution_count": 44,
   "metadata": {
    "slideshow": {
     "slide_type": "subslide"
    }
   },
   "outputs": [
    {
     "data": {
      "text/plain": [
       "0      1994\n",
       "1      1972\n",
       "2      1974\n",
       "3      2008\n",
       "4      1957\n",
       "       ... \n",
       "245    1982\n",
       "246    1997\n",
       "247    2020\n",
       "248    2019\n",
       "249    1927\n",
       "Name: 2, Length: 250, dtype: object"
      ]
     },
     "execution_count": 44,
     "metadata": {},
     "output_type": "execute_result"
    }
   ],
   "source": [
    "split_dataframe = html_table['Rank & Title'].str.split(expand=True)\n",
    "years = split_dataframe[2].str.replace(\"\\(|\\)\", '', regex=True)\n",
    "years"
   ]
  },
  {
   "cell_type": "markdown",
   "metadata": {
    "slideshow": {
     "slide_type": "subslide"
    }
   },
   "source": [
    "## 使用（呼叫）`Series` 的 `str.contains` 方法判斷文字是否包含指定特徵"
   ]
  },
  {
   "cell_type": "code",
   "execution_count": 45,
   "metadata": {},
   "outputs": [
    {
     "name": "stdout",
     "output_type": "stream",
     "text": [
      "27\n"
     ]
    },
    {
     "data": {
      "text/html": [
       "<div>\n",
       "<style scoped>\n",
       "    .dataframe tbody tr th:only-of-type {\n",
       "        vertical-align: middle;\n",
       "    }\n",
       "\n",
       "    .dataframe tbody tr th {\n",
       "        vertical-align: top;\n",
       "    }\n",
       "\n",
       "    .dataframe thead th {\n",
       "        text-align: right;\n",
       "    }\n",
       "</style>\n",
       "<table border=\"1\" class=\"dataframe\">\n",
       "  <thead>\n",
       "    <tr style=\"text-align: right;\">\n",
       "      <th></th>\n",
       "      <th>FIPS</th>\n",
       "      <th>Admin2</th>\n",
       "      <th>Province_State</th>\n",
       "      <th>Country_Region</th>\n",
       "      <th>Last_Update</th>\n",
       "      <th>Lat</th>\n",
       "      <th>Long_</th>\n",
       "      <th>Confirmed</th>\n",
       "      <th>Deaths</th>\n",
       "      <th>Recovered</th>\n",
       "      <th>Active</th>\n",
       "      <th>Combined_Key</th>\n",
       "      <th>Incident_Rate</th>\n",
       "      <th>Case_Fatality_Ratio</th>\n",
       "    </tr>\n",
       "  </thead>\n",
       "  <tbody>\n",
       "    <tr>\n",
       "      <th>204</th>\n",
       "      <td>NaN</td>\n",
       "      <td>NaN</td>\n",
       "      <td>NaN</td>\n",
       "      <td>Finland</td>\n",
       "      <td>2021-07-10 04:21:25</td>\n",
       "      <td>61.92411</td>\n",
       "      <td>25.748151</td>\n",
       "      <td>97651</td>\n",
       "      <td>976</td>\n",
       "      <td>46000.0</td>\n",
       "      <td>50675.0</td>\n",
       "      <td>Finland</td>\n",
       "      <td>1762.425014</td>\n",
       "      <td>0.999478</td>\n",
       "    </tr>\n",
       "    <tr>\n",
       "      <th>248</th>\n",
       "      <td>NaN</td>\n",
       "      <td>NaN</td>\n",
       "      <td>NaN</td>\n",
       "      <td>Iceland</td>\n",
       "      <td>2021-07-10 04:21:25</td>\n",
       "      <td>64.96310</td>\n",
       "      <td>-19.020800</td>\n",
       "      <td>6555</td>\n",
       "      <td>29</td>\n",
       "      <td>6476.0</td>\n",
       "      <td>50.0</td>\n",
       "      <td>Iceland</td>\n",
       "      <td>1920.879121</td>\n",
       "      <td>0.442410</td>\n",
       "    </tr>\n",
       "    <tr>\n",
       "      <th>289</th>\n",
       "      <td>NaN</td>\n",
       "      <td>NaN</td>\n",
       "      <td>NaN</td>\n",
       "      <td>Ireland</td>\n",
       "      <td>2021-07-10 04:21:25</td>\n",
       "      <td>53.14240</td>\n",
       "      <td>-7.692100</td>\n",
       "      <td>276735</td>\n",
       "      <td>5006</td>\n",
       "      <td>23364.0</td>\n",
       "      <td>248365.0</td>\n",
       "      <td>Ireland</td>\n",
       "      <td>5604.423512</td>\n",
       "      <td>1.808951</td>\n",
       "    </tr>\n",
       "    <tr>\n",
       "      <th>386</th>\n",
       "      <td>NaN</td>\n",
       "      <td>NaN</td>\n",
       "      <td>NaN</td>\n",
       "      <td>Marshall Islands</td>\n",
       "      <td>2021-07-10 04:21:25</td>\n",
       "      <td>7.13150</td>\n",
       "      <td>171.184500</td>\n",
       "      <td>4</td>\n",
       "      <td>0</td>\n",
       "      <td>4.0</td>\n",
       "      <td>0.0</td>\n",
       "      <td>Marshall Islands</td>\n",
       "      <td>6.847791</td>\n",
       "      <td>0.000000</td>\n",
       "    </tr>\n",
       "    <tr>\n",
       "      <th>431</th>\n",
       "      <td>NaN</td>\n",
       "      <td>NaN</td>\n",
       "      <td>Aruba</td>\n",
       "      <td>Netherlands</td>\n",
       "      <td>2021-07-10 04:21:25</td>\n",
       "      <td>12.52110</td>\n",
       "      <td>-69.968300</td>\n",
       "      <td>11169</td>\n",
       "      <td>107</td>\n",
       "      <td>11029.0</td>\n",
       "      <td>33.0</td>\n",
       "      <td>Aruba, Netherlands</td>\n",
       "      <td>10461.195512</td>\n",
       "      <td>0.958009</td>\n",
       "    </tr>\n",
       "  </tbody>\n",
       "</table>\n",
       "</div>"
      ],
      "text/plain": [
       "     FIPS Admin2 Province_State    Country_Region          Last_Update  \\\n",
       "204   NaN    NaN            NaN           Finland  2021-07-10 04:21:25   \n",
       "248   NaN    NaN            NaN           Iceland  2021-07-10 04:21:25   \n",
       "289   NaN    NaN            NaN           Ireland  2021-07-10 04:21:25   \n",
       "386   NaN    NaN            NaN  Marshall Islands  2021-07-10 04:21:25   \n",
       "431   NaN    NaN          Aruba       Netherlands  2021-07-10 04:21:25   \n",
       "\n",
       "          Lat       Long_  Confirmed  Deaths  Recovered    Active  \\\n",
       "204  61.92411   25.748151      97651     976    46000.0   50675.0   \n",
       "248  64.96310  -19.020800       6555      29     6476.0      50.0   \n",
       "289  53.14240   -7.692100     276735    5006    23364.0  248365.0   \n",
       "386   7.13150  171.184500          4       0        4.0       0.0   \n",
       "431  12.52110  -69.968300      11169     107    11029.0      33.0   \n",
       "\n",
       "           Combined_Key  Incident_Rate  Case_Fatality_Ratio  \n",
       "204             Finland    1762.425014             0.999478  \n",
       "248             Iceland    1920.879121             0.442410  \n",
       "289             Ireland    5604.423512             1.808951  \n",
       "386    Marshall Islands       6.847791             0.000000  \n",
       "431  Aruba, Netherlands   10461.195512             0.958009  "
      ]
     },
     "execution_count": 45,
     "metadata": {},
     "output_type": "execute_result"
    }
   ],
   "source": [
    "print(daily_report['Country_Region'].str.contains('land').sum())\n",
    "daily_report[daily_report['Country_Region'].str.contains('land')].head()"
   ]
  },
  {
   "cell_type": "markdown",
   "metadata": {
    "slideshow": {
     "slide_type": "subslide"
    }
   },
   "source": [
    "## 轉置資料框的函數與方法\n",
    "\n",
    "- Pandas 的 `melt` 函數可以將資料框由寬格式（Wide format）轉換為長格式（Long format）\n",
    "- `DataFrame` 的 `pivot` 方法可以將資料框由長格式（Long format）轉換為寬格式（Wide format）。"
   ]
  },
  {
   "cell_type": "markdown",
   "metadata": {
    "slideshow": {
     "slide_type": "subslide"
    }
   },
   "source": [
    "## 什麼是寬格式、長格式？\n",
    "\n",
    "- 寬格式使用一個欄位，欄位名稱記錄變數類別、觀測值記錄其數值。 \n",
    "- 長格式使用兩個欄位，一個記錄變數類別、一個記錄數值。\n",
    "\n",
    "來源：<https://en.wikipedia.org/wiki/Wide_and_narrow_data>"
   ]
  },
  {
   "cell_type": "markdown",
   "metadata": {
    "slideshow": {
     "slide_type": "subslide"
    }
   },
   "source": [
    "## 為何需要轉置資料框？\n",
    "\n",
    "資料框的欄位名稱含有使用者需要的資料值或者儲存格式與應用情境不符。"
   ]
  },
  {
   "cell_type": "code",
   "execution_count": 46,
   "metadata": {},
   "outputs": [
    {
     "data": {
      "text/html": [
       "<div>\n",
       "<style scoped>\n",
       "    .dataframe tbody tr th:only-of-type {\n",
       "        vertical-align: middle;\n",
       "    }\n",
       "\n",
       "    .dataframe tbody tr th {\n",
       "        vertical-align: top;\n",
       "    }\n",
       "\n",
       "    .dataframe thead th {\n",
       "        text-align: right;\n",
       "    }\n",
       "</style>\n",
       "<table border=\"1\" class=\"dataframe\">\n",
       "  <thead>\n",
       "    <tr style=\"text-align: right;\">\n",
       "      <th></th>\n",
       "      <th>Province/State</th>\n",
       "      <th>Country/Region</th>\n",
       "      <th>Lat</th>\n",
       "      <th>Long</th>\n",
       "      <th>1/22/20</th>\n",
       "      <th>1/23/20</th>\n",
       "      <th>1/24/20</th>\n",
       "      <th>1/25/20</th>\n",
       "      <th>1/26/20</th>\n",
       "      <th>1/27/20</th>\n",
       "      <th>...</th>\n",
       "      <th>6/30/21</th>\n",
       "      <th>7/1/21</th>\n",
       "      <th>7/2/21</th>\n",
       "      <th>7/3/21</th>\n",
       "      <th>7/4/21</th>\n",
       "      <th>7/5/21</th>\n",
       "      <th>7/6/21</th>\n",
       "      <th>7/7/21</th>\n",
       "      <th>7/8/21</th>\n",
       "      <th>7/9/21</th>\n",
       "    </tr>\n",
       "  </thead>\n",
       "  <tbody>\n",
       "    <tr>\n",
       "      <th>0</th>\n",
       "      <td>NaN</td>\n",
       "      <td>Afghanistan</td>\n",
       "      <td>33.939110</td>\n",
       "      <td>67.709953</td>\n",
       "      <td>0</td>\n",
       "      <td>0</td>\n",
       "      <td>0</td>\n",
       "      <td>0</td>\n",
       "      <td>0</td>\n",
       "      <td>0</td>\n",
       "      <td>...</td>\n",
       "      <td>118659</td>\n",
       "      <td>120216</td>\n",
       "      <td>120216</td>\n",
       "      <td>120216</td>\n",
       "      <td>120216</td>\n",
       "      <td>125937</td>\n",
       "      <td>127464</td>\n",
       "      <td>129021</td>\n",
       "      <td>130113</td>\n",
       "      <td>131586</td>\n",
       "    </tr>\n",
       "    <tr>\n",
       "      <th>1</th>\n",
       "      <td>NaN</td>\n",
       "      <td>Albania</td>\n",
       "      <td>41.153300</td>\n",
       "      <td>20.168300</td>\n",
       "      <td>0</td>\n",
       "      <td>0</td>\n",
       "      <td>0</td>\n",
       "      <td>0</td>\n",
       "      <td>0</td>\n",
       "      <td>0</td>\n",
       "      <td>...</td>\n",
       "      <td>132521</td>\n",
       "      <td>132523</td>\n",
       "      <td>132526</td>\n",
       "      <td>132534</td>\n",
       "      <td>132535</td>\n",
       "      <td>132537</td>\n",
       "      <td>132544</td>\n",
       "      <td>132557</td>\n",
       "      <td>132565</td>\n",
       "      <td>132580</td>\n",
       "    </tr>\n",
       "    <tr>\n",
       "      <th>2</th>\n",
       "      <td>NaN</td>\n",
       "      <td>Algeria</td>\n",
       "      <td>28.033900</td>\n",
       "      <td>1.659600</td>\n",
       "      <td>0</td>\n",
       "      <td>0</td>\n",
       "      <td>0</td>\n",
       "      <td>0</td>\n",
       "      <td>0</td>\n",
       "      <td>0</td>\n",
       "      <td>...</td>\n",
       "      <td>139626</td>\n",
       "      <td>140075</td>\n",
       "      <td>140550</td>\n",
       "      <td>141007</td>\n",
       "      <td>141471</td>\n",
       "      <td>141966</td>\n",
       "      <td>142447</td>\n",
       "      <td>143032</td>\n",
       "      <td>143652</td>\n",
       "      <td>144483</td>\n",
       "    </tr>\n",
       "    <tr>\n",
       "      <th>3</th>\n",
       "      <td>NaN</td>\n",
       "      <td>Andorra</td>\n",
       "      <td>42.506300</td>\n",
       "      <td>1.521800</td>\n",
       "      <td>0</td>\n",
       "      <td>0</td>\n",
       "      <td>0</td>\n",
       "      <td>0</td>\n",
       "      <td>0</td>\n",
       "      <td>0</td>\n",
       "      <td>...</td>\n",
       "      <td>13911</td>\n",
       "      <td>13918</td>\n",
       "      <td>13918</td>\n",
       "      <td>13918</td>\n",
       "      <td>13918</td>\n",
       "      <td>13918</td>\n",
       "      <td>13991</td>\n",
       "      <td>14021</td>\n",
       "      <td>14050</td>\n",
       "      <td>14075</td>\n",
       "    </tr>\n",
       "    <tr>\n",
       "      <th>4</th>\n",
       "      <td>NaN</td>\n",
       "      <td>Angola</td>\n",
       "      <td>-11.202700</td>\n",
       "      <td>17.873900</td>\n",
       "      <td>0</td>\n",
       "      <td>0</td>\n",
       "      <td>0</td>\n",
       "      <td>0</td>\n",
       "      <td>0</td>\n",
       "      <td>0</td>\n",
       "      <td>...</td>\n",
       "      <td>38849</td>\n",
       "      <td>38965</td>\n",
       "      <td>39089</td>\n",
       "      <td>39172</td>\n",
       "      <td>39230</td>\n",
       "      <td>39300</td>\n",
       "      <td>39375</td>\n",
       "      <td>39491</td>\n",
       "      <td>39593</td>\n",
       "      <td>39791</td>\n",
       "    </tr>\n",
       "    <tr>\n",
       "      <th>...</th>\n",
       "      <td>...</td>\n",
       "      <td>...</td>\n",
       "      <td>...</td>\n",
       "      <td>...</td>\n",
       "      <td>...</td>\n",
       "      <td>...</td>\n",
       "      <td>...</td>\n",
       "      <td>...</td>\n",
       "      <td>...</td>\n",
       "      <td>...</td>\n",
       "      <td>...</td>\n",
       "      <td>...</td>\n",
       "      <td>...</td>\n",
       "      <td>...</td>\n",
       "      <td>...</td>\n",
       "      <td>...</td>\n",
       "      <td>...</td>\n",
       "      <td>...</td>\n",
       "      <td>...</td>\n",
       "      <td>...</td>\n",
       "      <td>...</td>\n",
       "    </tr>\n",
       "    <tr>\n",
       "      <th>274</th>\n",
       "      <td>NaN</td>\n",
       "      <td>Vietnam</td>\n",
       "      <td>14.058324</td>\n",
       "      <td>108.277199</td>\n",
       "      <td>0</td>\n",
       "      <td>2</td>\n",
       "      <td>2</td>\n",
       "      <td>2</td>\n",
       "      <td>2</td>\n",
       "      <td>2</td>\n",
       "      <td>...</td>\n",
       "      <td>17052</td>\n",
       "      <td>17727</td>\n",
       "      <td>18121</td>\n",
       "      <td>19310</td>\n",
       "      <td>20261</td>\n",
       "      <td>21312</td>\n",
       "      <td>22341</td>\n",
       "      <td>23385</td>\n",
       "      <td>24810</td>\n",
       "      <td>26608</td>\n",
       "    </tr>\n",
       "    <tr>\n",
       "      <th>275</th>\n",
       "      <td>NaN</td>\n",
       "      <td>West Bank and Gaza</td>\n",
       "      <td>31.952200</td>\n",
       "      <td>35.233200</td>\n",
       "      <td>0</td>\n",
       "      <td>0</td>\n",
       "      <td>0</td>\n",
       "      <td>0</td>\n",
       "      <td>0</td>\n",
       "      <td>0</td>\n",
       "      <td>...</td>\n",
       "      <td>314167</td>\n",
       "      <td>314288</td>\n",
       "      <td>314409</td>\n",
       "      <td>314492</td>\n",
       "      <td>314569</td>\n",
       "      <td>314569</td>\n",
       "      <td>314780</td>\n",
       "      <td>314869</td>\n",
       "      <td>314869</td>\n",
       "      <td>315047</td>\n",
       "    </tr>\n",
       "    <tr>\n",
       "      <th>276</th>\n",
       "      <td>NaN</td>\n",
       "      <td>Yemen</td>\n",
       "      <td>15.552727</td>\n",
       "      <td>48.516388</td>\n",
       "      <td>0</td>\n",
       "      <td>0</td>\n",
       "      <td>0</td>\n",
       "      <td>0</td>\n",
       "      <td>0</td>\n",
       "      <td>0</td>\n",
       "      <td>...</td>\n",
       "      <td>6920</td>\n",
       "      <td>6923</td>\n",
       "      <td>6924</td>\n",
       "      <td>6926</td>\n",
       "      <td>6929</td>\n",
       "      <td>6929</td>\n",
       "      <td>6931</td>\n",
       "      <td>6934</td>\n",
       "      <td>6936</td>\n",
       "      <td>6940</td>\n",
       "    </tr>\n",
       "    <tr>\n",
       "      <th>277</th>\n",
       "      <td>NaN</td>\n",
       "      <td>Zambia</td>\n",
       "      <td>-13.133897</td>\n",
       "      <td>27.849332</td>\n",
       "      <td>0</td>\n",
       "      <td>0</td>\n",
       "      <td>0</td>\n",
       "      <td>0</td>\n",
       "      <td>0</td>\n",
       "      <td>0</td>\n",
       "      <td>...</td>\n",
       "      <td>154948</td>\n",
       "      <td>157832</td>\n",
       "      <td>160613</td>\n",
       "      <td>162487</td>\n",
       "      <td>164282</td>\n",
       "      <td>165513</td>\n",
       "      <td>167132</td>\n",
       "      <td>169003</td>\n",
       "      <td>170456</td>\n",
       "      <td>172405</td>\n",
       "    </tr>\n",
       "    <tr>\n",
       "      <th>278</th>\n",
       "      <td>NaN</td>\n",
       "      <td>Zimbabwe</td>\n",
       "      <td>-19.015438</td>\n",
       "      <td>29.154857</td>\n",
       "      <td>0</td>\n",
       "      <td>0</td>\n",
       "      <td>0</td>\n",
       "      <td>0</td>\n",
       "      <td>0</td>\n",
       "      <td>0</td>\n",
       "      <td>...</td>\n",
       "      <td>49864</td>\n",
       "      <td>51221</td>\n",
       "      <td>52663</td>\n",
       "      <td>53665</td>\n",
       "      <td>54474</td>\n",
       "      <td>56014</td>\n",
       "      <td>57963</td>\n",
       "      <td>60227</td>\n",
       "      <td>62383</td>\n",
       "      <td>65066</td>\n",
       "    </tr>\n",
       "  </tbody>\n",
       "</table>\n",
       "<p>279 rows × 539 columns</p>\n",
       "</div>"
      ],
      "text/plain": [
       "    Province/State      Country/Region        Lat        Long  1/22/20  \\\n",
       "0              NaN         Afghanistan  33.939110   67.709953        0   \n",
       "1              NaN             Albania  41.153300   20.168300        0   \n",
       "2              NaN             Algeria  28.033900    1.659600        0   \n",
       "3              NaN             Andorra  42.506300    1.521800        0   \n",
       "4              NaN              Angola -11.202700   17.873900        0   \n",
       "..             ...                 ...        ...         ...      ...   \n",
       "274            NaN             Vietnam  14.058324  108.277199        0   \n",
       "275            NaN  West Bank and Gaza  31.952200   35.233200        0   \n",
       "276            NaN               Yemen  15.552727   48.516388        0   \n",
       "277            NaN              Zambia -13.133897   27.849332        0   \n",
       "278            NaN            Zimbabwe -19.015438   29.154857        0   \n",
       "\n",
       "     1/23/20  1/24/20  1/25/20  1/26/20  1/27/20  ...  6/30/21  7/1/21  \\\n",
       "0          0        0        0        0        0  ...   118659  120216   \n",
       "1          0        0        0        0        0  ...   132521  132523   \n",
       "2          0        0        0        0        0  ...   139626  140075   \n",
       "3          0        0        0        0        0  ...    13911   13918   \n",
       "4          0        0        0        0        0  ...    38849   38965   \n",
       "..       ...      ...      ...      ...      ...  ...      ...     ...   \n",
       "274        2        2        2        2        2  ...    17052   17727   \n",
       "275        0        0        0        0        0  ...   314167  314288   \n",
       "276        0        0        0        0        0  ...     6920    6923   \n",
       "277        0        0        0        0        0  ...   154948  157832   \n",
       "278        0        0        0        0        0  ...    49864   51221   \n",
       "\n",
       "     7/2/21  7/3/21  7/4/21  7/5/21  7/6/21  7/7/21  7/8/21  7/9/21  \n",
       "0    120216  120216  120216  125937  127464  129021  130113  131586  \n",
       "1    132526  132534  132535  132537  132544  132557  132565  132580  \n",
       "2    140550  141007  141471  141966  142447  143032  143652  144483  \n",
       "3     13918   13918   13918   13918   13991   14021   14050   14075  \n",
       "4     39089   39172   39230   39300   39375   39491   39593   39791  \n",
       "..      ...     ...     ...     ...     ...     ...     ...     ...  \n",
       "274   18121   19310   20261   21312   22341   23385   24810   26608  \n",
       "275  314409  314492  314569  314569  314780  314869  314869  315047  \n",
       "276    6924    6926    6929    6929    6931    6934    6936    6940  \n",
       "277  160613  162487  164282  165513  167132  169003  170456  172405  \n",
       "278   52663   53665   54474   56014   57963   60227   62383   65066  \n",
       "\n",
       "[279 rows x 539 columns]"
      ]
     },
     "execution_count": 46,
     "metadata": {},
     "output_type": "execute_result"
    }
   ],
   "source": [
    "ts_confirmed_global_url = \"https://raw.githubusercontent.com/CSSEGISandData/COVID-19/master/csse_covid_19_data/csse_covid_19_time_series/time_series_covid19_confirmed_global.csv\"\n",
    "ts_confirmed_global = pd.read_csv(ts_confirmed_global_url)\n",
    "ts_confirmed_global"
   ]
  },
  {
   "cell_type": "markdown",
   "metadata": {
    "slideshow": {
     "slide_type": "subslide"
    }
   },
   "source": [
    "## 使用（呼叫）Pandas 的 `melt` 函數寬轉長\n",
    "\n",
    "- `id_vars`: `['Province/State', 'Country/Region', 'Lat', 'Long']`\n",
    "- `value_vars`: 從 `1/22/20` 開始到最後一個欄位。\n",
    "- `var_name`: 自訂為 `Date`。\n",
    "- `value_name`: 自訂為 `Confirmed`。"
   ]
  },
  {
   "cell_type": "code",
   "execution_count": 47,
   "metadata": {
    "slideshow": {
     "slide_type": "subslide"
    }
   },
   "outputs": [
    {
     "data": {
      "text/html": [
       "<div>\n",
       "<style scoped>\n",
       "    .dataframe tbody tr th:only-of-type {\n",
       "        vertical-align: middle;\n",
       "    }\n",
       "\n",
       "    .dataframe tbody tr th {\n",
       "        vertical-align: top;\n",
       "    }\n",
       "\n",
       "    .dataframe thead th {\n",
       "        text-align: right;\n",
       "    }\n",
       "</style>\n",
       "<table border=\"1\" class=\"dataframe\">\n",
       "  <thead>\n",
       "    <tr style=\"text-align: right;\">\n",
       "      <th></th>\n",
       "      <th>Province/State</th>\n",
       "      <th>Country/Region</th>\n",
       "      <th>Lat</th>\n",
       "      <th>Long</th>\n",
       "      <th>Date</th>\n",
       "      <th>Confirmed</th>\n",
       "    </tr>\n",
       "  </thead>\n",
       "  <tbody>\n",
       "    <tr>\n",
       "      <th>0</th>\n",
       "      <td>NaN</td>\n",
       "      <td>Afghanistan</td>\n",
       "      <td>33.939110</td>\n",
       "      <td>67.709953</td>\n",
       "      <td>1/22/20</td>\n",
       "      <td>0</td>\n",
       "    </tr>\n",
       "    <tr>\n",
       "      <th>1</th>\n",
       "      <td>NaN</td>\n",
       "      <td>Albania</td>\n",
       "      <td>41.153300</td>\n",
       "      <td>20.168300</td>\n",
       "      <td>1/22/20</td>\n",
       "      <td>0</td>\n",
       "    </tr>\n",
       "    <tr>\n",
       "      <th>2</th>\n",
       "      <td>NaN</td>\n",
       "      <td>Algeria</td>\n",
       "      <td>28.033900</td>\n",
       "      <td>1.659600</td>\n",
       "      <td>1/22/20</td>\n",
       "      <td>0</td>\n",
       "    </tr>\n",
       "    <tr>\n",
       "      <th>3</th>\n",
       "      <td>NaN</td>\n",
       "      <td>Andorra</td>\n",
       "      <td>42.506300</td>\n",
       "      <td>1.521800</td>\n",
       "      <td>1/22/20</td>\n",
       "      <td>0</td>\n",
       "    </tr>\n",
       "    <tr>\n",
       "      <th>4</th>\n",
       "      <td>NaN</td>\n",
       "      <td>Angola</td>\n",
       "      <td>-11.202700</td>\n",
       "      <td>17.873900</td>\n",
       "      <td>1/22/20</td>\n",
       "      <td>0</td>\n",
       "    </tr>\n",
       "    <tr>\n",
       "      <th>...</th>\n",
       "      <td>...</td>\n",
       "      <td>...</td>\n",
       "      <td>...</td>\n",
       "      <td>...</td>\n",
       "      <td>...</td>\n",
       "      <td>...</td>\n",
       "    </tr>\n",
       "    <tr>\n",
       "      <th>149260</th>\n",
       "      <td>NaN</td>\n",
       "      <td>Vietnam</td>\n",
       "      <td>14.058324</td>\n",
       "      <td>108.277199</td>\n",
       "      <td>7/9/21</td>\n",
       "      <td>26608</td>\n",
       "    </tr>\n",
       "    <tr>\n",
       "      <th>149261</th>\n",
       "      <td>NaN</td>\n",
       "      <td>West Bank and Gaza</td>\n",
       "      <td>31.952200</td>\n",
       "      <td>35.233200</td>\n",
       "      <td>7/9/21</td>\n",
       "      <td>315047</td>\n",
       "    </tr>\n",
       "    <tr>\n",
       "      <th>149262</th>\n",
       "      <td>NaN</td>\n",
       "      <td>Yemen</td>\n",
       "      <td>15.552727</td>\n",
       "      <td>48.516388</td>\n",
       "      <td>7/9/21</td>\n",
       "      <td>6940</td>\n",
       "    </tr>\n",
       "    <tr>\n",
       "      <th>149263</th>\n",
       "      <td>NaN</td>\n",
       "      <td>Zambia</td>\n",
       "      <td>-13.133897</td>\n",
       "      <td>27.849332</td>\n",
       "      <td>7/9/21</td>\n",
       "      <td>172405</td>\n",
       "    </tr>\n",
       "    <tr>\n",
       "      <th>149264</th>\n",
       "      <td>NaN</td>\n",
       "      <td>Zimbabwe</td>\n",
       "      <td>-19.015438</td>\n",
       "      <td>29.154857</td>\n",
       "      <td>7/9/21</td>\n",
       "      <td>65066</td>\n",
       "    </tr>\n",
       "  </tbody>\n",
       "</table>\n",
       "<p>149265 rows × 6 columns</p>\n",
       "</div>"
      ],
      "text/plain": [
       "       Province/State      Country/Region        Lat        Long     Date  \\\n",
       "0                 NaN         Afghanistan  33.939110   67.709953  1/22/20   \n",
       "1                 NaN             Albania  41.153300   20.168300  1/22/20   \n",
       "2                 NaN             Algeria  28.033900    1.659600  1/22/20   \n",
       "3                 NaN             Andorra  42.506300    1.521800  1/22/20   \n",
       "4                 NaN              Angola -11.202700   17.873900  1/22/20   \n",
       "...               ...                 ...        ...         ...      ...   \n",
       "149260            NaN             Vietnam  14.058324  108.277199   7/9/21   \n",
       "149261            NaN  West Bank and Gaza  31.952200   35.233200   7/9/21   \n",
       "149262            NaN               Yemen  15.552727   48.516388   7/9/21   \n",
       "149263            NaN              Zambia -13.133897   27.849332   7/9/21   \n",
       "149264            NaN            Zimbabwe -19.015438   29.154857   7/9/21   \n",
       "\n",
       "        Confirmed  \n",
       "0               0  \n",
       "1               0  \n",
       "2               0  \n",
       "3               0  \n",
       "4               0  \n",
       "...           ...  \n",
       "149260      26608  \n",
       "149261     315047  \n",
       "149262       6940  \n",
       "149263     172405  \n",
       "149264      65066  \n",
       "\n",
       "[149265 rows x 6 columns]"
      ]
     },
     "execution_count": 47,
     "metadata": {},
     "output_type": "execute_result"
    }
   ],
   "source": [
    "idVars = ['Province/State', 'Country/Region', 'Lat', 'Long']\n",
    "ts_confirmed_global_long = pd.melt(ts_confirmed_global,\n",
    "                                  id_vars=idVars,\n",
    "                                  var_name='Date',\n",
    "                                  value_name='Confirmed')\n",
    "ts_confirmed_global_long"
   ]
  },
  {
   "cell_type": "code",
   "execution_count": 48,
   "metadata": {
    "slideshow": {
     "slide_type": "subslide"
    }
   },
   "outputs": [
    {
     "data": {
      "text/html": [
       "<div>\n",
       "<style scoped>\n",
       "    .dataframe tbody tr th:only-of-type {\n",
       "        vertical-align: middle;\n",
       "    }\n",
       "\n",
       "    .dataframe tbody tr th {\n",
       "        vertical-align: top;\n",
       "    }\n",
       "\n",
       "    .dataframe thead th {\n",
       "        text-align: right;\n",
       "    }\n",
       "</style>\n",
       "<table border=\"1\" class=\"dataframe\">\n",
       "  <thead>\n",
       "    <tr style=\"text-align: right;\">\n",
       "      <th></th>\n",
       "      <th>Country/Region</th>\n",
       "      <th>Date</th>\n",
       "      <th>Confirmed</th>\n",
       "    </tr>\n",
       "  </thead>\n",
       "  <tbody>\n",
       "    <tr>\n",
       "      <th>0</th>\n",
       "      <td>Afghanistan</td>\n",
       "      <td>1/1/21</td>\n",
       "      <td>51526</td>\n",
       "    </tr>\n",
       "    <tr>\n",
       "      <th>1</th>\n",
       "      <td>Afghanistan</td>\n",
       "      <td>1/10/21</td>\n",
       "      <td>53489</td>\n",
       "    </tr>\n",
       "    <tr>\n",
       "      <th>2</th>\n",
       "      <td>Afghanistan</td>\n",
       "      <td>1/11/21</td>\n",
       "      <td>53538</td>\n",
       "    </tr>\n",
       "    <tr>\n",
       "      <th>3</th>\n",
       "      <td>Afghanistan</td>\n",
       "      <td>1/12/21</td>\n",
       "      <td>53584</td>\n",
       "    </tr>\n",
       "    <tr>\n",
       "      <th>4</th>\n",
       "      <td>Afghanistan</td>\n",
       "      <td>1/13/21</td>\n",
       "      <td>53584</td>\n",
       "    </tr>\n",
       "    <tr>\n",
       "      <th>...</th>\n",
       "      <td>...</td>\n",
       "      <td>...</td>\n",
       "      <td>...</td>\n",
       "    </tr>\n",
       "    <tr>\n",
       "      <th>104320</th>\n",
       "      <td>Zimbabwe</td>\n",
       "      <td>9/5/20</td>\n",
       "      <td>6837</td>\n",
       "    </tr>\n",
       "    <tr>\n",
       "      <th>104321</th>\n",
       "      <td>Zimbabwe</td>\n",
       "      <td>9/6/20</td>\n",
       "      <td>6837</td>\n",
       "    </tr>\n",
       "    <tr>\n",
       "      <th>104322</th>\n",
       "      <td>Zimbabwe</td>\n",
       "      <td>9/7/20</td>\n",
       "      <td>7298</td>\n",
       "    </tr>\n",
       "    <tr>\n",
       "      <th>104323</th>\n",
       "      <td>Zimbabwe</td>\n",
       "      <td>9/8/20</td>\n",
       "      <td>7388</td>\n",
       "    </tr>\n",
       "    <tr>\n",
       "      <th>104324</th>\n",
       "      <td>Zimbabwe</td>\n",
       "      <td>9/9/20</td>\n",
       "      <td>7429</td>\n",
       "    </tr>\n",
       "  </tbody>\n",
       "</table>\n",
       "<p>104325 rows × 3 columns</p>\n",
       "</div>"
      ],
      "text/plain": [
       "       Country/Region     Date  Confirmed\n",
       "0         Afghanistan   1/1/21      51526\n",
       "1         Afghanistan  1/10/21      53489\n",
       "2         Afghanistan  1/11/21      53538\n",
       "3         Afghanistan  1/12/21      53584\n",
       "4         Afghanistan  1/13/21      53584\n",
       "...               ...      ...        ...\n",
       "104320       Zimbabwe   9/5/20       6837\n",
       "104321       Zimbabwe   9/6/20       6837\n",
       "104322       Zimbabwe   9/7/20       7298\n",
       "104323       Zimbabwe   9/8/20       7388\n",
       "104324       Zimbabwe   9/9/20       7429\n",
       "\n",
       "[104325 rows x 3 columns]"
      ]
     },
     "execution_count": 48,
     "metadata": {},
     "output_type": "execute_result"
    }
   ],
   "source": [
    "ts_groupby_confirmed = ts_confirmed_global_long.groupby(['Country/Region', 'Date'])['Confirmed'].sum()\n",
    "ts_groupby_confirmed = pd.DataFrame(ts_groupby_confirmed).reset_index()\n",
    "ts_groupby_confirmed"
   ]
  },
  {
   "cell_type": "markdown",
   "metadata": {
    "slideshow": {
     "slide_type": "subslide"
    }
   },
   "source": [
    "## 使用（呼叫）`DataFrame` 的 `pivot` 方法長轉寬"
   ]
  },
  {
   "cell_type": "code",
   "execution_count": 49,
   "metadata": {},
   "outputs": [
    {
     "data": {
      "text/html": [
       "<div>\n",
       "<style scoped>\n",
       "    .dataframe tbody tr th:only-of-type {\n",
       "        vertical-align: middle;\n",
       "    }\n",
       "\n",
       "    .dataframe tbody tr th {\n",
       "        vertical-align: top;\n",
       "    }\n",
       "\n",
       "    .dataframe thead th {\n",
       "        text-align: right;\n",
       "    }\n",
       "</style>\n",
       "<table border=\"1\" class=\"dataframe\">\n",
       "  <thead>\n",
       "    <tr style=\"text-align: right;\">\n",
       "      <th>Date</th>\n",
       "      <th>1/1/21</th>\n",
       "      <th>1/10/21</th>\n",
       "      <th>1/11/21</th>\n",
       "      <th>1/12/21</th>\n",
       "      <th>1/13/21</th>\n",
       "      <th>1/14/21</th>\n",
       "      <th>1/15/21</th>\n",
       "      <th>1/16/21</th>\n",
       "      <th>1/17/21</th>\n",
       "      <th>1/18/21</th>\n",
       "      <th>...</th>\n",
       "      <th>9/28/20</th>\n",
       "      <th>9/29/20</th>\n",
       "      <th>9/3/20</th>\n",
       "      <th>9/30/20</th>\n",
       "      <th>9/4/20</th>\n",
       "      <th>9/5/20</th>\n",
       "      <th>9/6/20</th>\n",
       "      <th>9/7/20</th>\n",
       "      <th>9/8/20</th>\n",
       "      <th>9/9/20</th>\n",
       "    </tr>\n",
       "    <tr>\n",
       "      <th>Country/Region</th>\n",
       "      <th></th>\n",
       "      <th></th>\n",
       "      <th></th>\n",
       "      <th></th>\n",
       "      <th></th>\n",
       "      <th></th>\n",
       "      <th></th>\n",
       "      <th></th>\n",
       "      <th></th>\n",
       "      <th></th>\n",
       "      <th></th>\n",
       "      <th></th>\n",
       "      <th></th>\n",
       "      <th></th>\n",
       "      <th></th>\n",
       "      <th></th>\n",
       "      <th></th>\n",
       "      <th></th>\n",
       "      <th></th>\n",
       "      <th></th>\n",
       "      <th></th>\n",
       "    </tr>\n",
       "  </thead>\n",
       "  <tbody>\n",
       "    <tr>\n",
       "      <th>Afghanistan</th>\n",
       "      <td>51526</td>\n",
       "      <td>53489</td>\n",
       "      <td>53538</td>\n",
       "      <td>53584</td>\n",
       "      <td>53584</td>\n",
       "      <td>53775</td>\n",
       "      <td>53831</td>\n",
       "      <td>53938</td>\n",
       "      <td>53984</td>\n",
       "      <td>54062</td>\n",
       "      <td>...</td>\n",
       "      <td>39239</td>\n",
       "      <td>39254</td>\n",
       "      <td>38288</td>\n",
       "      <td>39268</td>\n",
       "      <td>38304</td>\n",
       "      <td>38324</td>\n",
       "      <td>38398</td>\n",
       "      <td>38494</td>\n",
       "      <td>38520</td>\n",
       "      <td>38544</td>\n",
       "    </tr>\n",
       "    <tr>\n",
       "      <th>Albania</th>\n",
       "      <td>58316</td>\n",
       "      <td>63595</td>\n",
       "      <td>63971</td>\n",
       "      <td>64627</td>\n",
       "      <td>65334</td>\n",
       "      <td>65994</td>\n",
       "      <td>66635</td>\n",
       "      <td>67216</td>\n",
       "      <td>67690</td>\n",
       "      <td>67982</td>\n",
       "      <td>...</td>\n",
       "      <td>13391</td>\n",
       "      <td>13518</td>\n",
       "      <td>9844</td>\n",
       "      <td>13649</td>\n",
       "      <td>9967</td>\n",
       "      <td>10102</td>\n",
       "      <td>10255</td>\n",
       "      <td>10406</td>\n",
       "      <td>10553</td>\n",
       "      <td>10704</td>\n",
       "    </tr>\n",
       "    <tr>\n",
       "      <th>Algeria</th>\n",
       "      <td>99897</td>\n",
       "      <td>102144</td>\n",
       "      <td>102369</td>\n",
       "      <td>102641</td>\n",
       "      <td>102860</td>\n",
       "      <td>103127</td>\n",
       "      <td>103381</td>\n",
       "      <td>103611</td>\n",
       "      <td>103833</td>\n",
       "      <td>104092</td>\n",
       "      <td>...</td>\n",
       "      <td>51213</td>\n",
       "      <td>51368</td>\n",
       "      <td>45469</td>\n",
       "      <td>51530</td>\n",
       "      <td>45773</td>\n",
       "      <td>46071</td>\n",
       "      <td>46364</td>\n",
       "      <td>46653</td>\n",
       "      <td>46938</td>\n",
       "      <td>47216</td>\n",
       "    </tr>\n",
       "    <tr>\n",
       "      <th>Andorra</th>\n",
       "      <td>8117</td>\n",
       "      <td>8586</td>\n",
       "      <td>8586</td>\n",
       "      <td>8682</td>\n",
       "      <td>8818</td>\n",
       "      <td>8868</td>\n",
       "      <td>8946</td>\n",
       "      <td>9038</td>\n",
       "      <td>9083</td>\n",
       "      <td>9083</td>\n",
       "      <td>...</td>\n",
       "      <td>1966</td>\n",
       "      <td>1966</td>\n",
       "      <td>1199</td>\n",
       "      <td>2050</td>\n",
       "      <td>1215</td>\n",
       "      <td>1215</td>\n",
       "      <td>1215</td>\n",
       "      <td>1261</td>\n",
       "      <td>1261</td>\n",
       "      <td>1301</td>\n",
       "    </tr>\n",
       "    <tr>\n",
       "      <th>Angola</th>\n",
       "      <td>17568</td>\n",
       "      <td>18193</td>\n",
       "      <td>18254</td>\n",
       "      <td>18343</td>\n",
       "      <td>18425</td>\n",
       "      <td>18613</td>\n",
       "      <td>18679</td>\n",
       "      <td>18765</td>\n",
       "      <td>18875</td>\n",
       "      <td>18926</td>\n",
       "      <td>...</td>\n",
       "      <td>4797</td>\n",
       "      <td>4905</td>\n",
       "      <td>2805</td>\n",
       "      <td>4972</td>\n",
       "      <td>2876</td>\n",
       "      <td>2935</td>\n",
       "      <td>2965</td>\n",
       "      <td>2981</td>\n",
       "      <td>3033</td>\n",
       "      <td>3092</td>\n",
       "    </tr>\n",
       "    <tr>\n",
       "      <th>...</th>\n",
       "      <td>...</td>\n",
       "      <td>...</td>\n",
       "      <td>...</td>\n",
       "      <td>...</td>\n",
       "      <td>...</td>\n",
       "      <td>...</td>\n",
       "      <td>...</td>\n",
       "      <td>...</td>\n",
       "      <td>...</td>\n",
       "      <td>...</td>\n",
       "      <td>...</td>\n",
       "      <td>...</td>\n",
       "      <td>...</td>\n",
       "      <td>...</td>\n",
       "      <td>...</td>\n",
       "      <td>...</td>\n",
       "      <td>...</td>\n",
       "      <td>...</td>\n",
       "      <td>...</td>\n",
       "      <td>...</td>\n",
       "      <td>...</td>\n",
       "    </tr>\n",
       "    <tr>\n",
       "      <th>Vietnam</th>\n",
       "      <td>1474</td>\n",
       "      <td>1514</td>\n",
       "      <td>1515</td>\n",
       "      <td>1520</td>\n",
       "      <td>1521</td>\n",
       "      <td>1531</td>\n",
       "      <td>1536</td>\n",
       "      <td>1537</td>\n",
       "      <td>1537</td>\n",
       "      <td>1539</td>\n",
       "      <td>...</td>\n",
       "      <td>1077</td>\n",
       "      <td>1094</td>\n",
       "      <td>1046</td>\n",
       "      <td>1094</td>\n",
       "      <td>1049</td>\n",
       "      <td>1049</td>\n",
       "      <td>1049</td>\n",
       "      <td>1049</td>\n",
       "      <td>1054</td>\n",
       "      <td>1059</td>\n",
       "    </tr>\n",
       "    <tr>\n",
       "      <th>West Bank and Gaza</th>\n",
       "      <td>139223</td>\n",
       "      <td>147400</td>\n",
       "      <td>148171</td>\n",
       "      <td>148968</td>\n",
       "      <td>149769</td>\n",
       "      <td>150505</td>\n",
       "      <td>151142</td>\n",
       "      <td>151569</td>\n",
       "      <td>152031</td>\n",
       "      <td>152555</td>\n",
       "      <td>...</td>\n",
       "      <td>39121</td>\n",
       "      <td>39541</td>\n",
       "      <td>24471</td>\n",
       "      <td>39899</td>\n",
       "      <td>25142</td>\n",
       "      <td>25575</td>\n",
       "      <td>26127</td>\n",
       "      <td>26779</td>\n",
       "      <td>27363</td>\n",
       "      <td>27919</td>\n",
       "    </tr>\n",
       "    <tr>\n",
       "      <th>Yemen</th>\n",
       "      <td>2101</td>\n",
       "      <td>2104</td>\n",
       "      <td>2105</td>\n",
       "      <td>2107</td>\n",
       "      <td>2109</td>\n",
       "      <td>2110</td>\n",
       "      <td>2111</td>\n",
       "      <td>2112</td>\n",
       "      <td>2112</td>\n",
       "      <td>2113</td>\n",
       "      <td>...</td>\n",
       "      <td>2031</td>\n",
       "      <td>2031</td>\n",
       "      <td>1979</td>\n",
       "      <td>2034</td>\n",
       "      <td>1983</td>\n",
       "      <td>1983</td>\n",
       "      <td>1987</td>\n",
       "      <td>1989</td>\n",
       "      <td>1994</td>\n",
       "      <td>1999</td>\n",
       "    </tr>\n",
       "    <tr>\n",
       "      <th>Zambia</th>\n",
       "      <td>20997</td>\n",
       "      <td>27728</td>\n",
       "      <td>28596</td>\n",
       "      <td>29757</td>\n",
       "      <td>31100</td>\n",
       "      <td>32800</td>\n",
       "      <td>34278</td>\n",
       "      <td>36074</td>\n",
       "      <td>37605</td>\n",
       "      <td>38207</td>\n",
       "      <td>...</td>\n",
       "      <td>14660</td>\n",
       "      <td>14715</td>\n",
       "      <td>12523</td>\n",
       "      <td>14759</td>\n",
       "      <td>12639</td>\n",
       "      <td>12709</td>\n",
       "      <td>12776</td>\n",
       "      <td>12836</td>\n",
       "      <td>12952</td>\n",
       "      <td>13112</td>\n",
       "    </tr>\n",
       "    <tr>\n",
       "      <th>Zimbabwe</th>\n",
       "      <td>14084</td>\n",
       "      <td>21477</td>\n",
       "      <td>22297</td>\n",
       "      <td>23239</td>\n",
       "      <td>24256</td>\n",
       "      <td>25368</td>\n",
       "      <td>26109</td>\n",
       "      <td>26881</td>\n",
       "      <td>27203</td>\n",
       "      <td>27892</td>\n",
       "      <td>...</td>\n",
       "      <td>7816</td>\n",
       "      <td>7837</td>\n",
       "      <td>6678</td>\n",
       "      <td>7838</td>\n",
       "      <td>6837</td>\n",
       "      <td>6837</td>\n",
       "      <td>6837</td>\n",
       "      <td>7298</td>\n",
       "      <td>7388</td>\n",
       "      <td>7429</td>\n",
       "    </tr>\n",
       "  </tbody>\n",
       "</table>\n",
       "<p>195 rows × 535 columns</p>\n",
       "</div>"
      ],
      "text/plain": [
       "Date                1/1/21  1/10/21  1/11/21  1/12/21  1/13/21  1/14/21  \\\n",
       "Country/Region                                                            \n",
       "Afghanistan          51526    53489    53538    53584    53584    53775   \n",
       "Albania              58316    63595    63971    64627    65334    65994   \n",
       "Algeria              99897   102144   102369   102641   102860   103127   \n",
       "Andorra               8117     8586     8586     8682     8818     8868   \n",
       "Angola               17568    18193    18254    18343    18425    18613   \n",
       "...                    ...      ...      ...      ...      ...      ...   \n",
       "Vietnam               1474     1514     1515     1520     1521     1531   \n",
       "West Bank and Gaza  139223   147400   148171   148968   149769   150505   \n",
       "Yemen                 2101     2104     2105     2107     2109     2110   \n",
       "Zambia               20997    27728    28596    29757    31100    32800   \n",
       "Zimbabwe             14084    21477    22297    23239    24256    25368   \n",
       "\n",
       "Date                1/15/21  1/16/21  1/17/21  1/18/21  ...  9/28/20  9/29/20  \\\n",
       "Country/Region                                          ...                     \n",
       "Afghanistan           53831    53938    53984    54062  ...    39239    39254   \n",
       "Albania               66635    67216    67690    67982  ...    13391    13518   \n",
       "Algeria              103381   103611   103833   104092  ...    51213    51368   \n",
       "Andorra                8946     9038     9083     9083  ...     1966     1966   \n",
       "Angola                18679    18765    18875    18926  ...     4797     4905   \n",
       "...                     ...      ...      ...      ...  ...      ...      ...   \n",
       "Vietnam                1536     1537     1537     1539  ...     1077     1094   \n",
       "West Bank and Gaza   151142   151569   152031   152555  ...    39121    39541   \n",
       "Yemen                  2111     2112     2112     2113  ...     2031     2031   \n",
       "Zambia                34278    36074    37605    38207  ...    14660    14715   \n",
       "Zimbabwe              26109    26881    27203    27892  ...     7816     7837   \n",
       "\n",
       "Date                9/3/20  9/30/20  9/4/20  9/5/20  9/6/20  9/7/20  9/8/20  \\\n",
       "Country/Region                                                                \n",
       "Afghanistan          38288    39268   38304   38324   38398   38494   38520   \n",
       "Albania               9844    13649    9967   10102   10255   10406   10553   \n",
       "Algeria              45469    51530   45773   46071   46364   46653   46938   \n",
       "Andorra               1199     2050    1215    1215    1215    1261    1261   \n",
       "Angola                2805     4972    2876    2935    2965    2981    3033   \n",
       "...                    ...      ...     ...     ...     ...     ...     ...   \n",
       "Vietnam               1046     1094    1049    1049    1049    1049    1054   \n",
       "West Bank and Gaza   24471    39899   25142   25575   26127   26779   27363   \n",
       "Yemen                 1979     2034    1983    1983    1987    1989    1994   \n",
       "Zambia               12523    14759   12639   12709   12776   12836   12952   \n",
       "Zimbabwe              6678     7838    6837    6837    6837    7298    7388   \n",
       "\n",
       "Date                9/9/20  \n",
       "Country/Region              \n",
       "Afghanistan          38544  \n",
       "Albania              10704  \n",
       "Algeria              47216  \n",
       "Andorra               1301  \n",
       "Angola                3092  \n",
       "...                    ...  \n",
       "Vietnam               1059  \n",
       "West Bank and Gaza   27919  \n",
       "Yemen                 1999  \n",
       "Zambia               13112  \n",
       "Zimbabwe              7429  \n",
       "\n",
       "[195 rows x 535 columns]"
      ]
     },
     "execution_count": 49,
     "metadata": {},
     "output_type": "execute_result"
    }
   ],
   "source": [
    "ts_groupby_confirmed.pivot(index='Country/Region', columns='Date', values='Confirmed')"
   ]
  },
  {
   "cell_type": "markdown",
   "metadata": {
    "slideshow": {
     "slide_type": "subslide"
    }
   },
   "source": [
    "## 合併資料框的函數與方法\n",
    "\n",
    "- 使用（呼叫）Pandas 的 `merge` 函數利用欄位名稱合併。\n",
    "- 使用（呼叫）`DataFrame` 的 `join` 方法利用資料框的列索引合併。"
   ]
  },
  {
   "cell_type": "code",
   "execution_count": 50,
   "metadata": {
    "slideshow": {
     "slide_type": "subslide"
    }
   },
   "outputs": [],
   "source": [
    "def get_top_rated_movies():\n",
    "    request_url = \"https://www.imdb.com/chart/top\"\n",
    "    html_tables = pd.read_html(request_url)\n",
    "    html_table = html_tables[0]\n",
    "    split_dataframe = html_table['Rank & Title'].str.split(expand=True)\n",
    "    ranks = split_dataframe[0].str.replace(\".\", '', regex=False).values\n",
    "    years = split_dataframe[2].str.replace(\"\\(|\\)\", '', regex=True).values\n",
    "    titles = split_dataframe[1].values\n",
    "    ratings = html_table['IMDb Rating'].values\n",
    "    out = pd.DataFrame()\n",
    "    out['rank'] = ranks\n",
    "    out['title'] = titles\n",
    "    out['year'] = years\n",
    "    out['rating'] = ratings\n",
    "    return out\n",
    "\n",
    "top_rated_movies = get_top_rated_movies()"
   ]
  },
  {
   "cell_type": "code",
   "execution_count": 51,
   "metadata": {
    "slideshow": {
     "slide_type": "subslide"
    }
   },
   "outputs": [
    {
     "data": {
      "text/html": [
       "<div>\n",
       "<style scoped>\n",
       "    .dataframe tbody tr th:only-of-type {\n",
       "        vertical-align: middle;\n",
       "    }\n",
       "\n",
       "    .dataframe tbody tr th {\n",
       "        vertical-align: top;\n",
       "    }\n",
       "\n",
       "    .dataframe thead th {\n",
       "        text-align: right;\n",
       "    }\n",
       "</style>\n",
       "<table border=\"1\" class=\"dataframe\">\n",
       "  <thead>\n",
       "    <tr style=\"text-align: right;\">\n",
       "      <th></th>\n",
       "      <th>title</th>\n",
       "      <th>year</th>\n",
       "    </tr>\n",
       "  </thead>\n",
       "  <tbody>\n",
       "    <tr>\n",
       "      <th>0</th>\n",
       "      <td>刺激1995</td>\n",
       "      <td>1994</td>\n",
       "    </tr>\n",
       "    <tr>\n",
       "      <th>1</th>\n",
       "      <td>教父</td>\n",
       "      <td>1972</td>\n",
       "    </tr>\n",
       "    <tr>\n",
       "      <th>2</th>\n",
       "      <td>教父第二集</td>\n",
       "      <td>1974</td>\n",
       "    </tr>\n",
       "    <tr>\n",
       "      <th>3</th>\n",
       "      <td>黑暗騎士</td>\n",
       "      <td>2008</td>\n",
       "    </tr>\n",
       "    <tr>\n",
       "      <th>4</th>\n",
       "      <td>十二怒漢</td>\n",
       "      <td>1957</td>\n",
       "    </tr>\n",
       "    <tr>\n",
       "      <th>5</th>\n",
       "      <td>辛德勒的名單</td>\n",
       "      <td>1993</td>\n",
       "    </tr>\n",
       "    <tr>\n",
       "      <th>6</th>\n",
       "      <td>魔戒三部曲：王者再臨</td>\n",
       "      <td>2003</td>\n",
       "    </tr>\n",
       "    <tr>\n",
       "      <th>7</th>\n",
       "      <td>黑色追緝令</td>\n",
       "      <td>1994</td>\n",
       "    </tr>\n",
       "    <tr>\n",
       "      <th>8</th>\n",
       "      <td>黃昏三鏢客</td>\n",
       "      <td>1966</td>\n",
       "    </tr>\n",
       "    <tr>\n",
       "      <th>9</th>\n",
       "      <td>魔戒首部曲：魔戒現身</td>\n",
       "      <td>2001</td>\n",
       "    </tr>\n",
       "  </tbody>\n",
       "</table>\n",
       "</div>"
      ],
      "text/plain": [
       "        title  year\n",
       "0      刺激1995  1994\n",
       "1          教父  1972\n",
       "2       教父第二集  1974\n",
       "3        黑暗騎士  2008\n",
       "4        十二怒漢  1957\n",
       "5      辛德勒的名單  1993\n",
       "6  魔戒三部曲：王者再臨  2003\n",
       "7       黑色追緝令  1994\n",
       "8       黃昏三鏢客  1966\n",
       "9  魔戒首部曲：魔戒現身  2001"
      ]
     },
     "execution_count": 51,
     "metadata": {},
     "output_type": "execute_result"
    }
   ],
   "source": [
    "left_df = top_rated_movies.loc[:9, ['title', 'year']]\n",
    "right_df = top_rated_movies[top_rated_movies['title'].str.contains('魔戒')][['title', 'rating']].reset_index(drop=True)\n",
    "left_df"
   ]
  },
  {
   "cell_type": "code",
   "execution_count": 52,
   "metadata": {
    "slideshow": {
     "slide_type": "subslide"
    }
   },
   "outputs": [
    {
     "data": {
      "text/html": [
       "<div>\n",
       "<style scoped>\n",
       "    .dataframe tbody tr th:only-of-type {\n",
       "        vertical-align: middle;\n",
       "    }\n",
       "\n",
       "    .dataframe tbody tr th {\n",
       "        vertical-align: top;\n",
       "    }\n",
       "\n",
       "    .dataframe thead th {\n",
       "        text-align: right;\n",
       "    }\n",
       "</style>\n",
       "<table border=\"1\" class=\"dataframe\">\n",
       "  <thead>\n",
       "    <tr style=\"text-align: right;\">\n",
       "      <th></th>\n",
       "      <th>title</th>\n",
       "      <th>rating</th>\n",
       "    </tr>\n",
       "  </thead>\n",
       "  <tbody>\n",
       "    <tr>\n",
       "      <th>0</th>\n",
       "      <td>魔戒三部曲：王者再臨</td>\n",
       "      <td>8.9</td>\n",
       "    </tr>\n",
       "    <tr>\n",
       "      <th>1</th>\n",
       "      <td>魔戒首部曲：魔戒現身</td>\n",
       "      <td>8.8</td>\n",
       "    </tr>\n",
       "    <tr>\n",
       "      <th>2</th>\n",
       "      <td>魔戒二部曲：雙城奇謀</td>\n",
       "      <td>8.7</td>\n",
       "    </tr>\n",
       "  </tbody>\n",
       "</table>\n",
       "</div>"
      ],
      "text/plain": [
       "        title  rating\n",
       "0  魔戒三部曲：王者再臨     8.9\n",
       "1  魔戒首部曲：魔戒現身     8.8\n",
       "2  魔戒二部曲：雙城奇謀     8.7"
      ]
     },
     "execution_count": 52,
     "metadata": {},
     "output_type": "execute_result"
    }
   ],
   "source": [
    "right_df"
   ]
  },
  {
   "cell_type": "markdown",
   "metadata": {
    "slideshow": {
     "slide_type": "subslide"
    }
   },
   "source": [
    "## 使用（呼叫）Pandas 的 `merge` 函數利用欄位名稱合併"
   ]
  },
  {
   "cell_type": "code",
   "execution_count": 53,
   "metadata": {},
   "outputs": [
    {
     "data": {
      "text/html": [
       "<div>\n",
       "<style scoped>\n",
       "    .dataframe tbody tr th:only-of-type {\n",
       "        vertical-align: middle;\n",
       "    }\n",
       "\n",
       "    .dataframe tbody tr th {\n",
       "        vertical-align: top;\n",
       "    }\n",
       "\n",
       "    .dataframe thead th {\n",
       "        text-align: right;\n",
       "    }\n",
       "</style>\n",
       "<table border=\"1\" class=\"dataframe\">\n",
       "  <thead>\n",
       "    <tr style=\"text-align: right;\">\n",
       "      <th></th>\n",
       "      <th>title</th>\n",
       "      <th>year</th>\n",
       "      <th>rating</th>\n",
       "    </tr>\n",
       "  </thead>\n",
       "  <tbody>\n",
       "    <tr>\n",
       "      <th>0</th>\n",
       "      <td>魔戒三部曲：王者再臨</td>\n",
       "      <td>2003</td>\n",
       "      <td>8.9</td>\n",
       "    </tr>\n",
       "    <tr>\n",
       "      <th>1</th>\n",
       "      <td>魔戒首部曲：魔戒現身</td>\n",
       "      <td>2001</td>\n",
       "      <td>8.8</td>\n",
       "    </tr>\n",
       "  </tbody>\n",
       "</table>\n",
       "</div>"
      ],
      "text/plain": [
       "        title  year  rating\n",
       "0  魔戒三部曲：王者再臨  2003     8.9\n",
       "1  魔戒首部曲：魔戒現身  2001     8.8"
      ]
     },
     "execution_count": 53,
     "metadata": {},
     "output_type": "execute_result"
    }
   ],
   "source": [
    "# default: inner join\n",
    "pd.merge(left_df, right_df)"
   ]
  },
  {
   "cell_type": "code",
   "execution_count": 54,
   "metadata": {
    "slideshow": {
     "slide_type": "subslide"
    }
   },
   "outputs": [
    {
     "data": {
      "text/html": [
       "<div>\n",
       "<style scoped>\n",
       "    .dataframe tbody tr th:only-of-type {\n",
       "        vertical-align: middle;\n",
       "    }\n",
       "\n",
       "    .dataframe tbody tr th {\n",
       "        vertical-align: top;\n",
       "    }\n",
       "\n",
       "    .dataframe thead th {\n",
       "        text-align: right;\n",
       "    }\n",
       "</style>\n",
       "<table border=\"1\" class=\"dataframe\">\n",
       "  <thead>\n",
       "    <tr style=\"text-align: right;\">\n",
       "      <th></th>\n",
       "      <th>title</th>\n",
       "      <th>year</th>\n",
       "      <th>rating</th>\n",
       "    </tr>\n",
       "  </thead>\n",
       "  <tbody>\n",
       "    <tr>\n",
       "      <th>0</th>\n",
       "      <td>刺激1995</td>\n",
       "      <td>1994</td>\n",
       "      <td>NaN</td>\n",
       "    </tr>\n",
       "    <tr>\n",
       "      <th>1</th>\n",
       "      <td>教父</td>\n",
       "      <td>1972</td>\n",
       "      <td>NaN</td>\n",
       "    </tr>\n",
       "    <tr>\n",
       "      <th>2</th>\n",
       "      <td>教父第二集</td>\n",
       "      <td>1974</td>\n",
       "      <td>NaN</td>\n",
       "    </tr>\n",
       "    <tr>\n",
       "      <th>3</th>\n",
       "      <td>黑暗騎士</td>\n",
       "      <td>2008</td>\n",
       "      <td>NaN</td>\n",
       "    </tr>\n",
       "    <tr>\n",
       "      <th>4</th>\n",
       "      <td>十二怒漢</td>\n",
       "      <td>1957</td>\n",
       "      <td>NaN</td>\n",
       "    </tr>\n",
       "    <tr>\n",
       "      <th>5</th>\n",
       "      <td>辛德勒的名單</td>\n",
       "      <td>1993</td>\n",
       "      <td>NaN</td>\n",
       "    </tr>\n",
       "    <tr>\n",
       "      <th>6</th>\n",
       "      <td>魔戒三部曲：王者再臨</td>\n",
       "      <td>2003</td>\n",
       "      <td>8.9</td>\n",
       "    </tr>\n",
       "    <tr>\n",
       "      <th>7</th>\n",
       "      <td>黑色追緝令</td>\n",
       "      <td>1994</td>\n",
       "      <td>NaN</td>\n",
       "    </tr>\n",
       "    <tr>\n",
       "      <th>8</th>\n",
       "      <td>黃昏三鏢客</td>\n",
       "      <td>1966</td>\n",
       "      <td>NaN</td>\n",
       "    </tr>\n",
       "    <tr>\n",
       "      <th>9</th>\n",
       "      <td>魔戒首部曲：魔戒現身</td>\n",
       "      <td>2001</td>\n",
       "      <td>8.8</td>\n",
       "    </tr>\n",
       "  </tbody>\n",
       "</table>\n",
       "</div>"
      ],
      "text/plain": [
       "        title  year  rating\n",
       "0      刺激1995  1994     NaN\n",
       "1          教父  1972     NaN\n",
       "2       教父第二集  1974     NaN\n",
       "3        黑暗騎士  2008     NaN\n",
       "4        十二怒漢  1957     NaN\n",
       "5      辛德勒的名單  1993     NaN\n",
       "6  魔戒三部曲：王者再臨  2003     8.9\n",
       "7       黑色追緝令  1994     NaN\n",
       "8       黃昏三鏢客  1966     NaN\n",
       "9  魔戒首部曲：魔戒現身  2001     8.8"
      ]
     },
     "execution_count": 54,
     "metadata": {},
     "output_type": "execute_result"
    }
   ],
   "source": [
    "# left join\n",
    "pd.merge(left_df, right_df, how='left')"
   ]
  },
  {
   "cell_type": "code",
   "execution_count": 55,
   "metadata": {
    "slideshow": {
     "slide_type": "subslide"
    }
   },
   "outputs": [
    {
     "data": {
      "text/html": [
       "<div>\n",
       "<style scoped>\n",
       "    .dataframe tbody tr th:only-of-type {\n",
       "        vertical-align: middle;\n",
       "    }\n",
       "\n",
       "    .dataframe tbody tr th {\n",
       "        vertical-align: top;\n",
       "    }\n",
       "\n",
       "    .dataframe thead th {\n",
       "        text-align: right;\n",
       "    }\n",
       "</style>\n",
       "<table border=\"1\" class=\"dataframe\">\n",
       "  <thead>\n",
       "    <tr style=\"text-align: right;\">\n",
       "      <th></th>\n",
       "      <th>title</th>\n",
       "      <th>year</th>\n",
       "      <th>rating</th>\n",
       "    </tr>\n",
       "  </thead>\n",
       "  <tbody>\n",
       "    <tr>\n",
       "      <th>0</th>\n",
       "      <td>魔戒三部曲：王者再臨</td>\n",
       "      <td>2003</td>\n",
       "      <td>8.9</td>\n",
       "    </tr>\n",
       "    <tr>\n",
       "      <th>1</th>\n",
       "      <td>魔戒首部曲：魔戒現身</td>\n",
       "      <td>2001</td>\n",
       "      <td>8.8</td>\n",
       "    </tr>\n",
       "    <tr>\n",
       "      <th>2</th>\n",
       "      <td>魔戒二部曲：雙城奇謀</td>\n",
       "      <td>NaN</td>\n",
       "      <td>8.7</td>\n",
       "    </tr>\n",
       "  </tbody>\n",
       "</table>\n",
       "</div>"
      ],
      "text/plain": [
       "        title  year  rating\n",
       "0  魔戒三部曲：王者再臨  2003     8.9\n",
       "1  魔戒首部曲：魔戒現身  2001     8.8\n",
       "2  魔戒二部曲：雙城奇謀   NaN     8.7"
      ]
     },
     "execution_count": 55,
     "metadata": {},
     "output_type": "execute_result"
    }
   ],
   "source": [
    "# right join\n",
    "pd.merge(left_df, right_df, how='right')"
   ]
  },
  {
   "cell_type": "code",
   "execution_count": 56,
   "metadata": {
    "slideshow": {
     "slide_type": "subslide"
    }
   },
   "outputs": [
    {
     "data": {
      "text/html": [
       "<div>\n",
       "<style scoped>\n",
       "    .dataframe tbody tr th:only-of-type {\n",
       "        vertical-align: middle;\n",
       "    }\n",
       "\n",
       "    .dataframe tbody tr th {\n",
       "        vertical-align: top;\n",
       "    }\n",
       "\n",
       "    .dataframe thead th {\n",
       "        text-align: right;\n",
       "    }\n",
       "</style>\n",
       "<table border=\"1\" class=\"dataframe\">\n",
       "  <thead>\n",
       "    <tr style=\"text-align: right;\">\n",
       "      <th></th>\n",
       "      <th>title</th>\n",
       "      <th>year</th>\n",
       "      <th>rating</th>\n",
       "    </tr>\n",
       "  </thead>\n",
       "  <tbody>\n",
       "    <tr>\n",
       "      <th>0</th>\n",
       "      <td>刺激1995</td>\n",
       "      <td>1994</td>\n",
       "      <td>NaN</td>\n",
       "    </tr>\n",
       "    <tr>\n",
       "      <th>1</th>\n",
       "      <td>教父</td>\n",
       "      <td>1972</td>\n",
       "      <td>NaN</td>\n",
       "    </tr>\n",
       "    <tr>\n",
       "      <th>2</th>\n",
       "      <td>教父第二集</td>\n",
       "      <td>1974</td>\n",
       "      <td>NaN</td>\n",
       "    </tr>\n",
       "    <tr>\n",
       "      <th>3</th>\n",
       "      <td>黑暗騎士</td>\n",
       "      <td>2008</td>\n",
       "      <td>NaN</td>\n",
       "    </tr>\n",
       "    <tr>\n",
       "      <th>4</th>\n",
       "      <td>十二怒漢</td>\n",
       "      <td>1957</td>\n",
       "      <td>NaN</td>\n",
       "    </tr>\n",
       "    <tr>\n",
       "      <th>5</th>\n",
       "      <td>辛德勒的名單</td>\n",
       "      <td>1993</td>\n",
       "      <td>NaN</td>\n",
       "    </tr>\n",
       "    <tr>\n",
       "      <th>6</th>\n",
       "      <td>魔戒三部曲：王者再臨</td>\n",
       "      <td>2003</td>\n",
       "      <td>8.9</td>\n",
       "    </tr>\n",
       "    <tr>\n",
       "      <th>7</th>\n",
       "      <td>黑色追緝令</td>\n",
       "      <td>1994</td>\n",
       "      <td>NaN</td>\n",
       "    </tr>\n",
       "    <tr>\n",
       "      <th>8</th>\n",
       "      <td>黃昏三鏢客</td>\n",
       "      <td>1966</td>\n",
       "      <td>NaN</td>\n",
       "    </tr>\n",
       "    <tr>\n",
       "      <th>9</th>\n",
       "      <td>魔戒首部曲：魔戒現身</td>\n",
       "      <td>2001</td>\n",
       "      <td>8.8</td>\n",
       "    </tr>\n",
       "    <tr>\n",
       "      <th>10</th>\n",
       "      <td>魔戒二部曲：雙城奇謀</td>\n",
       "      <td>NaN</td>\n",
       "      <td>8.7</td>\n",
       "    </tr>\n",
       "  </tbody>\n",
       "</table>\n",
       "</div>"
      ],
      "text/plain": [
       "         title  year  rating\n",
       "0       刺激1995  1994     NaN\n",
       "1           教父  1972     NaN\n",
       "2        教父第二集  1974     NaN\n",
       "3         黑暗騎士  2008     NaN\n",
       "4         十二怒漢  1957     NaN\n",
       "5       辛德勒的名單  1993     NaN\n",
       "6   魔戒三部曲：王者再臨  2003     8.9\n",
       "7        黑色追緝令  1994     NaN\n",
       "8        黃昏三鏢客  1966     NaN\n",
       "9   魔戒首部曲：魔戒現身  2001     8.8\n",
       "10  魔戒二部曲：雙城奇謀   NaN     8.7"
      ]
     },
     "execution_count": 56,
     "metadata": {},
     "output_type": "execute_result"
    }
   ],
   "source": [
    "# outer join\n",
    "pd.merge(left_df, right_df, how='outer')"
   ]
  },
  {
   "cell_type": "markdown",
   "metadata": {
    "slideshow": {
     "slide_type": "subslide"
    }
   },
   "source": [
    "## 使用（呼叫）DataFrame 的 `join` 方法利用資料框的列索引合併"
   ]
  },
  {
   "cell_type": "code",
   "execution_count": 57,
   "metadata": {},
   "outputs": [
    {
     "data": {
      "text/html": [
       "<div>\n",
       "<style scoped>\n",
       "    .dataframe tbody tr th:only-of-type {\n",
       "        vertical-align: middle;\n",
       "    }\n",
       "\n",
       "    .dataframe tbody tr th {\n",
       "        vertical-align: top;\n",
       "    }\n",
       "\n",
       "    .dataframe thead th {\n",
       "        text-align: right;\n",
       "    }\n",
       "</style>\n",
       "<table border=\"1\" class=\"dataframe\">\n",
       "  <thead>\n",
       "    <tr style=\"text-align: right;\">\n",
       "      <th></th>\n",
       "      <th>title_x</th>\n",
       "      <th>year</th>\n",
       "      <th>title_y</th>\n",
       "      <th>rating</th>\n",
       "    </tr>\n",
       "  </thead>\n",
       "  <tbody>\n",
       "    <tr>\n",
       "      <th>0</th>\n",
       "      <td>刺激1995</td>\n",
       "      <td>1994</td>\n",
       "      <td>魔戒三部曲：王者再臨</td>\n",
       "      <td>8.9</td>\n",
       "    </tr>\n",
       "    <tr>\n",
       "      <th>1</th>\n",
       "      <td>教父</td>\n",
       "      <td>1972</td>\n",
       "      <td>魔戒首部曲：魔戒現身</td>\n",
       "      <td>8.8</td>\n",
       "    </tr>\n",
       "    <tr>\n",
       "      <th>2</th>\n",
       "      <td>教父第二集</td>\n",
       "      <td>1974</td>\n",
       "      <td>魔戒二部曲：雙城奇謀</td>\n",
       "      <td>8.7</td>\n",
       "    </tr>\n",
       "    <tr>\n",
       "      <th>3</th>\n",
       "      <td>黑暗騎士</td>\n",
       "      <td>2008</td>\n",
       "      <td>NaN</td>\n",
       "      <td>NaN</td>\n",
       "    </tr>\n",
       "    <tr>\n",
       "      <th>4</th>\n",
       "      <td>十二怒漢</td>\n",
       "      <td>1957</td>\n",
       "      <td>NaN</td>\n",
       "      <td>NaN</td>\n",
       "    </tr>\n",
       "    <tr>\n",
       "      <th>5</th>\n",
       "      <td>辛德勒的名單</td>\n",
       "      <td>1993</td>\n",
       "      <td>NaN</td>\n",
       "      <td>NaN</td>\n",
       "    </tr>\n",
       "    <tr>\n",
       "      <th>6</th>\n",
       "      <td>魔戒三部曲：王者再臨</td>\n",
       "      <td>2003</td>\n",
       "      <td>NaN</td>\n",
       "      <td>NaN</td>\n",
       "    </tr>\n",
       "    <tr>\n",
       "      <th>7</th>\n",
       "      <td>黑色追緝令</td>\n",
       "      <td>1994</td>\n",
       "      <td>NaN</td>\n",
       "      <td>NaN</td>\n",
       "    </tr>\n",
       "    <tr>\n",
       "      <th>8</th>\n",
       "      <td>黃昏三鏢客</td>\n",
       "      <td>1966</td>\n",
       "      <td>NaN</td>\n",
       "      <td>NaN</td>\n",
       "    </tr>\n",
       "    <tr>\n",
       "      <th>9</th>\n",
       "      <td>魔戒首部曲：魔戒現身</td>\n",
       "      <td>2001</td>\n",
       "      <td>NaN</td>\n",
       "      <td>NaN</td>\n",
       "    </tr>\n",
       "  </tbody>\n",
       "</table>\n",
       "</div>"
      ],
      "text/plain": [
       "      title_x  year     title_y  rating\n",
       "0      刺激1995  1994  魔戒三部曲：王者再臨     8.9\n",
       "1          教父  1972  魔戒首部曲：魔戒現身     8.8\n",
       "2       教父第二集  1974  魔戒二部曲：雙城奇謀     8.7\n",
       "3        黑暗騎士  2008         NaN     NaN\n",
       "4        十二怒漢  1957         NaN     NaN\n",
       "5      辛德勒的名單  1993         NaN     NaN\n",
       "6  魔戒三部曲：王者再臨  2003         NaN     NaN\n",
       "7       黑色追緝令  1994         NaN     NaN\n",
       "8       黃昏三鏢客  1966         NaN     NaN\n",
       "9  魔戒首部曲：魔戒現身  2001         NaN     NaN"
      ]
     },
     "execution_count": 57,
     "metadata": {},
     "output_type": "execute_result"
    }
   ],
   "source": [
    "# join dataframes on index\n",
    "left_df.join(right_df, lsuffix='_x', rsuffix='_y')"
   ]
  },
  {
   "cell_type": "code",
   "execution_count": 58,
   "metadata": {
    "slideshow": {
     "slide_type": "subslide"
    }
   },
   "outputs": [
    {
     "data": {
      "text/html": [
       "<div>\n",
       "<style scoped>\n",
       "    .dataframe tbody tr th:only-of-type {\n",
       "        vertical-align: middle;\n",
       "    }\n",
       "\n",
       "    .dataframe tbody tr th {\n",
       "        vertical-align: top;\n",
       "    }\n",
       "\n",
       "    .dataframe thead th {\n",
       "        text-align: right;\n",
       "    }\n",
       "</style>\n",
       "<table border=\"1\" class=\"dataframe\">\n",
       "  <thead>\n",
       "    <tr style=\"text-align: right;\">\n",
       "      <th></th>\n",
       "      <th>year</th>\n",
       "      <th>rating</th>\n",
       "    </tr>\n",
       "    <tr>\n",
       "      <th>title</th>\n",
       "      <th></th>\n",
       "      <th></th>\n",
       "    </tr>\n",
       "  </thead>\n",
       "  <tbody>\n",
       "    <tr>\n",
       "      <th>刺激1995</th>\n",
       "      <td>1994</td>\n",
       "      <td>NaN</td>\n",
       "    </tr>\n",
       "    <tr>\n",
       "      <th>教父</th>\n",
       "      <td>1972</td>\n",
       "      <td>NaN</td>\n",
       "    </tr>\n",
       "    <tr>\n",
       "      <th>教父第二集</th>\n",
       "      <td>1974</td>\n",
       "      <td>NaN</td>\n",
       "    </tr>\n",
       "    <tr>\n",
       "      <th>黑暗騎士</th>\n",
       "      <td>2008</td>\n",
       "      <td>NaN</td>\n",
       "    </tr>\n",
       "    <tr>\n",
       "      <th>十二怒漢</th>\n",
       "      <td>1957</td>\n",
       "      <td>NaN</td>\n",
       "    </tr>\n",
       "    <tr>\n",
       "      <th>辛德勒的名單</th>\n",
       "      <td>1993</td>\n",
       "      <td>NaN</td>\n",
       "    </tr>\n",
       "    <tr>\n",
       "      <th>魔戒三部曲：王者再臨</th>\n",
       "      <td>2003</td>\n",
       "      <td>8.9</td>\n",
       "    </tr>\n",
       "    <tr>\n",
       "      <th>黑色追緝令</th>\n",
       "      <td>1994</td>\n",
       "      <td>NaN</td>\n",
       "    </tr>\n",
       "    <tr>\n",
       "      <th>黃昏三鏢客</th>\n",
       "      <td>1966</td>\n",
       "      <td>NaN</td>\n",
       "    </tr>\n",
       "    <tr>\n",
       "      <th>魔戒首部曲：魔戒現身</th>\n",
       "      <td>2001</td>\n",
       "      <td>8.8</td>\n",
       "    </tr>\n",
       "  </tbody>\n",
       "</table>\n",
       "</div>"
      ],
      "text/plain": [
       "            year  rating\n",
       "title                   \n",
       "刺激1995      1994     NaN\n",
       "教父          1972     NaN\n",
       "教父第二集       1974     NaN\n",
       "黑暗騎士        2008     NaN\n",
       "十二怒漢        1957     NaN\n",
       "辛德勒的名單      1993     NaN\n",
       "魔戒三部曲：王者再臨  2003     8.9\n",
       "黑色追緝令       1994     NaN\n",
       "黃昏三鏢客       1966     NaN\n",
       "魔戒首部曲：魔戒現身  2001     8.8"
      ]
     },
     "execution_count": 58,
     "metadata": {},
     "output_type": "execute_result"
    }
   ],
   "source": [
    "left_df = left_df.set_index('title')\n",
    "right_df = right_df.set_index('title')\n",
    "# default: left join\n",
    "left_df.join(right_df)"
   ]
  },
  {
   "cell_type": "code",
   "execution_count": 59,
   "metadata": {
    "slideshow": {
     "slide_type": "subslide"
    }
   },
   "outputs": [
    {
     "data": {
      "text/html": [
       "<div>\n",
       "<style scoped>\n",
       "    .dataframe tbody tr th:only-of-type {\n",
       "        vertical-align: middle;\n",
       "    }\n",
       "\n",
       "    .dataframe tbody tr th {\n",
       "        vertical-align: top;\n",
       "    }\n",
       "\n",
       "    .dataframe thead th {\n",
       "        text-align: right;\n",
       "    }\n",
       "</style>\n",
       "<table border=\"1\" class=\"dataframe\">\n",
       "  <thead>\n",
       "    <tr style=\"text-align: right;\">\n",
       "      <th></th>\n",
       "      <th>year</th>\n",
       "      <th>rating</th>\n",
       "    </tr>\n",
       "    <tr>\n",
       "      <th>title</th>\n",
       "      <th></th>\n",
       "      <th></th>\n",
       "    </tr>\n",
       "  </thead>\n",
       "  <tbody>\n",
       "    <tr>\n",
       "      <th>魔戒三部曲：王者再臨</th>\n",
       "      <td>2003</td>\n",
       "      <td>8.9</td>\n",
       "    </tr>\n",
       "    <tr>\n",
       "      <th>魔戒首部曲：魔戒現身</th>\n",
       "      <td>2001</td>\n",
       "      <td>8.8</td>\n",
       "    </tr>\n",
       "  </tbody>\n",
       "</table>\n",
       "</div>"
      ],
      "text/plain": [
       "            year  rating\n",
       "title                   \n",
       "魔戒三部曲：王者再臨  2003     8.9\n",
       "魔戒首部曲：魔戒現身  2001     8.8"
      ]
     },
     "execution_count": 59,
     "metadata": {},
     "output_type": "execute_result"
    }
   ],
   "source": [
    "# inner join\n",
    "left_df.join(right_df, how='inner')"
   ]
  },
  {
   "cell_type": "code",
   "execution_count": 60,
   "metadata": {
    "slideshow": {
     "slide_type": "subslide"
    }
   },
   "outputs": [
    {
     "data": {
      "text/html": [
       "<div>\n",
       "<style scoped>\n",
       "    .dataframe tbody tr th:only-of-type {\n",
       "        vertical-align: middle;\n",
       "    }\n",
       "\n",
       "    .dataframe tbody tr th {\n",
       "        vertical-align: top;\n",
       "    }\n",
       "\n",
       "    .dataframe thead th {\n",
       "        text-align: right;\n",
       "    }\n",
       "</style>\n",
       "<table border=\"1\" class=\"dataframe\">\n",
       "  <thead>\n",
       "    <tr style=\"text-align: right;\">\n",
       "      <th></th>\n",
       "      <th>year</th>\n",
       "      <th>rating</th>\n",
       "    </tr>\n",
       "    <tr>\n",
       "      <th>title</th>\n",
       "      <th></th>\n",
       "      <th></th>\n",
       "    </tr>\n",
       "  </thead>\n",
       "  <tbody>\n",
       "    <tr>\n",
       "      <th>魔戒三部曲：王者再臨</th>\n",
       "      <td>2003</td>\n",
       "      <td>8.9</td>\n",
       "    </tr>\n",
       "    <tr>\n",
       "      <th>魔戒首部曲：魔戒現身</th>\n",
       "      <td>2001</td>\n",
       "      <td>8.8</td>\n",
       "    </tr>\n",
       "    <tr>\n",
       "      <th>魔戒二部曲：雙城奇謀</th>\n",
       "      <td>NaN</td>\n",
       "      <td>8.7</td>\n",
       "    </tr>\n",
       "  </tbody>\n",
       "</table>\n",
       "</div>"
      ],
      "text/plain": [
       "            year  rating\n",
       "title                   \n",
       "魔戒三部曲：王者再臨  2003     8.9\n",
       "魔戒首部曲：魔戒現身  2001     8.8\n",
       "魔戒二部曲：雙城奇謀   NaN     8.7"
      ]
     },
     "execution_count": 60,
     "metadata": {},
     "output_type": "execute_result"
    }
   ],
   "source": [
    "# right join\n",
    "left_df.join(right_df, how='right')"
   ]
  },
  {
   "cell_type": "code",
   "execution_count": 61,
   "metadata": {
    "slideshow": {
     "slide_type": "subslide"
    }
   },
   "outputs": [
    {
     "data": {
      "text/html": [
       "<div>\n",
       "<style scoped>\n",
       "    .dataframe tbody tr th:only-of-type {\n",
       "        vertical-align: middle;\n",
       "    }\n",
       "\n",
       "    .dataframe tbody tr th {\n",
       "        vertical-align: top;\n",
       "    }\n",
       "\n",
       "    .dataframe thead th {\n",
       "        text-align: right;\n",
       "    }\n",
       "</style>\n",
       "<table border=\"1\" class=\"dataframe\">\n",
       "  <thead>\n",
       "    <tr style=\"text-align: right;\">\n",
       "      <th></th>\n",
       "      <th>year</th>\n",
       "      <th>rating</th>\n",
       "    </tr>\n",
       "    <tr>\n",
       "      <th>title</th>\n",
       "      <th></th>\n",
       "      <th></th>\n",
       "    </tr>\n",
       "  </thead>\n",
       "  <tbody>\n",
       "    <tr>\n",
       "      <th>刺激1995</th>\n",
       "      <td>1994</td>\n",
       "      <td>NaN</td>\n",
       "    </tr>\n",
       "    <tr>\n",
       "      <th>十二怒漢</th>\n",
       "      <td>1957</td>\n",
       "      <td>NaN</td>\n",
       "    </tr>\n",
       "    <tr>\n",
       "      <th>教父</th>\n",
       "      <td>1972</td>\n",
       "      <td>NaN</td>\n",
       "    </tr>\n",
       "    <tr>\n",
       "      <th>教父第二集</th>\n",
       "      <td>1974</td>\n",
       "      <td>NaN</td>\n",
       "    </tr>\n",
       "    <tr>\n",
       "      <th>辛德勒的名單</th>\n",
       "      <td>1993</td>\n",
       "      <td>NaN</td>\n",
       "    </tr>\n",
       "    <tr>\n",
       "      <th>魔戒三部曲：王者再臨</th>\n",
       "      <td>2003</td>\n",
       "      <td>8.9</td>\n",
       "    </tr>\n",
       "    <tr>\n",
       "      <th>魔戒二部曲：雙城奇謀</th>\n",
       "      <td>NaN</td>\n",
       "      <td>8.7</td>\n",
       "    </tr>\n",
       "    <tr>\n",
       "      <th>魔戒首部曲：魔戒現身</th>\n",
       "      <td>2001</td>\n",
       "      <td>8.8</td>\n",
       "    </tr>\n",
       "    <tr>\n",
       "      <th>黃昏三鏢客</th>\n",
       "      <td>1966</td>\n",
       "      <td>NaN</td>\n",
       "    </tr>\n",
       "    <tr>\n",
       "      <th>黑暗騎士</th>\n",
       "      <td>2008</td>\n",
       "      <td>NaN</td>\n",
       "    </tr>\n",
       "    <tr>\n",
       "      <th>黑色追緝令</th>\n",
       "      <td>1994</td>\n",
       "      <td>NaN</td>\n",
       "    </tr>\n",
       "  </tbody>\n",
       "</table>\n",
       "</div>"
      ],
      "text/plain": [
       "            year  rating\n",
       "title                   \n",
       "刺激1995      1994     NaN\n",
       "十二怒漢        1957     NaN\n",
       "教父          1972     NaN\n",
       "教父第二集       1974     NaN\n",
       "辛德勒的名單      1993     NaN\n",
       "魔戒三部曲：王者再臨  2003     8.9\n",
       "魔戒二部曲：雙城奇謀   NaN     8.7\n",
       "魔戒首部曲：魔戒現身  2001     8.8\n",
       "黃昏三鏢客       1966     NaN\n",
       "黑暗騎士        2008     NaN\n",
       "黑色追緝令       1994     NaN"
      ]
     },
     "execution_count": 61,
     "metadata": {},
     "output_type": "execute_result"
    }
   ],
   "source": [
    "# outer join\n",
    "left_df.join(right_df, how='outer')"
   ]
  }
 ],
 "metadata": {
  "celltoolbar": "Slideshow",
  "kernelspec": {
   "display_name": "Python Data Science",
   "language": "python",
   "name": "pyds"
  },
  "language_info": {
   "codemirror_mode": {
    "name": "ipython",
    "version": 3
   },
   "file_extension": ".py",
   "mimetype": "text/x-python",
   "name": "python",
   "nbconvert_exporter": "python",
   "pygments_lexer": "ipython3",
   "version": "3.8.10"
  }
 },
 "nbformat": 4,
 "nbformat_minor": 4
}
