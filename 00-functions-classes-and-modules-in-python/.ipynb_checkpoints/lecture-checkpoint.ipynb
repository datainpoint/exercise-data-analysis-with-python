{
 "cells": [
  {
   "cell_type": "markdown",
   "id": "occupied-happiness",
   "metadata": {
    "slideshow": {
     "slide_type": "slide"
    }
   },
   "source": [
    "# Python 資料分析\n",
    "\n",
    "> 重要觀念複習：函數、類別與模組（套件）\n",
    "\n",
    "[數據交點](https://www.datainpoint.com/) | 郭耀仁 <yaojenkuo@datainpoint.com>"
   ]
  },
  {
   "cell_type": "markdown",
   "id": "tired-wallpaper",
   "metadata": {
    "slideshow": {
     "slide_type": "slide"
    }
   },
   "source": [
    "## 組織程式碼"
   ]
  },
  {
   "cell_type": "markdown",
   "id": "fatal-algorithm",
   "metadata": {
    "slideshow": {
     "slide_type": "subslide"
    }
   },
   "source": [
    "## 什麼是組織程式碼？\n",
    "\n",
    "面對不同目的以及應用場景，我們會有組織程式碼的需求，簡單來說，是希望程式碼可以簡潔且有效率地完成任務。"
   ]
  },
  {
   "cell_type": "markdown",
   "id": "dietary-occasion",
   "metadata": {
    "slideshow": {
     "slide_type": "subslide"
    }
   },
   "source": [
    "## 組織程式碼希望達到的目標最主要有兩個：\n",
    "\n",
    "1. 提升程式碼的「可利用性」。\n",
    "2. 減少程式碼的「重複」。"
   ]
  },
  {
   "cell_type": "markdown",
   "id": "cognitive-lodge",
   "metadata": {
    "slideshow": {
     "slide_type": "subslide"
    }
   },
   "source": [
    "## Python 提供四種機制供使用者組織程式碼\n",
    "\n",
    "視應用範疇由小到大依序為：\n",
    "\n",
    "- 函數（Function）\n",
    "- 類別（Class）\n",
    "- 模組（Module）\n",
    "- 套件（Library）"
   ]
  },
  {
   "cell_type": "markdown",
   "id": "middle-slope",
   "metadata": {
    "slideshow": {
     "slide_type": "subslide"
    }
   },
   "source": [
    "## 如何理解程式碼組織機制\n",
    "\n",
    "- 數行程式碼可以組織為一個函數。\n",
    "- 數個函數可以組織為一個類別。\n",
    "- 數個類別可以組織為一個模組。\n",
    "- 數個模組可以組織為一個功能更多的模組。"
   ]
  },
  {
   "cell_type": "markdown",
   "id": "sufficient-invasion",
   "metadata": {
    "slideshow": {
     "slide_type": "subslide"
    }
   },
   "source": [
    "## 程式碼，組織！\n",
    "\n",
    "![](https://media.giphy.com/media/LOFT5Jd31ON1b5kLtP/giphy.gif)\n",
    "\n",
    "來源：<https://gph.is/g/4bWWoxv>"
   ]
  },
  {
   "cell_type": "markdown",
   "id": "compact-surface",
   "metadata": {
    "slideshow": {
     "slide_type": "slide"
    }
   },
   "source": [
    "## 函數"
   ]
  },
  {
   "cell_type": "markdown",
   "id": "fiscal-portrait",
   "metadata": {
    "slideshow": {
     "slide_type": "subslide"
    }
   },
   "source": [
    "## 什麼是函數\n",
    "\n",
    "一段被賦予名稱的程式碼，能夠完成某一個文字處理或者數值計算任務，使用（呼叫）某個函數之前，必須先確定這個函數在執行的範疇中已經被定義妥善。"
   ]
  },
  {
   "cell_type": "markdown",
   "id": "average-charter",
   "metadata": {
    "slideshow": {
     "slide_type": "subslide"
    }
   },
   "source": [
    "## 「哈囉世界」Hello, World!"
   ]
  },
  {
   "cell_type": "code",
   "execution_count": 1,
   "id": "complex-instruction",
   "metadata": {},
   "outputs": [
    {
     "name": "stdout",
     "output_type": "stream",
     "text": [
      "Hello, World!\n"
     ]
    }
   ],
   "source": [
    "print(\"Hello, World!\")"
   ]
  },
  {
   "cell_type": "markdown",
   "id": "mechanical-assessment",
   "metadata": {
    "slideshow": {
     "slide_type": "subslide"
    }
   },
   "source": [
    "## 「哈囉世界」中所使用的 `print` 是什麼？\n",
    "\n",
    "- `print` 是 Python 的「內建函數」。\n",
    "- 「內建」所指的意思是不需要先行「定義」就可以使用的函數。\n",
    "- Python 的內建函數：<https://docs.python.org/3/library/functions.html>"
   ]
  },
  {
   "cell_type": "markdown",
   "id": "compressed-virus",
   "metadata": {
    "slideshow": {
     "slide_type": "subslide"
    }
   },
   "source": [
    "## 一個函數由四個元件組成\n",
    "\n",
    "1. 函數名稱\n",
    "2. 輸入、參數\n",
    "3. 函數主體\n",
    "4. 輸出"
   ]
  },
  {
   "cell_type": "markdown",
   "id": "thermal-plate",
   "metadata": {
    "slideshow": {
     "slide_type": "subslide"
    }
   },
   "source": [
    "## 函數運作的過程就像買一杯珍珠奶茶\n",
    "\n",
    "![Imgur](https://i.imgur.com/6gpJebm.jpg?1)\n",
    "\n",
    "來源: Google 圖片"
   ]
  },
  {
   "cell_type": "markdown",
   "id": "right-latin",
   "metadata": {
    "slideshow": {
     "slide_type": "subslide"
    }
   },
   "source": [
    "## 函數有四個來源\n",
    "\n",
    "- 來自「內建函數」：<https://docs.python.org/3/library/functions.html>\n",
    "- 來自標準模組（套件）：<https://docs.python.org/3/library>\n",
    "- 來自第三方模組（套件）。\n",
    "- 來自使用者的定義。"
   ]
  },
  {
   "cell_type": "markdown",
   "id": "improving-moment",
   "metadata": {
    "slideshow": {
     "slide_type": "subslide"
    }
   },
   "source": [
    "## 來自「內建函數」\n",
    "\n",
    "<https://docs.python.org/3/library/functions.html>"
   ]
  },
  {
   "cell_type": "code",
   "execution_count": 2,
   "id": "special-commitment",
   "metadata": {},
   "outputs": [
    {
     "name": "stdout",
     "output_type": "stream",
     "text": [
      "125\n"
     ]
    }
   ],
   "source": [
    "print(pow(5, 3))"
   ]
  },
  {
   "cell_type": "markdown",
   "id": "piano-logging",
   "metadata": {
    "slideshow": {
     "slide_type": "subslide"
    }
   },
   "source": [
    "## 來自標準模組（套件）\n",
    "\n",
    "<https://docs.python.org/3/library>"
   ]
  },
  {
   "cell_type": "code",
   "execution_count": 3,
   "id": "current-teacher",
   "metadata": {
    "slideshow": {
     "slide_type": "subslide"
    }
   },
   "outputs": [
    {
     "name": "stdout",
     "output_type": "stream",
     "text": [
      "11\n"
     ]
    }
   ],
   "source": [
    "from random import randint\n",
    "\n",
    "print(randint(1, 11))"
   ]
  },
  {
   "cell_type": "markdown",
   "id": "quarterly-rogers",
   "metadata": {
    "slideshow": {
     "slide_type": "subslide"
    }
   },
   "source": [
    "## 來自第三方模組（套件）"
   ]
  },
  {
   "cell_type": "code",
   "execution_count": 4,
   "id": "modern-study",
   "metadata": {},
   "outputs": [
    {
     "name": "stdout",
     "output_type": "stream",
     "text": [
      "[7 5 2 3 2]\n"
     ]
    }
   ],
   "source": [
    "from numpy.random import randint\n",
    "\n",
    "print(randint(1, 10, size=5))"
   ]
  },
  {
   "cell_type": "markdown",
   "id": "satisfactory-ecology",
   "metadata": {
    "slideshow": {
     "slide_type": "subslide"
    }
   },
   "source": [
    "## 來自使用者的定義"
   ]
  },
  {
   "cell_type": "code",
   "execution_count": 5,
   "id": "comparable-richardson",
   "metadata": {},
   "outputs": [
    {
     "name": "stdout",
     "output_type": "stream",
     "text": [
      "125\n"
     ]
    }
   ],
   "source": [
    "def power(x, n):\n",
    "    out = x**n\n",
    "    return out\n",
    "\n",
    "print(power(5, 3))"
   ]
  },
  {
   "cell_type": "markdown",
   "id": "positive-stephen",
   "metadata": {
    "slideshow": {
     "slide_type": "subslide"
    }
   },
   "source": [
    "## 輸入與參數在函數定義與使用（呼叫）時的差別\n",
    "\n",
    "- 定義時稱為輸入（Inputs）或參數（Parameters）。\n",
    "- 使用（呼叫）函數時稱為引數（Arguments）。"
   ]
  },
  {
   "cell_type": "code",
   "execution_count": 6,
   "id": "incredible-print",
   "metadata": {
    "slideshow": {
     "slide_type": "subslide"
    }
   },
   "outputs": [
    {
     "name": "stdout",
     "output_type": "stream",
     "text": [
      "125\n"
     ]
    }
   ],
   "source": [
    "def power(x, n):\n",
    "    out = x**n # Parameters\n",
    "    return out\n",
    "\n",
    "a = 5 # Argument\n",
    "b = 3 # Argument\n",
    "print(power(a, b)) # Arguments"
   ]
  },
  {
   "cell_type": "markdown",
   "id": "terminal-certificate",
   "metadata": {
    "slideshow": {
     "slide_type": "subslide"
    }
   },
   "source": [
    "## 參數與引數的差別\n",
    "\n",
    "- 在自行定義的函數 `power(x, n)` 中 `x` 與 `n` 稱為輸入（Inputs）或參數（Parameters）。\n",
    "- 在呼叫自行定義的函數 `power(a, b)` 中 `a` 與 `b` 稱為引數（Arguments）。"
   ]
  },
  {
   "cell_type": "markdown",
   "id": "serial-republic",
   "metadata": {
    "slideshow": {
     "slide_type": "subslide"
    }
   },
   "source": [
    "## 如何自行定義函數\n",
    "\n",
    "- `def` 用來定義函數的名稱。\n",
    "- `return` 用來標註函數的輸出。\n",
    "- 縮排用來標註函數的主體。"
   ]
  },
  {
   "cell_type": "markdown",
   "id": "olive-milwaukee",
   "metadata": {
    "slideshow": {
     "slide_type": "subslide"
    }
   },
   "source": [
    "## 自行定義函數的結構\n",
    "\n",
    "\n",
    "```python\n",
    "def function_name(INPUTS, PARAMETERS, ...):\n",
    "    # body of function_name\n",
    "    \"\"\"\n",
    "    docstring: print documentation when help is called\n",
    "    \"\"\"\n",
    "    # sequence of statements\n",
    "    return OUTPUTS\n",
    "```"
   ]
  },
  {
   "cell_type": "markdown",
   "id": "musical-bailey",
   "metadata": {
    "slideshow": {
     "slide_type": "subslide"
    }
   },
   "source": [
    "## `return` 的作用\n",
    "\n",
    "- 回傳函數的預期輸出。\n",
    "- 為函數的主體畫下終止符。"
   ]
  },
  {
   "cell_type": "markdown",
   "id": "military-billion",
   "metadata": {
    "slideshow": {
     "slide_type": "subslide"
    }
   },
   "source": [
    "## 回傳函數的預期輸出"
   ]
  },
  {
   "cell_type": "code",
   "execution_count": 7,
   "id": "exempt-apparel",
   "metadata": {},
   "outputs": [
    {
     "name": "stdout",
     "output_type": "stream",
     "text": [
      "None\n"
     ]
    }
   ],
   "source": [
    "def power(x, n):\n",
    "    \"\"\"\n",
    "    Equivalent to x raised to the power of n.\n",
    "    \"\"\"\n",
    "    out = x**n\n",
    "\n",
    "print(power(5, 3))"
   ]
  },
  {
   "cell_type": "markdown",
   "id": "floppy-label",
   "metadata": {
    "slideshow": {
     "slide_type": "subslide"
    }
   },
   "source": [
    "## 為函數的主體畫下終止符"
   ]
  },
  {
   "cell_type": "code",
   "execution_count": 8,
   "id": "attempted-venice",
   "metadata": {},
   "outputs": [
    {
     "name": "stdout",
     "output_type": "stream",
     "text": [
      "5\n",
      "3\n",
      "125\n"
     ]
    }
   ],
   "source": [
    "def power(x, n):\n",
    "    \"\"\"\n",
    "    Equivalent to x raised to the power of n.\n",
    "    \"\"\"\n",
    "    print(x)\n",
    "    print(n)\n",
    "    out = x**n\n",
    "    return out\n",
    "\n",
    "print(power(5, 3))"
   ]
  },
  {
   "cell_type": "markdown",
   "id": "further-spotlight",
   "metadata": {
    "slideshow": {
     "slide_type": "subslide"
    }
   },
   "source": [
    "## 即便寫在縮排的函數主體中，在 `return` 後所寫的程式並沒有作用"
   ]
  },
  {
   "cell_type": "code",
   "execution_count": 9,
   "id": "wooden-morning",
   "metadata": {},
   "outputs": [
    {
     "name": "stdout",
     "output_type": "stream",
     "text": [
      "125\n"
     ]
    }
   ],
   "source": [
    "def power(x, n):\n",
    "    \"\"\"\n",
    "    Equivalent to x raised to the power of n.\n",
    "    \"\"\"\n",
    "    out = x**n\n",
    "    return out\n",
    "    print(x)\n",
    "    print(n)\n",
    "\n",
    "print(power(5, 3))"
   ]
  },
  {
   "cell_type": "markdown",
   "id": "floating-letter",
   "metadata": {
    "slideshow": {
     "slide_type": "subslide"
    }
   },
   "source": [
    "## 變數的作用域（scope）\n",
    "\n",
    "> 在電腦程式設計中，作用域是名字與實體的繫結保持有效的那部分電腦程式。\n",
    "\n",
    "來源: https://en.wikipedia.org/wiki/Scope_(computer_science)"
   ]
  },
  {
   "cell_type": "markdown",
   "id": "successful-carrier",
   "metadata": {
    "slideshow": {
     "slide_type": "subslide"
    }
   },
   "source": [
    "## 簡而言之，存在有自行定義函數的狀態下，變數具有兩種類型\n",
    "\n",
    "1. 區域（local）\n",
    "2. 全域（global）"
   ]
  },
  {
   "cell_type": "markdown",
   "id": "beautiful-southeast",
   "metadata": {
    "slideshow": {
     "slide_type": "subslide"
    }
   },
   "source": [
    "## 在函數的縮排中被宣告的是區域變數，僅有在縮排中才有效"
   ]
  },
  {
   "cell_type": "code",
   "execution_count": 10,
   "id": "opened-illness",
   "metadata": {
    "slideshow": {
     "slide_type": "-"
    }
   },
   "outputs": [
    {
     "name": "stdout",
     "output_type": "stream",
     "text": [
      "5\n",
      "3\n",
      "125\n",
      "125\n"
     ]
    }
   ],
   "source": [
    "def power(x, n):\n",
    "    out = x**n\n",
    "    print(x)\n",
    "    print(n)\n",
    "    print(out)\n",
    "    return out\n",
    "\n",
    "print(power(5, 3))"
   ]
  },
  {
   "cell_type": "markdown",
   "id": "distant-participation",
   "metadata": {
    "slideshow": {
     "slide_type": "subslide"
    }
   },
   "source": [
    "## 不是在函數縮排中被宣告的是全域變數，在任何地方都有效"
   ]
  },
  {
   "cell_type": "code",
   "execution_count": 11,
   "id": "quality-welding",
   "metadata": {},
   "outputs": [
    {
     "name": "stdout",
     "output_type": "stream",
     "text": [
      "4\n",
      "2\n",
      "16\n",
      "16\n"
     ]
    }
   ],
   "source": [
    "x = 4\n",
    "n = 2\n",
    "out = x**n\n",
    "def power():\n",
    "    return out\n",
    "\n",
    "print(x)\n",
    "print(n)\n",
    "print(out)\n",
    "print(power())"
   ]
  },
  {
   "cell_type": "markdown",
   "id": "substantial-federal",
   "metadata": {
    "slideshow": {
     "slide_type": "subslide"
    }
   },
   "source": [
    "## 考量輸入與輸出的對應關係\n",
    "\n",
    "- 多個輸出\n",
    "- 多個輸入"
   ]
  },
  {
   "cell_type": "markdown",
   "id": "beneficial-county",
   "metadata": {
    "slideshow": {
     "slide_type": "subslide"
    }
   },
   "source": [
    "## 「多個輸出」對應關係以資料結構處理\n",
    "\n",
    "- 預設以 `tuple` 資料結構應對多個輸出。\n",
    "- 可以自行調整偏好的資料結構。"
   ]
  },
  {
   "cell_type": "code",
   "execution_count": 12,
   "id": "united-basis",
   "metadata": {
    "slideshow": {
     "slide_type": "subslide"
    }
   },
   "outputs": [
    {
     "name": "stdout",
     "output_type": "stream",
     "text": [
      "('P', 'y', 't')\n",
      "<class 'tuple'>\n"
     ]
    }
   ],
   "source": [
    "def first_three_characters(x):\n",
    "    if len(x) < 3:\n",
    "        return \"Cannot extract the first three characters from input string.\"\n",
    "    first_char, second_char, third_char = x[0], x[1], x[2]\n",
    "    return first_char, second_char, third_char\n",
    "\n",
    "print(first_three_characters(\"Python\"))\n",
    "print(type(first_three_characters(\"Python\")))"
   ]
  },
  {
   "cell_type": "code",
   "execution_count": 13,
   "id": "signed-renaissance",
   "metadata": {
    "slideshow": {
     "slide_type": "subslide"
    }
   },
   "outputs": [
    {
     "name": "stdout",
     "output_type": "stream",
     "text": [
      "['P', 'y', 't']\n",
      "<class 'list'>\n"
     ]
    }
   ],
   "source": [
    "def first_three_characters(x):\n",
    "    if len(x) < 3:\n",
    "        return \"Cannot extract the first three characters from input string.\"\n",
    "    first_char, second_char, third_char = x[0], x[1], x[2]\n",
    "    out = [first_char, second_char, third_char]\n",
    "    return out\n",
    "\n",
    "print(first_three_characters(\"Python\"))\n",
    "print(type(first_three_characters(\"Python\")))"
   ]
  },
  {
   "cell_type": "code",
   "execution_count": 14,
   "id": "arbitrary-segment",
   "metadata": {
    "slideshow": {
     "slide_type": "subslide"
    }
   },
   "outputs": [
    {
     "name": "stdout",
     "output_type": "stream",
     "text": [
      "{'1st': 'P', '2nd': 'y', '3rd': 't'}\n",
      "<class 'dict'>\n"
     ]
    }
   ],
   "source": [
    "def first_three_characters(x):\n",
    "    if len(x) < 3:\n",
    "        return \"Cannot extract the first three characters from input string.\"\n",
    "    first_char, second_char, third_char = x[0], x[1], x[2]\n",
    "    out = {\"1st\": first_char,\n",
    "           \"2nd\": second_char,\n",
    "           \"3rd\": third_char}\n",
    "    return out\n",
    "\n",
    "print(first_three_characters(\"Python\"))\n",
    "print(type(first_three_characters(\"Python\")))"
   ]
  },
  {
   "cell_type": "markdown",
   "id": "genetic-advocate",
   "metadata": {
    "slideshow": {
     "slide_type": "subslide"
    }
   },
   "source": [
    "## 「多個輸入」對應關係以資料結構或彈性參數處理\n",
    "\n",
    "- 使用資料結構作為一個輸入名稱。\n",
    "- 使用彈性參數：\n",
    "    - `*args`\n",
    "    - `**kwargs`"
   ]
  },
  {
   "cell_type": "code",
   "execution_count": 15,
   "id": "consecutive-freight",
   "metadata": {
    "slideshow": {
     "slide_type": "subslide"
    }
   },
   "outputs": [
    {
     "name": "stdout",
     "output_type": "stream",
     "text": [
      "100\n",
      "289\n"
     ]
    }
   ],
   "source": [
    "def sum_and_square(x):\n",
    "    summation = sum(x)\n",
    "    out = summation**2\n",
    "    return out\n",
    "\n",
    "print(sum_and_square([2, 3, 5]))\n",
    "print(sum_and_square((2, 3, 5, 7)))"
   ]
  },
  {
   "cell_type": "markdown",
   "id": "decent-nicaragua",
   "metadata": {
    "slideshow": {
     "slide_type": "subslide"
    }
   },
   "source": [
    "## 彈性參數 `args` 可以在函數主體中以 `tuple` 形式運用"
   ]
  },
  {
   "cell_type": "code",
   "execution_count": 16,
   "id": "renewable-reconstruction",
   "metadata": {
    "slideshow": {
     "slide_type": "-"
    }
   },
   "outputs": [
    {
     "name": "stdout",
     "output_type": "stream",
     "text": [
      "<class 'tuple'>\n",
      "100\n",
      "<class 'tuple'>\n",
      "289\n"
     ]
    }
   ],
   "source": [
    "def sum_and_square(*args):\n",
    "    print(type(args)) # tuple\n",
    "    summation = sum(args)\n",
    "    out = summation**2\n",
    "    return out\n",
    "\n",
    "print(sum_and_square(2, 3, 5))\n",
    "print(sum_and_square(2, 3, 5, 7))"
   ]
  },
  {
   "cell_type": "markdown",
   "id": "missing-scheme",
   "metadata": {
    "slideshow": {
     "slide_type": "subslide"
    }
   },
   "source": [
    "## 彈性參數 `kwargs` 可以在函數主體中以 `dict` 形式運用"
   ]
  },
  {
   "cell_type": "code",
   "execution_count": 17,
   "id": "opposite-cosmetic",
   "metadata": {},
   "outputs": [
    {
     "name": "stdout",
     "output_type": "stream",
     "text": [
      "<class 'dict'>\n",
      "Country: Japan   Capital: Tokyo\n",
      "Country: USA     Capital: Washington D.C.\n",
      "Country: Taiwan  Capital: Taipei\n"
     ]
    }
   ],
   "source": [
    "def print_country_capital(**kwargs):\n",
    "    print(type(kwargs)) # dict\n",
    "    for key, value in kwargs.items():\n",
    "        print(\"Country: {:<7} Capital: {}\".format(key, value))\n",
    "\n",
    "print_country_capital(Japan=\"Tokyo\", USA=\"Washington D.C.\", Taiwan=\"Taipei\")"
   ]
  },
  {
   "cell_type": "markdown",
   "id": "welcome-penny",
   "metadata": {
    "slideshow": {
     "slide_type": "subslide"
    }
   },
   "source": [
    "## 生成式\n",
    "\n",
    "> 生成式（Comprehensions）指的是依賴序列來建立序列的語法，Python 2 推出 List comprehension，Python 3 推出 Dictionary comprehension 以及 Set comprehension。\n",
    "\n",
    "來源：<https://python-3-patterns-idioms-test.readthedocs.io/en/latest/>"
   ]
  },
  {
   "cell_type": "markdown",
   "id": "passing-contract",
   "metadata": {
    "slideshow": {
     "slide_type": "subslide"
    }
   },
   "source": [
    "## 建立 `list` 的傳統方式"
   ]
  },
  {
   "cell_type": "code",
   "execution_count": 18,
   "id": "solved-dispute",
   "metadata": {},
   "outputs": [
    {
     "name": "stdout",
     "output_type": "stream",
     "text": [
      "[4, 9, 25, 49, 121]\n"
     ]
    }
   ],
   "source": [
    "primes = [2, 3, 5, 7, 11]\n",
    "squared_primes = []\n",
    "for p in primes:\n",
    "    squared_primes.append(p**2)\n",
    "print(squared_primes)"
   ]
  },
  {
   "cell_type": "markdown",
   "id": "civic-unemployment",
   "metadata": {
    "slideshow": {
     "slide_type": "subslide"
    }
   },
   "source": [
    "## 以 `List comprehension` 建立 `list`"
   ]
  },
  {
   "cell_type": "code",
   "execution_count": 19,
   "id": "acknowledged-julian",
   "metadata": {},
   "outputs": [
    {
     "name": "stdout",
     "output_type": "stream",
     "text": [
      "[4, 9, 25, 49, 121]\n"
     ]
    }
   ],
   "source": [
    "primes = [2, 3, 5, 7, 11]\n",
    "squared_primes = [p**2 for p in primes]\n",
    "print(squared_primes)"
   ]
  },
  {
   "cell_type": "markdown",
   "id": "canadian-employee",
   "metadata": {
    "slideshow": {
     "slide_type": "subslide"
    }
   },
   "source": [
    "## 在 `List comprehension` 中加入 `if` 條件判斷"
   ]
  },
  {
   "cell_type": "code",
   "execution_count": 20,
   "id": "positive-ottawa",
   "metadata": {},
   "outputs": [
    {
     "name": "stdout",
     "output_type": "stream",
     "text": [
      "[9, 25, 49, 121]\n"
     ]
    }
   ],
   "source": [
    "primes = [2, 3, 5, 7, 11]\n",
    "squared_odd_primes = [p**2 for p in primes if p % 2 == 1]\n",
    "print(squared_odd_primes)"
   ]
  },
  {
   "cell_type": "markdown",
   "id": "liquid-mention",
   "metadata": {
    "slideshow": {
     "slide_type": "subslide"
    }
   },
   "source": [
    "## 在 `List comprehension` 中加入 `if-else` 條件判斷"
   ]
  },
  {
   "cell_type": "code",
   "execution_count": 21,
   "id": "urban-channels",
   "metadata": {},
   "outputs": [
    {
     "name": "stdout",
     "output_type": "stream",
     "text": [
      "[True, False, False, False, False]\n"
     ]
    }
   ],
   "source": [
    "primes = [2, 3, 5, 7, 11]\n",
    "is_even_primes = [True if p % 2 == 0 else False for p in primes]\n",
    "print(is_even_primes)"
   ]
  },
  {
   "cell_type": "markdown",
   "id": "pleasant-amber",
   "metadata": {
    "slideshow": {
     "slide_type": "subslide"
    }
   },
   "source": [
    "## 以 `Set comprehension` 建立 `set`"
   ]
  },
  {
   "cell_type": "code",
   "execution_count": 22,
   "id": "american-explorer",
   "metadata": {},
   "outputs": [
    {
     "name": "stdout",
     "output_type": "stream",
     "text": [
      "{4, 9, 49, 121, 25}\n",
      "<class 'set'>\n"
     ]
    }
   ],
   "source": [
    "primes = [2, 3, 5, 7, 11]\n",
    "squared_primes = {p**2 for p in primes}\n",
    "print(squared_primes)\n",
    "print(type(squared_primes))"
   ]
  },
  {
   "cell_type": "markdown",
   "id": "strange-circuit",
   "metadata": {
    "slideshow": {
     "slide_type": "subslide"
    }
   },
   "source": [
    "## 以 `Dictionary comprehension` 建立 `dict`"
   ]
  },
  {
   "cell_type": "code",
   "execution_count": 23,
   "id": "imposed-defeat",
   "metadata": {},
   "outputs": [
    {
     "name": "stdout",
     "output_type": "stream",
     "text": [
      "{2: 4, 3: 9, 5: 25, 7: 49, 11: 121}\n",
      "<class 'dict'>\n"
     ]
    }
   ],
   "source": [
    "primes = [2, 3, 5, 7, 11]\n",
    "squared_primes = {p: p**2 for p in primes}\n",
    "print(squared_primes)\n",
    "print(type(squared_primes))"
   ]
  },
  {
   "cell_type": "markdown",
   "id": "whole-minister",
   "metadata": {
    "slideshow": {
     "slide_type": "subslide"
    }
   },
   "source": [
    "## 以 `List comprehension` 建立 `list` 時不小心使用了小括號而非中括號"
   ]
  },
  {
   "cell_type": "code",
   "execution_count": 24,
   "id": "guilty-study",
   "metadata": {},
   "outputs": [
    {
     "name": "stdout",
     "output_type": "stream",
     "text": [
      "<generator object <genexpr> at 0x7f8549c87f90>\n",
      "<class 'generator'>\n"
     ]
    }
   ],
   "source": [
    "primes = [2, 3, 5, 7, 11]\n",
    "squared_primes = (p**2 for p in primes)\n",
    "print(squared_primes)\n",
    "print(type(squared_primes))"
   ]
  },
  {
   "cell_type": "markdown",
   "id": "dirty-compact",
   "metadata": {
    "slideshow": {
     "slide_type": "subslide"
    }
   },
   "source": [
    "## 什麼是產生器？\n",
    "\n",
    "產生器（Generators）與生成式（Comprehensions）相似，不同的地方在於生成式所產出的資料結構中儲存的資料值，產生器則是儲存資料值的產生規則，必須經過實例化才會將資料值儲存到資料結構中。若是以料理來比喻，生成式的輸出就像是最後端上桌的菜餚，而產生器的輸出則像是菜餚的食譜。"
   ]
  },
  {
   "cell_type": "markdown",
   "id": "instrumental-excellence",
   "metadata": {
    "slideshow": {
     "slide_type": "subslide"
    }
   },
   "source": [
    "## 產生器的特性\n",
    "\n",
    "- 具備儲存與計算的效率性。\n",
    "- 僅能實例化一次。"
   ]
  },
  {
   "cell_type": "code",
   "execution_count": 25,
   "id": "perceived-france",
   "metadata": {
    "slideshow": {
     "slide_type": "-"
    }
   },
   "outputs": [
    {
     "name": "stdout",
     "output_type": "stream",
     "text": [
      "[4, 9, 25, 49, 121]\n",
      "[]\n"
     ]
    }
   ],
   "source": [
    "print(list(squared_primes))\n",
    "print(list(squared_primes))"
   ]
  },
  {
   "cell_type": "markdown",
   "id": "disciplinary-darkness",
   "metadata": {
    "slideshow": {
     "slide_type": "subslide"
    }
   },
   "source": [
    "## 產生器的特性\n",
    "\n",
    "- 具備儲存與計算的效率性。\n",
    "- 僅能實例化一次。"
   ]
  },
  {
   "cell_type": "markdown",
   "id": "fewer-break",
   "metadata": {
    "slideshow": {
     "slide_type": "subslide"
    }
   },
   "source": [
    "## 我們為什麼需要認識產生器？\n",
    "\n",
    "- 要混淆使用者的大腦（X）\n",
    "- 很多內建的迭代器函數的輸出有產生器的特性（O）"
   ]
  },
  {
   "cell_type": "markdown",
   "id": "everyday-porter",
   "metadata": {
    "slideshow": {
     "slide_type": "subslide"
    }
   },
   "source": [
    "## 內建的迭代器函數\n",
    "\n",
    "- `enumerate`\n",
    "- `zip`\n",
    "- `map`\n",
    "- `filter`"
   ]
  },
  {
   "cell_type": "markdown",
   "id": "minor-tokyo",
   "metadata": {
    "slideshow": {
     "slide_type": "subslide"
    }
   },
   "source": [
    "## `enumerate` 函數\n",
    "\n",
    "讓 `for` 迴圈可以同時走訪資料結構的「索引」與「資料值」。"
   ]
  },
  {
   "cell_type": "code",
   "execution_count": 26,
   "id": "aquatic-canada",
   "metadata": {
    "slideshow": {
     "slide_type": "subslide"
    }
   },
   "outputs": [
    {
     "name": "stdout",
     "output_type": "stream",
     "text": [
      "<enumerate object at 0x7f8549c8f880>\n",
      "[(0, 'The Avengers'), (1, 'Avengers: Age of Ultron'), (2, 'Avengers: Infinity War'), (3, 'Avengers: Endgame')]\n",
      "[]\n"
     ]
    }
   ],
   "source": [
    "avenger_movies = ['The Avengers', 'Avengers: Age of Ultron', 'Avengers: Infinity War', 'Avengers: Endgame']\n",
    "enum = enumerate(avenger_movies)\n",
    "print(enum)\n",
    "print(list(enum))\n",
    "print(list(enum))"
   ]
  },
  {
   "cell_type": "code",
   "execution_count": 27,
   "id": "variable-platinum",
   "metadata": {
    "slideshow": {
     "slide_type": "subslide"
    }
   },
   "outputs": [
    {
     "name": "stdout",
     "output_type": "stream",
     "text": [
      "0: The Avengers\n",
      "1: Avengers: Age of Ultron\n",
      "2: Avengers: Infinity War\n",
      "3: Avengers: Endgame\n"
     ]
    }
   ],
   "source": [
    "avenger_movies = ['The Avengers', 'Avengers: Age of Ultron', 'Avengers: Infinity War', 'Avengers: Endgame']\n",
    "for index, item in enumerate(avenger_movies):\n",
    "    print(\"{}: {}\".format(index, item))"
   ]
  },
  {
   "cell_type": "markdown",
   "id": "unlikely-wallace",
   "metadata": {
    "slideshow": {
     "slide_type": "subslide"
    }
   },
   "source": [
    "## `zip` 函數\n",
    "\n",
    "讓 `for` 迴圈可以同時走訪多個資料結構的「資料值」。"
   ]
  },
  {
   "cell_type": "code",
   "execution_count": 28,
   "id": "supposed-adult",
   "metadata": {
    "slideshow": {
     "slide_type": "subslide"
    }
   },
   "outputs": [
    {
     "name": "stdout",
     "output_type": "stream",
     "text": [
      "<zip object at 0x7f854947d380>\n",
      "[(2012, 'The Avengers'), (2015, 'Avengers: Age of Ultron'), (2018, 'Avengers: Infinity War'), (2019, 'Avengers: Endgame')]\n",
      "[]\n"
     ]
    }
   ],
   "source": [
    "avenger_movies = ['The Avengers', 'Avengers: Age of Ultron', 'Avengers: Infinity War', 'Avengers: Endgame']\n",
    "release_years = [2012, 2015, 2018, 2019]\n",
    "zipped = zip(release_years, avenger_movies)\n",
    "print(zipped)\n",
    "print(list(zipped))\n",
    "print(list(zipped))"
   ]
  },
  {
   "cell_type": "code",
   "execution_count": 29,
   "id": "flush-plymouth",
   "metadata": {
    "slideshow": {
     "slide_type": "subslide"
    }
   },
   "outputs": [
    {
     "name": "stdout",
     "output_type": "stream",
     "text": [
      "The Avengers was released in 2012.\n",
      "Avengers: Age of Ultron was released in 2015.\n",
      "Avengers: Infinity War was released in 2018.\n",
      "Avengers: Endgame was released in 2019.\n"
     ]
    }
   ],
   "source": [
    "avenger_movies = ['The Avengers', 'Avengers: Age of Ultron', 'Avengers: Infinity War', 'Avengers: Endgame']\n",
    "release_years = [2012, 2015, 2018, 2019]\n",
    "for year, movie in zip(release_years, avenger_movies):\n",
    "    print(\"{} was released in {}.\".format(movie, year))"
   ]
  },
  {
   "cell_type": "markdown",
   "id": "aging-balloon",
   "metadata": {
    "slideshow": {
     "slide_type": "subslide"
    }
   },
   "source": [
    "## `map` 函數\n",
    "\n",
    "逐次把資料結構的「資料值」當作參數，依據傳給使用（呼叫）的函數，像 `map` 這樣的函數也稱為函數型函數（Functional functions）或者高階函數（Higher-order functions）。"
   ]
  },
  {
   "cell_type": "code",
   "execution_count": 30,
   "id": "coated-examination",
   "metadata": {
    "slideshow": {
     "slide_type": "subslide"
    }
   },
   "outputs": [
    {
     "name": "stdout",
     "output_type": "stream",
     "text": [
      "<map object at 0x7f854947eb80>\n",
      "[2012.0, 2015.0, 2018.0, 2019.0]\n",
      "[]\n"
     ]
    }
   ],
   "source": [
    "release_years = [2012, 2015, 2018, 2019]\n",
    "mapped = map(float, release_years)\n",
    "print(mapped)\n",
    "print(list(mapped))\n",
    "print(list(mapped))"
   ]
  },
  {
   "cell_type": "markdown",
   "id": "liberal-disorder",
   "metadata": {
    "slideshow": {
     "slide_type": "subslide"
    }
   },
   "source": [
    "## `filter` 函數\n",
    "\n",
    "逐次把資料結構的「資料值」當作參數，依據傳給使用（呼叫）的函數，保留函數回傳值為 `True` 的輸出，像 `filter` 這樣的函數也稱為函數型函數（Functional functions）或者高階函數（Higher-order functions）。"
   ]
  },
  {
   "cell_type": "code",
   "execution_count": 31,
   "id": "fiscal-scroll",
   "metadata": {
    "slideshow": {
     "slide_type": "subslide"
    }
   },
   "outputs": [
    {
     "name": "stdout",
     "output_type": "stream",
     "text": [
      "<filter object at 0x7f8549c8e6a0>\n",
      "[True, True, True, True]\n",
      "[]\n"
     ]
    }
   ],
   "source": [
    "bools = [False, True, True, True, True]\n",
    "filtered = filter(None, bools)\n",
    "print(filtered)\n",
    "print(list(filtered))\n",
    "print(list(filtered))"
   ]
  },
  {
   "cell_type": "markdown",
   "id": "checked-tamil",
   "metadata": {
    "slideshow": {
     "slide_type": "subslide"
    }
   },
   "source": [
    "## Python 使用者習慣將 `map` 與 `filter` 函數搭配 Lambda 函數\n",
    "\n",
    "Lambda 函數也稱為「匿名函數」，不同於使用 `def` 語法定義函數，Lambda 可以在不指定函數名稱的情況下「同時」定義與使用，並且只有在定義的當下被使用。"
   ]
  },
  {
   "cell_type": "code",
   "execution_count": 32,
   "id": "structured-delight",
   "metadata": {
    "slideshow": {
     "slide_type": "subslide"
    }
   },
   "outputs": [
    {
     "name": "stdout",
     "output_type": "stream",
     "text": [
      "[4, 9, 25, 49, 121]\n",
      "[11]\n"
     ]
    }
   ],
   "source": [
    "def squared(x):\n",
    "    return x**2\n",
    "def larger_than_ten(x):\n",
    "    return x>=10\n",
    "\n",
    "primes = [2, 3, 5, 7, 11]\n",
    "print(list(map(squared, primes)))\n",
    "print(list(filter(larger_than_ten, primes)))"
   ]
  },
  {
   "cell_type": "code",
   "execution_count": 33,
   "id": "higher-royalty",
   "metadata": {
    "slideshow": {
     "slide_type": "subslide"
    }
   },
   "outputs": [
    {
     "name": "stdout",
     "output_type": "stream",
     "text": [
      "[4, 9, 25, 49, 121]\n",
      "[11]\n"
     ]
    }
   ],
   "source": [
    "primes = [2, 3, 5, 7, 11]\n",
    "print(list(map(lambda x: x**2, primes)))        # so we don't waste a function name for an easy operation\n",
    "print(list(filter(lambda x: x >= 10, primes)))  # so we don't waste a function name for an easy operation"
   ]
  },
  {
   "cell_type": "markdown",
   "id": "statewide-thunder",
   "metadata": {
    "slideshow": {
     "slide_type": "slide"
    }
   },
   "source": [
    "## 類別"
   ]
  },
  {
   "cell_type": "markdown",
   "id": "frank-lotus",
   "metadata": {
    "slideshow": {
     "slide_type": "subslide"
    }
   },
   "source": [
    "## 兩種不同的撰寫程式方法\n",
    "\n",
    "- 程序化程式設計（Procedural programming）。\n",
    "- 物件導向程式設計（Object-oriented programming, OOP）。"
   ]
  },
  {
   "cell_type": "markdown",
   "id": "hybrid-missouri",
   "metadata": {
    "slideshow": {
     "slide_type": "subslide"
    }
   },
   "source": [
    "## 程序化程式設計\n",
    "\n",
    "以函數為主體的撰寫程式方法稱為「程序化程式設計（Procedural programming）」，把即將要執行的程式碼組織為函數，並依序呼叫這些函數來完成任務。"
   ]
  },
  {
   "cell_type": "markdown",
   "id": "intended-yugoslavia",
   "metadata": {
    "slideshow": {
     "slide_type": "subslide"
    }
   },
   "source": [
    "## 物件導向程式設計\n",
    "\n",
    "除了程序化程式設計，另外一種在軟體開發中被採用的撰寫程式方法稱為「物件導向程式設計（Object-oriented programming, OOP）」。"
   ]
  },
  {
   "cell_type": "markdown",
   "id": "enabling-begin",
   "metadata": {
    "slideshow": {
     "slide_type": "subslide"
    }
   },
   "source": [
    "## 「類別」是物件導向程式設計的第一步\n",
    "\n",
    "- 定義類別是一種讓使用者自行設計資料類型或結構的機制。\n",
    "- `type` 函數所顯示的 `class` 就是「類別」。\n",
    "- 物件（Object）稱為類別的實例（Instance）。"
   ]
  },
  {
   "cell_type": "markdown",
   "id": "distributed-singer",
   "metadata": {
    "slideshow": {
     "slide_type": "subslide"
    }
   },
   "source": [
    "## `luke` 物件是 `str` 類別的實例"
   ]
  },
  {
   "cell_type": "code",
   "execution_count": 34,
   "id": "breeding-backup",
   "metadata": {
    "slideshow": {
     "slide_type": "-"
    }
   },
   "outputs": [
    {
     "name": "stdout",
     "output_type": "stream",
     "text": [
      "<class 'str'>\n"
     ]
    }
   ],
   "source": [
    "luke = \"Luke Skywalker\" \n",
    "print(type(luke))"
   ]
  },
  {
   "cell_type": "markdown",
   "id": "small-morning",
   "metadata": {
    "slideshow": {
     "slide_type": "subslide"
    }
   },
   "source": [
    "## `skywalkers` 物件是 `list` 類別的實例"
   ]
  },
  {
   "cell_type": "code",
   "execution_count": 35,
   "id": "overall-parish",
   "metadata": {
    "slideshow": {
     "slide_type": "-"
    }
   },
   "outputs": [
    {
     "name": "stdout",
     "output_type": "stream",
     "text": [
      "<class 'list'>\n"
     ]
    }
   ],
   "source": [
    "skywalkers = [\"Luke Skywalker\", \"Anakin Skywalker\", \"Darth Vadar\"]\n",
    "print(type(skywalkers))"
   ]
  },
  {
   "cell_type": "markdown",
   "id": "quiet-immunology",
   "metadata": {
    "slideshow": {
     "slide_type": "subslide"
    }
   },
   "source": [
    "## 類別之於物件的關係\n",
    "\n",
    "- 類別如同藍圖一般的存在。\n",
    "- 物件如同依照藍圖所打造出來的終端產品。"
   ]
  },
  {
   "cell_type": "markdown",
   "id": "expired-server",
   "metadata": {
    "slideshow": {
     "slide_type": "subslide"
    }
   },
   "source": [
    "## 為什麼我們需要定義類別？\n",
    "\n",
    "- 當內建函數或模組（套件）的函數無法滿足需求時，我們定義函數。\n",
    "- 當內建類別或模組（套件）的類別無法滿足需求時，我們定義類別。"
   ]
  },
  {
   "cell_type": "markdown",
   "id": "widespread-spirit",
   "metadata": {
    "slideshow": {
     "slide_type": "subslide"
    }
   },
   "source": [
    "## 常用的內建類別\n",
    "\n",
    "- 變數類型\n",
    "    - `int`\n",
    "    - `float`\n",
    "    - `str`\n",
    "    - `bool`\n",
    "    - `NoneType`"
   ]
  },
  {
   "cell_type": "markdown",
   "id": "intelligent-ribbon",
   "metadata": {
    "slideshow": {
     "slide_type": "subslide"
    }
   },
   "source": [
    "## 常用的內建類別（續）\n",
    "\n",
    "- 資料結構\n",
    "    - `list`\n",
    "    - `tuple`\n",
    "    - `dict`\n",
    "    - `set`"
   ]
  },
  {
   "cell_type": "markdown",
   "id": "studied-factory",
   "metadata": {
    "slideshow": {
     "slide_type": "subslide"
    }
   },
   "source": [
    "## 資料分析的模組（套件）類別\n",
    "\n",
    "- 資料結構\n",
    "    - `numpy.ndarray`\n",
    "    - `pandas.Index`\n",
    "    - `pandas.Series`\n",
    "    - `pandas.DataFrame`"
   ]
  },
  {
   "cell_type": "markdown",
   "id": "stable-preference",
   "metadata": {
    "slideshow": {
     "slide_type": "subslide"
    }
   },
   "source": [
    "## 設計類別時可以定義函數與資料\n",
    "\n",
    "- 與類別綁定的函數，在實例化後稱為物件的方法（Methods）。\n",
    "- 與類別綁定的資料，在實例化後稱為物件的屬性（Attributes）。"
   ]
  },
  {
   "cell_type": "markdown",
   "id": "documented-times",
   "metadata": {
    "slideshow": {
     "slide_type": "subslide"
    }
   },
   "source": [
    "## 使用內建函數 `dir` 檢視物件的方法與屬性"
   ]
  },
  {
   "cell_type": "code",
   "execution_count": 36,
   "id": "interpreted-polyester",
   "metadata": {},
   "outputs": [
    {
     "name": "stdout",
     "output_type": "stream",
     "text": [
      "['__add__', '__class__', '__contains__', '__delattr__', '__dir__', '__doc__', '__eq__', '__format__', '__ge__', '__getattribute__', '__getitem__', '__getnewargs__', '__gt__', '__hash__', '__init__', '__init_subclass__', '__iter__', '__le__', '__len__', '__lt__', '__mod__', '__mul__', '__ne__', '__new__', '__reduce__', '__reduce_ex__', '__repr__', '__rmod__', '__rmul__', '__setattr__', '__sizeof__', '__str__', '__subclasshook__', 'capitalize', 'casefold', 'center', 'count', 'encode', 'endswith', 'expandtabs', 'find', 'format', 'format_map', 'index', 'isalnum', 'isalpha', 'isascii', 'isdecimal', 'isdigit', 'isidentifier', 'islower', 'isnumeric', 'isprintable', 'isspace', 'istitle', 'isupper', 'join', 'ljust', 'lower', 'lstrip', 'maketrans', 'partition', 'replace', 'rfind', 'rindex', 'rjust', 'rpartition', 'rsplit', 'rstrip', 'split', 'splitlines', 'startswith', 'strip', 'swapcase', 'title', 'translate', 'upper', 'zfill']\n"
     ]
    }
   ],
   "source": [
    "# luke 物件是 str 類別的實例\n",
    "luke = \"Luke Skywalker\" \n",
    "print(dir(luke))"
   ]
  },
  {
   "cell_type": "code",
   "execution_count": 37,
   "id": "sweet-means",
   "metadata": {
    "slideshow": {
     "slide_type": "subslide"
    }
   },
   "outputs": [
    {
     "name": "stdout",
     "output_type": "stream",
     "text": [
      "['__add__', '__class__', '__contains__', '__delattr__', '__delitem__', '__dir__', '__doc__', '__eq__', '__format__', '__ge__', '__getattribute__', '__getitem__', '__gt__', '__hash__', '__iadd__', '__imul__', '__init__', '__init_subclass__', '__iter__', '__le__', '__len__', '__lt__', '__mul__', '__ne__', '__new__', '__reduce__', '__reduce_ex__', '__repr__', '__reversed__', '__rmul__', '__setattr__', '__setitem__', '__sizeof__', '__str__', '__subclasshook__', 'append', 'clear', 'copy', 'count', 'extend', 'index', 'insert', 'pop', 'remove', 'reverse', 'sort']\n"
     ]
    }
   ],
   "source": [
    "# skywalkers 物件是 list 類別的實例\n",
    "skywalkers = [\"Luke Skywalker\", \"Anakin Skywalker\", \"Darth Vadar\"]\n",
    "print(dir(skywalkers))"
   ]
  },
  {
   "cell_type": "markdown",
   "id": "norwegian-supervision",
   "metadata": {
    "slideshow": {
     "slide_type": "subslide"
    }
   },
   "source": [
    "## 使用 `class` 保留字定義類別\n",
    "\n",
    "```python\n",
    "class ClassName:\n",
    "    \"\"\"\n",
    "    docstring: print documentation when __doc__ attribute is accessed\n",
    "    \"\"\"\n",
    "    pass\n",
    "```"
   ]
  },
  {
   "cell_type": "code",
   "execution_count": 38,
   "id": "lucky-emperor",
   "metadata": {
    "slideshow": {
     "slide_type": "subslide"
    }
   },
   "outputs": [
    {
     "name": "stdout",
     "output_type": "stream",
     "text": [
      "<class '__main__.SimpleCalculator'>\n",
      "\n",
      "    This class creates a simple calculator that is unable to do anything.\n",
      "    \n"
     ]
    }
   ],
   "source": [
    "class SimpleCalculator:\n",
    "    \"\"\"\n",
    "    This class creates a simple calculator that is unable to do anything.\n",
    "    \"\"\"\n",
    "    pass\n",
    "\n",
    "sc = SimpleCalculator()\n",
    "print(type(sc))\n",
    "print(sc.__doc__)"
   ]
  },
  {
   "cell_type": "markdown",
   "id": "disabled-assurance",
   "metadata": {
    "slideshow": {
     "slide_type": "subslide"
    }
   },
   "source": [
    "## 在類別程式區塊中使用 `def` 保留字將函數與類別綁定\n",
    "\n",
    "與類別綁定的函數，在實例化後稱為物件的方法。\n",
    "\n",
    "```python\n",
    "class ClassName:\n",
    "    \"\"\"\n",
    "    docstring: print documentation when __doc__ attribute is accessed\n",
    "    \"\"\"\n",
    "    def method_name(self):\n",
    "        # sequence of statements\n",
    "```"
   ]
  },
  {
   "cell_type": "markdown",
   "id": "missing-lecture",
   "metadata": {
    "slideshow": {
     "slide_type": "subslide"
    }
   },
   "source": [
    "## 如何理解 `self` 的抽象概念？\n",
    "\n",
    "- 物件是類別的實例。\n",
    "- 類別所綁定的函數在實例化後是物件的方法，呼叫時要指定物件名稱。\n",
    "- 實例化的物件名稱是由使用者所決定的。\n",
    "- 想在定義類別的階段描述方法，必須要先給物件一個代稱：`self`。"
   ]
  },
  {
   "cell_type": "code",
   "execution_count": 39,
   "id": "suspended-pound",
   "metadata": {
    "slideshow": {
     "slide_type": "subslide"
    }
   },
   "outputs": [
    {
     "name": "stdout",
     "output_type": "stream",
     "text": [
      "11\n"
     ]
    }
   ],
   "source": [
    "class SimpleCalculator:\n",
    "    \"\"\"\n",
    "    This class creates a simple calculator that is able to add 2 numbers.\n",
    "    \"\"\"\n",
    "    def add(self, a, b):\n",
    "        out = a + b\n",
    "        return out\n",
    "\n",
    "sc = SimpleCalculator() # self proxies object sc\n",
    "print(sc.add(5, 6))"
   ]
  },
  {
   "cell_type": "markdown",
   "id": "annoying-furniture",
   "metadata": {
    "slideshow": {
     "slide_type": "subslide"
    }
   },
   "source": [
    "## `sc` 物件是 `SimpleCalculator` 類別的實例\n",
    "\n",
    "- `sc` 物件有一個方法 `add(a, b)` 可以回傳兩數相加的結果。\n",
    "- 使用 `sc.add(a, b)` 語法來呼叫方法。"
   ]
  },
  {
   "cell_type": "markdown",
   "id": "amazing-yield",
   "metadata": {
    "slideshow": {
     "slide_type": "subslide"
    }
   },
   "source": [
    "## 在類別程式區塊中使用 `__init__` 函數將資料與類別綁定\n",
    "\n",
    "- 與類別綁定的資料，在實例化後稱為物件的屬性。\n",
    "- 開頭與結尾具有雙底線 `__` 的命名是 Python 的特殊命名，具備特殊用途。\n",
    "- `__init__` 函數顧名思義就是在實例化（Instantialize）當下會被呼叫的函數。"
   ]
  },
  {
   "cell_type": "markdown",
   "id": "built-tourism",
   "metadata": {
    "slideshow": {
     "slide_type": "subslide"
    }
   },
   "source": [
    "```python\n",
    "class ClassName:\n",
    "    \"\"\"\n",
    "    docstring: print documentation when __doc__ attribute is accessed\n",
    "    \"\"\"\n",
    "    def __init__(self, attributes):\n",
    "        # sequence of statements\n",
    "```"
   ]
  },
  {
   "cell_type": "code",
   "execution_count": 40,
   "id": "round-folks",
   "metadata": {
    "slideshow": {
     "slide_type": "subslide"
    }
   },
   "outputs": [
    {
     "name": "stdout",
     "output_type": "stream",
     "text": [
      "5\n",
      "6\n"
     ]
    }
   ],
   "source": [
    "class SimpleCalculator:\n",
    "    \"\"\"\n",
    "    This class creates a simple calculator that has 2 attributes.\n",
    "    \"\"\"\n",
    "    def __init__(self, a, b):\n",
    "        self.a = a\n",
    "        self.b = b\n",
    "\n",
    "sc = SimpleCalculator(5, 6) # self proxies object sc\n",
    "print(sc.a)\n",
    "print(sc.b)"
   ]
  },
  {
   "cell_type": "markdown",
   "id": "ideal-characterization",
   "metadata": {
    "slideshow": {
     "slide_type": "subslide"
    }
   },
   "source": [
    "## `sc` 物件是 `SimpleCalculator` 類別的實例\n",
    "\n",
    "- `SimpleCalculator` 類別實例化成為 `sc` 物件的時候呼叫 `__init__` 函數。\n",
    "- `__init__` 函數賦予了 `sc` 物件兩個屬性：\n",
    "    - 使用 `sc.a` 語法來取用屬性 `a`。\n",
    "    - 使用 `sc.b` 語法來取用屬性 `b`。"
   ]
  },
  {
   "cell_type": "code",
   "execution_count": 41,
   "id": "material-mirror",
   "metadata": {
    "slideshow": {
     "slide_type": "subslide"
    }
   },
   "outputs": [
    {
     "name": "stdout",
     "output_type": "stream",
     "text": [
      "11\n"
     ]
    }
   ],
   "source": [
    "# 若想在類別程式區塊中使用屬性，可以 self.attribute 語法取用\n",
    "class SimpleCalculator:\n",
    "    \"\"\"\n",
    "    This class creates a simple calculator that has 2 attributes and 1 method.\n",
    "    \"\"\"\n",
    "    def __init__(self, a, b):\n",
    "        self.a = a\n",
    "        self.b = b\n",
    "    def add(self):\n",
    "        out = self.a + self.b # 以 self.a, self.b 語法取用\n",
    "        return out\n",
    "\n",
    "sc = SimpleCalculator(5, 6) # self proxies object sc\n",
    "print(sc.add())"
   ]
  },
  {
   "cell_type": "code",
   "execution_count": 42,
   "id": "motivated-pressure",
   "metadata": {
    "slideshow": {
     "slide_type": "subslide"
    }
   },
   "outputs": [
    {
     "name": "stdout",
     "output_type": "stream",
     "text": [
      "121\n"
     ]
    }
   ],
   "source": [
    "# 若想在類別程式區塊中使用方法，可以 self.method 語法呼叫\n",
    "class SimpleCalculator:\n",
    "    \"\"\"\n",
    "    This class creates a simple calculator that has 2 attributes and 2 methods.\n",
    "    \"\"\"\n",
    "    def __init__(self, a, b):\n",
    "        self.a = a\n",
    "        self.b = b\n",
    "    def add(self):\n",
    "        out = self.a + self.b\n",
    "        return out\n",
    "    def add_and_square(self):\n",
    "        add_result = self.add() # 以 self.add() 語法呼叫\n",
    "        out = add_result**2\n",
    "        return out\n",
    "\n",
    "sc = SimpleCalculator(5, 6) # self proxies object sc\n",
    "print(sc.add_and_square())"
   ]
  },
  {
   "cell_type": "markdown",
   "id": "known-inspection",
   "metadata": {
    "slideshow": {
     "slide_type": "subslide"
    }
   },
   "source": [
    "## 在類別程式區塊中使用 `__repr__` 函數設計實例化之後物件在 `print` 函數的顯示"
   ]
  },
  {
   "cell_type": "code",
   "execution_count": 43,
   "id": "refined-journalist",
   "metadata": {},
   "outputs": [
    {
     "name": "stdout",
     "output_type": "stream",
     "text": [
      "<__main__.SimpleCalculator object at 0x7f8549c8e970>\n"
     ]
    }
   ],
   "source": [
    "# 沒有 __repr__ 函數\n",
    "class SimpleCalculator:\n",
    "    \"\"\"\n",
    "    This class creates a simple calculator that has 2 attributes.\n",
    "    \"\"\"\n",
    "    def __init__(self, a, b):\n",
    "        self.a = a\n",
    "        self.b = b\n",
    "sc = SimpleCalculator(5, 6) # self proxies object sc\n",
    "print(sc)"
   ]
  },
  {
   "cell_type": "code",
   "execution_count": 44,
   "id": "robust-hebrew",
   "metadata": {
    "slideshow": {
     "slide_type": "subslide"
    }
   },
   "outputs": [
    {
     "name": "stdout",
     "output_type": "stream",
     "text": [
      "a: 5, b: 6\n"
     ]
    }
   ],
   "source": [
    "# 有 __repr__ 函數\n",
    "class SimpleCalculator:\n",
    "    \"\"\"\n",
    "    This class creates a simple calculator that has 2 attributes and 1 method.\n",
    "    \"\"\"\n",
    "    def __init__(self, a, b):\n",
    "        self.a = a\n",
    "        self.b = b\n",
    "    def __repr__(self):\n",
    "        out = \"a: {}, b: {}\".format(self.a, self.b)\n",
    "        return out\n",
    "    def add(self):\n",
    "        out = self.a + self.b\n",
    "        return out\n",
    "sc = SimpleCalculator(5, 6) # self proxies object sc\n",
    "print(sc)"
   ]
  },
  {
   "cell_type": "markdown",
   "id": "willing-alert",
   "metadata": {
    "slideshow": {
     "slide_type": "subslide"
    }
   },
   "source": [
    "## 使用 `ChildClass(ParentClass)` 語法繼承先前定義好的類別屬性、方法"
   ]
  },
  {
   "cell_type": "code",
   "execution_count": 45,
   "id": "suspected-register",
   "metadata": {},
   "outputs": [
    {
     "name": "stdout",
     "output_type": "stream",
     "text": [
      "a: 5, b: 6\n",
      "True\n",
      "True\n",
      "True\n"
     ]
    }
   ],
   "source": [
    "class IntermediateCalculator(SimpleCalculator):\n",
    "    pass\n",
    "ic = IntermediateCalculator(5, 6)\n",
    "print(ic)\n",
    "print(\"a\" in dir(ic))\n",
    "print(\"b\" in dir(ic))\n",
    "print(\"add\" in dir(ic))"
   ]
  },
  {
   "cell_type": "markdown",
   "id": "jewish-victim",
   "metadata": {
    "slideshow": {
     "slide_type": "subslide"
    }
   },
   "source": [
    "## 繼承之後可以新增類別屬性"
   ]
  },
  {
   "cell_type": "code",
   "execution_count": 46,
   "id": "corresponding-belle",
   "metadata": {},
   "outputs": [
    {
     "name": "stdout",
     "output_type": "stream",
     "text": [
      "True\n"
     ]
    }
   ],
   "source": [
    "class IntermediateCalculator(SimpleCalculator):\n",
    "    def __init__(self, a, b, c):\n",
    "        SimpleCalculator.__init__(self, a, b)\n",
    "        self.c = c\n",
    "ic = IntermediateCalculator(5, 6, 7)\n",
    "print(\"c\" in dir(ic))"
   ]
  },
  {
   "cell_type": "markdown",
   "id": "reflected-scientist",
   "metadata": {
    "slideshow": {
     "slide_type": "subslide"
    }
   },
   "source": [
    "## 繼承之後可以新增、改寫類別方法"
   ]
  },
  {
   "cell_type": "code",
   "execution_count": 47,
   "id": "brazilian-growth",
   "metadata": {},
   "outputs": [
    {
     "name": "stdout",
     "output_type": "stream",
     "text": [
      "a: 5, b: 6, c: 7\n",
      "True\n"
     ]
    }
   ],
   "source": [
    "class IntermediateCalculator(SimpleCalculator):\n",
    "    def __init__(self, a, b, c):\n",
    "        SimpleCalculator.__init__(self, a, b)\n",
    "        self.c = c\n",
    "    def __repr__(self):\n",
    "        out = \"a: {}, b: {}, c: {}\".format(self.a, self.b, self.c)\n",
    "        return out\n",
    "    def multiply(self):\n",
    "        out = self.a * self.b * self.c\n",
    "        return out\n",
    "ic = IntermediateCalculator(5, 6, 7)\n",
    "print(ic)\n",
    "print(\"multiply\" in dir(ic))"
   ]
  },
  {
   "cell_type": "markdown",
   "id": "hybrid-tourism",
   "metadata": {
    "slideshow": {
     "slide_type": "subslide"
    }
   },
   "source": [
    "## 資料分析師必須理解類別的定義\n",
    "\n",
    "- 類別是一種將資料與函數與實例綁定的機制。\n",
    "- 類別實例化之後被稱為物件，定義的資料與函數在此時就被改稱為\n",
    "    - 資料：物件的「屬性」。\n",
    "    - 函數：物件的「方法」。"
   ]
  },
  {
   "cell_type": "markdown",
   "id": "crucial-passport",
   "metadata": {
    "slideshow": {
     "slide_type": "subslide"
    }
   },
   "source": [
    "## 類別同時扮演下列主題的「敲門磚」\n",
    "\n",
    "- 物件導向程式設計。\n",
    "- 資料結構與演算法。\n",
    "- 設計模式。"
   ]
  },
  {
   "cell_type": "markdown",
   "id": "clean-seminar",
   "metadata": {
    "slideshow": {
     "slide_type": "slide"
    }
   },
   "source": [
    "## 模組（套件）"
   ]
  },
  {
   "cell_type": "markdown",
   "id": "injured-cause",
   "metadata": {
    "slideshow": {
     "slide_type": "subslide"
    }
   },
   "source": [
    "## 什麼是模組（套件）？\n",
    "\n",
    "模組（Module）或者套件（Library）指的是以檔案或資料夾形式，來組織 Python 的函數以及類別。"
   ]
  },
  {
   "cell_type": "markdown",
   "id": "prerequisite-classroom",
   "metadata": {
    "slideshow": {
     "slide_type": "subslide"
    }
   },
   "source": [
    "## 檔案與資料夾形式\n",
    "\n",
    "- 檔案的名稱為模組（套件）名，副檔名為 `.py`，例如 `my_module.py` 就是命名為 `my_module` 的模組（套件）。\n",
    "- 檔案可以進一步收納到資料夾之中，資料夾的名稱為模組（套件）名，例如 `my_library` 就是命名為 `my_library` 的模組（套件）。"
   ]
  },
  {
   "cell_type": "markdown",
   "id": "differential-least",
   "metadata": {
    "slideshow": {
     "slide_type": "subslide"
    }
   },
   "source": [
    "## 模組（套件）有三個來源\n",
    "\n",
    "- 標準模組（套件）。\n",
    "- 第三方模組（套件）。\n",
    "- 來自使用者的定義。"
   ]
  },
  {
   "cell_type": "markdown",
   "id": "technological-official",
   "metadata": {
    "slideshow": {
     "slide_type": "subslide"
    }
   },
   "source": [
    "## 使用 `import` 載入已安裝好的模組（套件）\n",
    "\n",
    "- 以 `module` 命名使用。\n",
    "- 或者以 `alias` 命名使用。\n",
    "- 模組中的函數、類別都用 `.` 來表示從屬關係。\n",
    "\n",
    "```python\n",
    "import module\n",
    "import module as alias\n",
    "```"
   ]
  },
  {
   "cell_type": "markdown",
   "id": "opponent-swedish",
   "metadata": {
    "slideshow": {
     "slide_type": "subslide"
    }
   },
   "source": [
    "## 使用 `from module import feature` 載入模組（套件）中的部分功能\n",
    "\n",
    "- 部分功能 `feature` 可以是函數或者類別。\n",
    "- 模組中的函數、類別都用 `.` 來表示從屬關係。\n",
    "\n",
    "```python\n",
    "from module import function_name # from module import function_name as alias\n",
    "from module import class_name    # from module import class_name as alias\n",
    "```"
   ]
  },
  {
   "cell_type": "markdown",
   "id": "mighty-schema",
   "metadata": {
    "slideshow": {
     "slide_type": "subslide"
    }
   },
   "source": [
    "## 標準模組（套件）\n",
    "\n",
    "- 伴隨 Python 直譯器（安裝來自 <https://www.python.org> 的版本）而來的模組套件。\n",
    "- <https://docs.python.org/3/library>"
   ]
  },
  {
   "cell_type": "code",
   "execution_count": 48,
   "id": "conventional-platinum",
   "metadata": {
    "slideshow": {
     "slide_type": "subslide"
    }
   },
   "outputs": [
    {
     "name": "stdout",
     "output_type": "stream",
     "text": [
      "8\n",
      "10\n",
      "11\n"
     ]
    }
   ],
   "source": [
    "# 標準模組（套件）\n",
    "import random\n",
    "import random as rand\n",
    "from random import randint\n",
    "\n",
    "print(random.randint(1, 11))\n",
    "print(rand.randint(1, 11))\n",
    "print(randint(1, 11))"
   ]
  },
  {
   "cell_type": "markdown",
   "id": "quarterly-syracuse",
   "metadata": {
    "slideshow": {
     "slide_type": "subslide"
    }
   },
   "source": [
    "## 第三方模組（套件）\n",
    "\n",
    "- 並非伴隨 Python 直譯器（安裝來自 <https://www.python.org> 的版本）而來的模組套件。\n",
    "- 載入前要確認在環境中第三方模組（套件）已經安裝妥當\n",
    "- 未安裝（或更新）在終端機（Anaconda Prompt) 以 `pip install -U module_name` 語法安裝（或更新）。"
   ]
  },
  {
   "cell_type": "markdown",
   "id": "liquid-nothing",
   "metadata": {
    "slideshow": {
     "slide_type": "subslide"
    }
   },
   "source": [
    "## 什麼是 `pip`？\n",
    "\n",
    "`pip` 是 Python 的模組（套件）管理系統，可以用來從 [PyPI（Python Package Index）](https://pypi.org/)下載、安裝和管理模組（套件），目前的 Python 版本都會預先安裝 `pip`。\n",
    "\n",
    "Source: <https://pip.pypa.io/en/stable>"
   ]
  },
  {
   "cell_type": "code",
   "execution_count": 49,
   "id": "prostate-conflict",
   "metadata": {
    "slideshow": {
     "slide_type": "subslide"
    }
   },
   "outputs": [
    {
     "name": "stdout",
     "output_type": "stream",
     "text": [
      "[9 3 9 9 1]\n",
      "[4 2 3 1 6]\n",
      "[1 9 6 8 2]\n"
     ]
    }
   ],
   "source": [
    "#第三方模組（套件）\n",
    "import numpy\n",
    "import numpy as np\n",
    "from numpy import random\n",
    "\n",
    "print(numpy.random.randint(1, 10, size=5))\n",
    "print(np.random.randint(1, 10, size=5))\n",
    "print(random.randint(1, 10, size=5))"
   ]
  },
  {
   "cell_type": "markdown",
   "id": "amateur-narrow",
   "metadata": {
    "slideshow": {
     "slide_type": "subslide"
    }
   },
   "source": [
    "## 標準以及第三方模組（套件）的安裝路徑\n",
    "\n",
    "- 標準模組（套件）安裝在 `path_to_python_env/lib/python3.x`。\n",
    "- 第三方模組（套件）安裝在 `path_to_python_env/lib/python3.x/site-packages`。"
   ]
  },
  {
   "cell_type": "markdown",
   "id": "entire-sapphire",
   "metadata": {
    "slideshow": {
     "slide_type": "subslide"
    }
   },
   "source": [
    "## 來自使用者的定義\n",
    "\n",
    "- 將函數、類別撰寫在工作目錄（Working directory）下副檔名為 `.py` 的檔案中。\n",
    "- 若有多個檔案可以用一個資料夾收納起來。\n",
    "- 檔案與資料夾就是模組（套件）命名，其中的函數、類別都用 `.` 來表示從屬關係。"
   ]
  },
  {
   "cell_type": "markdown",
   "id": "protective-reading",
   "metadata": {
    "slideshow": {
     "slide_type": "subslide"
    }
   },
   "source": [
    "## 在工作目錄新增 `simple_calculator.py`\n",
    "\n",
    "複製貼上後存檔。\n",
    "\n",
    "```python\n",
    "class SimpleCalculator:\n",
    "    \"\"\"\n",
    "    This class creates a simple calculator that has 2 attributes and 1 method.\n",
    "    \"\"\"\n",
    "    def __init__(self, a, b):\n",
    "        self.a = a\n",
    "        self.b = b\n",
    "    def __repr__(self):\n",
    "        out = \"a: {}, b: {}\".format(self.a, self.b)\n",
    "        return out\n",
    "    def add(self):\n",
    "        out = self.a + self.b\n",
    "        return out\n",
    "```"
   ]
  },
  {
   "cell_type": "code",
   "execution_count": 50,
   "id": "arctic-madison",
   "metadata": {
    "slideshow": {
     "slide_type": "subslide"
    }
   },
   "outputs": [
    {
     "name": "stdout",
     "output_type": "stream",
     "text": [
      "11\n"
     ]
    }
   ],
   "source": [
    "from simple_calculator import SimpleCalculator\n",
    "\n",
    "sc = SimpleCalculator(5, 6)\n",
    "print(sc.add())"
   ]
  },
  {
   "cell_type": "markdown",
   "id": "civic-fighter",
   "metadata": {
    "slideshow": {
     "slide_type": "subslide"
    }
   },
   "source": [
    "## 目前我們不需要自行建立模組（套件）\n",
    "\n",
    "但我們應該要能區分模組（套件）中的函數、類別以及實例化後物件的屬性、方法。"
   ]
  },
  {
   "cell_type": "code",
   "execution_count": 51,
   "id": "increased-cheat",
   "metadata": {
    "slideshow": {
     "slide_type": "subslide"
    }
   },
   "outputs": [
    {
     "name": "stdout",
     "output_type": "stream",
     "text": [
      "5\n",
      "28\n"
     ]
    }
   ],
   "source": [
    "import numpy as np\n",
    "\n",
    "arr = np.array([2, 3, 5, 7, 11])  # the function of numpy library\n",
    "print(arr.size)                   # the attribute of an arr object\n",
    "print(arr.sum())                  # the method of an arr object"
   ]
  }
 ],
 "metadata": {
  "celltoolbar": "Slideshow",
  "kernelspec": {
   "display_name": "Python Data Science",
   "language": "python",
   "name": "pyds"
  },
  "language_info": {
   "codemirror_mode": {
    "name": "ipython",
    "version": 3
   },
   "file_extension": ".py",
   "mimetype": "text/x-python",
   "name": "python",
   "nbconvert_exporter": "python",
   "pygments_lexer": "ipython3",
   "version": "3.8.10"
  }
 },
 "nbformat": 4,
 "nbformat_minor": 5
}
